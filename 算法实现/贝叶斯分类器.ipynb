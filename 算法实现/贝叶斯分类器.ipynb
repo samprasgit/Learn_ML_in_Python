{
 "cells": [
  {
   "cell_type": "markdown",
   "metadata": {},
   "source": [
    "在scikit中有许多种不同的朴素贝叶斯分类器，主要的区别在于假设了不同的条件分布"
   ]
  },
  {
   "cell_type": "code",
   "execution_count": 1,
   "metadata": {
    "ExecuteTime": {
     "end_time": "2019-07-01T10:01:05.876060Z",
     "start_time": "2019-07-01T10:00:40.168059Z"
    }
   },
   "outputs": [],
   "source": [
    "from sklearn import datasets,model_selection,naive_bayes\n",
    "import  numpy as np \n",
    "import matplotlib.pyplot as plt \n",
    "import seaborn as sns \n",
    "import warnings \n",
    "\n",
    "%matplotlib inline \n",
    "warnings.filterwarnings(\"ignore\")"
   ]
  },
  {
   "cell_type": "code",
   "execution_count": 2,
   "metadata": {
    "ExecuteTime": {
     "end_time": "2019-07-01T10:01:22.313058Z",
     "start_time": "2019-07-01T10:01:22.310058Z"
    }
   },
   "outputs": [],
   "source": [
    "def load_data():\n",
    "    digits=datasets.load_digits()\n",
    "    #分层抽样\n",
    "    return model_selection.train_test_split(digits.data,digits.target,test_size=0.25,\n",
    "                                            random_state=0)"
   ]
  },
  {
   "cell_type": "code",
   "execution_count": 8,
   "metadata": {
    "ExecuteTime": {
     "end_time": "2019-07-01T04:25:09.937392Z",
     "start_time": "2019-07-01T04:25:09.933391Z"
    }
   },
   "outputs": [],
   "source": [
    "#数据展示\n",
    "def show_dgits():\n",
    "    digits=datsets.digits()\n",
    "    fig=plt.figure()\n",
    "    print(\"vector from images 0 :\",digits.data[0] )\n",
    "    for i in range(25):\n",
    "        ax=fig.add_subplot(5,5,i+1)\n",
    "        ax.inshow(digits.images[i],cmap=plt.cm.gray_r,interpolation='nearest')\n",
    "    plt.show()\n",
    "    "
   ]
  },
  {
   "cell_type": "markdown",
   "metadata": {},
   "source": [
    "# GaussianNB分类器"
   ]
  },
  {
   "cell_type": "code",
   "execution_count": 16,
   "metadata": {
    "ExecuteTime": {
     "end_time": "2019-07-01T04:43:20.954378Z",
     "start_time": "2019-07-01T04:43:20.950348Z"
    }
   },
   "outputs": [],
   "source": [
    "#测试贝叶斯分类器的函数\n",
    "def test_GaussianNB(*data):\n",
    "    X_train,X_test,y_train,y_test=data \n",
    "    cls=naive_bayes.GaussianNB()\n",
    "    cls.fit(X_train,y_train)\n",
    "    print('Training Score:%.2f' %cls.score(X_train,y_train))\n",
    "    print('Testing Score:%.2f' %cls.score(X_test,y_test))\n",
    "    "
   ]
  },
  {
   "cell_type": "code",
   "execution_count": 17,
   "metadata": {
    "ExecuteTime": {
     "end_time": "2019-07-01T04:43:23.880364Z",
     "start_time": "2019-07-01T04:43:23.591349Z"
    }
   },
   "outputs": [
    {
     "name": "stdout",
     "output_type": "stream",
     "text": [
      "Training Score:0.85\n",
      "Testing Score:0.84\n"
     ]
    }
   ],
   "source": [
    "#调用test_GaussianNB函数\n",
    "X_train,X_test,y_train,y_test=load_data() \n",
    "test_GaussianNB(X_train,X_test,y_train,y_test)"
   ]
  },
  {
   "cell_type": "markdown",
   "metadata": {},
   "source": [
    "# MultinomialNB 分类器"
   ]
  },
  {
   "cell_type": "code",
   "execution_count": 22,
   "metadata": {
    "ExecuteTime": {
     "end_time": "2019-07-01T05:02:15.086456Z",
     "start_time": "2019-07-01T05:02:15.079453Z"
    }
   },
   "outputs": [],
   "source": [
    "def test_MultiomialNB(*data):\n",
    "    \"\"\"测试MultiomialNB的用法\"\"\"\n",
    "    X_train,X_test,y_train,y_test=data \n",
    "    cls=naive_bayes.MultinomialNB() \n",
    "    cls.fit(X_train,y_train)\n",
    "    print('Training Score:%.2f' % cls.score(X_train,y_train))\n",
    "    print('Testing Score:%.2f' %cls.score(X_test,y_test))\n",
    "\n",
    "    \n",
    "    \n",
    "def test_MultiomialNB_alpha(*data):\n",
    "    \"\"\"测试不同alpha对预测性能的影响\"\"\"\n",
    "    X_train,X_test,y_train,y_test=data\n",
    "    alphas=np.logspace(-2,5,200)\n",
    "    train_scores=[]\n",
    "    test_scores=[]\n",
    "    for alpha in alphas :\n",
    "        cls=naive_bayes.MultinomialNB(alpha=alpha)\n",
    "        cls.fit(X_train,y_train)\n",
    "        train_scores.append(cls.score(X_train,y_train))\n",
    "        test_scores.append(cls.score(X_test,y_test))\n",
    "        \n",
    "    #绘图\n",
    "    fig=plt.figure()\n",
    "    ax=fig.add_subplot(1,1,1)\n",
    "    ax.plot(alphas,train_scores,label='Training Score')\n",
    "    ax.plot(alphas,test_scores,label='Testing Score')\n",
    "    ax.set_xlabel(r'$\\alpha$')\n",
    "    ax.set_ylabel('0,1,0')\n",
    "    ax.set_title('MultiomialNB')\n",
    "    ax.set_xscale('log')\n",
    "    plt.show()\n",
    "    \n"
   ]
  },
  {
   "cell_type": "code",
   "execution_count": 20,
   "metadata": {
    "ExecuteTime": {
     "end_time": "2019-07-01T05:01:32.908454Z",
     "start_time": "2019-07-01T05:01:32.616456Z"
    }
   },
   "outputs": [
    {
     "name": "stdout",
     "output_type": "stream",
     "text": [
      "Training Score:0.91\n",
      "Testing Score:0.90\n"
     ]
    }
   ],
   "source": [
    "X_train,X_test,y_train,y_test=load_data() \n",
    "test_GaussianNB(X_train,X_test,y_train,y_test)"
   ]
  },
  {
   "cell_type": "code",
   "execution_count": 23,
   "metadata": {
    "ExecuteTime": {
     "end_time": "2019-07-01T05:02:30.866452Z",
     "start_time": "2019-07-01T05:02:30.080453Z"
    }
   },
   "outputs": [
    {
     "data": {
      "image/png": "[encoded data removed]",
      "text/plain": [
       "<Figure size 432x288 with 1 Axes>"
      ]
     },
     "metadata": {},
     "output_type": "display_data"
    }
   ],
   "source": [
    "X_train,X_test,y_train,y_test=load_data() \n",
    "test_MultiomialNB_alpha(X_train,X_test,y_train,y_test)\n",
    "sns.set_style('whitegrid')"
   ]
  },
  {
   "cell_type": "markdown",
   "metadata": {},
   "source": [
    "# BernoulliNB贝叶斯分类器"
   ]
  },
  {
   "cell_type": "code",
   "execution_count": 27,
   "metadata": {
    "ExecuteTime": {
     "end_time": "2019-07-01T05:29:52.875728Z",
     "start_time": "2019-07-01T05:29:52.793705Z"
    }
   },
   "outputs": [
    {
     "name": "stdout",
     "output_type": "stream",
     "text": [
      "Training Score:0.87\n",
      "Testing Score:0.87\n"
     ]
    }
   ],
   "source": [
    "def test_BernoulliNB(*data):\n",
    "    X_trian,X_test,y_train,y_test=data \n",
    "    cls=naive_bayes.BernoulliNB()\n",
    "    cls.fit(X_train,y_train)\n",
    "    print('Training Score:%.2f' %cls.score(X_train,y_train))\n",
    "\n",
    "    print('Testing Score:%.2f' %cls.score(X_test,y_test))\n",
    "    \n",
    "    \n",
    "X_train,X_test,y_train,y_test=load_data() \n",
    "test_BernoulliNB(X_train,X_test,y_train,y_test)\n"
   ]
  },
  {
   "cell_type": "code",
   "execution_count": 4,
   "metadata": {
    "ExecuteTime": {
     "end_time": "2019-07-01T10:04:59.112170Z",
     "start_time": "2019-07-01T10:04:57.807174Z"
    }
   },
   "outputs": [
    {
     "data": {
      "image/png": "[encoded data removed]",
      "text/plain": [
       "<Figure size 432x288 with 1 Axes>"
      ]
     },
     "metadata": {},
     "output_type": "display_data"
    }
   ],
   "source": [
    "def test_BernoulliNB_alpha(*data):\n",
    "    \"\"\"BernoulliNB预测性能好随着alpha参数的影响\"\"\"\n",
    "    X_train,X_test,y_train,y_test=data \n",
    "    alphas=np.logspace(-2,5,num=200)\n",
    "    train_scores=[]\n",
    "    test_scores=[]\n",
    "    for alpha in alphas:\n",
    "        cls=naive_bayes.BernoulliNB(alpha=alpha)#参数变化\n",
    "        cls.fit(X_train,y_train)\n",
    "        train_scores.append(cls.score(X_train,y_train))\n",
    "        test_scores.append(cls.score(X_test,y_test))\n",
    "    #绘图\n",
    "    \n",
    "    fig=plt.figure()\n",
    "    ax=fig.add_subplot(1,1,1)\n",
    "    ax.plot(alphas,train_scores,label='Training Score')\n",
    "    ax.plot(alphas,test_scores,label='Testing Score')\n",
    "    ax.set_xlabel(r'$\\alpha$')\n",
    "    ax.set_ylabel('scote')\n",
    "    ax.set_ylim(0,1,0)\n",
    "    ax.set_title('BernoulliNB')\n",
    "    ax.set_xscale('log')\n",
    "    ax.legend(loc='best')\n",
    "    plt.show()\n",
    "    \n",
    "    \n",
    "X_train,X_test,y_train,y_test=load_data() \n",
    "test_BernoulliNB_alpha(X_train,X_test,y_train,y_test)\n",
    "sns.set_style('whitegrid')"
   ]
  },
  {
   "cell_type": "code",
   "execution_count": 6,
   "metadata": {
    "ExecuteTime": {
     "end_time": "2019-07-01T10:12:06.946235Z",
     "start_time": "2019-07-01T10:12:06.205241Z"
    }
   },
   "outputs": [
    {
     "data": {
      "image/png": "[encoded data removed]",
      "text/plain": [
       "<Figure size 432x288 with 1 Axes>"
      ]
     },
     "metadata": {},
     "output_type": "display_data"
    }
   ],
   "source": [
    "def test_BernoulliNB_binarize(*data):\n",
    "    \"\"\"BernoulliNB预测性能好随着binarize参数的影响\"\"\"\n",
    "    X_train,X_test,y_train,y_test=data \n",
    "    min_x=min(np.min(X_train.ravel()),np.min(X_test.ravel()))-0.1\n",
    "    max_x=max(np.max(X_train.ravel()),np.max(X_test.ravel()))+0.1\n",
    "    binarizes=np.linspace(min_x,max_x,endpoint=True,num=100)\n",
    "    train_scores=[]\n",
    "    test_scores=[]\n",
    "    for binarize in binarizes:\n",
    "        cls=naive_bayes.BernoulliNB(binarize=binarize)\n",
    "        cls.fit(X_train,y_train)\n",
    "        train_scores.append(cls.score(X_train,y_train))\n",
    "        test_scores.append(cls.score(X_test,y_test))\n",
    "    #绘图\n",
    "    \n",
    "    fig=plt.figure()\n",
    "    ax=fig.add_subplot(1,1,1)\n",
    "    ax.plot(binarizes,train_scores,label='Training Score')\n",
    "    ax.plot(binarizes,test_scores,label='Testing Score')\n",
    "    ax.set_xlabel('binarize')\n",
    "    ax.set_ylabel('scote')\n",
    "    ax.set_ylim(0,1,0)\n",
    "    ax.set_title('BernoulliNB')\n",
    "    ax.set_xscale('log')\n",
    "    ax.legend(loc='best')\n",
    "    plt.show()\n",
    "    \n",
    "    \n",
    "X_train,X_test,y_train,y_test=load_data() \n",
    "test_BernoulliNB_binarize(X_train,X_test,y_train,y_test)\n",
    "sns.set_style('whitegrid')"
   ]
  },
  {
   "cell_type": "code",
   "execution_count": null,
   "metadata": {},
   "outputs": [],
   "source": []
  }
 ],
 "metadata": {
  "kernelspec": {
   "display_name": "Python 3",
   "language": "python",
   "name": "python3"
  },
  "language_info": {
   "codemirror_mode": {
    "name": "ipython",
    "version": 3
   },
   "file_extension": ".py",
   "mimetype": "text/x-python",
   "name": "python",
   "nbconvert_exporter": "python",
   "pygments_lexer": "ipython3",
   "version": "3.7.3"
  },
  "latex_envs": {
   "LaTeX_envs_menu_present": true,
   "autoclose": false,
   "autocomplete": true,
   "bibliofile": "biblio.bib",
   "cite_by": "apalike",
   "current_citInitial": 1,
   "eqLabelWithNumbers": true,
   "eqNumInitial": 1,
   "hotkeys": {
    "equation": "Ctrl-E",
    "itemize": "Ctrl-I"
   },
   "labels_anchors": false,
   "latex_user_defs": false,
   "report_style_numbering": false,
   "user_envs_cfg": false
  },
  "toc": {
   "base_numbering": 1,
   "nav_menu": {},
   "number_sections": true,
   "sideBar": true,
   "skip_h1_title": false,
   "title_cell": "Table of Contents",
   "title_sidebar": "Contents",
   "toc_cell": false,
   "toc_position": {},
   "toc_section_display": true,
   "toc_window_display": false
  }
 },
 "nbformat": 4,
 "nbformat_minor": 2
}
