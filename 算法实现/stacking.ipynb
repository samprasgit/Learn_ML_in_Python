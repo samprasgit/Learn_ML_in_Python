{
 "cells": [
  {
   "cell_type": "markdown",
   "metadata": {},
   "source": [
    "# mlxtend库\n",
    "## 使用前面分类器产生的特征输出作为最后总的meta-classifier的输入数据"
   ]
  },
  {
   "cell_type": "code",
   "execution_count": 1,
   "metadata": {
    "ExecuteTime": {
     "end_time": "2019-06-30T02:44:36.743795Z",
     "start_time": "2019-06-30T02:44:07.322235Z"
    }
   },
   "outputs": [],
   "source": [
    "from sklearn import datasets\n",
    "from sklearn import model_selection\n",
    "from sklearn.linear_model import LogisticRegression\n",
    "from sklearn.neighbors import KNeighborsClassifier \n",
    "from sklearn.naive_bayes import GaussianNB \n",
    "from sklearn.ensemble import RandomForestClassifier \n",
    "from mlxtend.classifier import StackingClassifier \n",
    "import warnings\n",
    "warnings.filterwarnings(\"ignore\")\n",
    "import numpy as np "
   ]
  },
  {
   "cell_type": "code",
   "execution_count": 2,
   "metadata": {
    "ExecuteTime": {
     "end_time": "2019-06-30T02:45:08.255604Z",
     "start_time": "2019-06-30T02:45:07.656143Z"
    }
   },
   "outputs": [
    {
     "name": "stdout",
     "output_type": "stream",
     "text": [
      "3-fold cross validation:\n",
      "\n",
      "Accuracy :0.91 (+?- 0.01 ) [KNN]\n",
      "Accuracy :0.93 (+?- 0.05 ) [Random Forest]\n",
      "Accuracy :0.92 (+?- 0.03 ) [Naive Bayes]\n",
      "Accuracy :0.95 (+?- 0.03 ) [SatckingClassifier ]\n"
     ]
    }
   ],
   "source": [
    "iris=datasets.load_iris() \n",
    "X,y=iris.data[:,1:3],iris.target\n",
    "\n",
    "clf1=KNeighborsClassifier(n_neighbors=1)\n",
    "clf2=RandomForestClassifier(random_state=1)\n",
    "clf3=GaussianNB()\n",
    "lr=LogisticRegression()\n",
    "sclf=StackingClassifier(classifiers=[clf1,clf2,clf3],meta_classifier=lr)\n",
    "print('3-fold cross validation:\\n')\n",
    "for clf,label in zip([clf1,clf2,clf3,sclf],['KNN','Random Forest','Naive Bayes','SatckingClassifier ']):\n",
    "    scores=model_selection.cross_val_score(clf,X,y,cv=3,scoring='accuracy')\n",
    "    print(\"Accuracy :%0.2f (+?- %0.2f ) [%s]\" % (scores.mean(),scores.std(),label))"
   ]
  },
  {
   "cell_type": "markdown",
   "metadata": {},
   "source": [
    "## 使用第一层基本分类器产生的类别概率值作为meta-classfier的输入，这种情况下需要将StackingClassifier的参数设置为 use_probas=True。如果将参数设置为 average_probas=True，那么这些基分类器对每一个类别产生的概率值会被平均，否则会拼接\n"
   ]
  },
  {
   "cell_type": "code",
   "execution_count": 3,
   "metadata": {
    "ExecuteTime": {
     "end_time": "2019-06-30T02:45:14.564364Z",
     "start_time": "2019-06-30T02:45:14.480367Z"
    }
   },
   "outputs": [
    {
     "name": "stdout",
     "output_type": "stream",
     "text": [
      "3-fold cross validation:\n",
      "\n",
      "Accuracy :0.91 (+?- 0.01 ) [KNN]\n",
      "Accuracy :0.93 (+?- 0.05 ) [Random Forest]\n",
      "Accuracy :0.92 (+?- 0.03 ) [Naive Bayes]\n",
      "Accuracy :0.94 (+?- 0.03 ) [SatckingClassifier ]\n"
     ]
    }
   ],
   "source": [
    "iris=datasets.load_iris() \n",
    "X,y=iris.data[:,1:3],iris.target\n",
    "\n",
    "clf1=KNeighborsClassifier(n_neighbors=1)\n",
    "clf2=RandomForestClassifier(random_state=1)\n",
    "clf3=GaussianNB()\n",
    "lr=LogisticRegression()\n",
    "sclf=StackingClassifier(classifiers=[clf1,clf2,clf3],use_probas=True,average_probas=False,meta_classifier=lr)\n",
    "print('3-fold cross validation:\\n')\n",
    "for clf,label in zip([clf1,clf2,clf3,sclf],['KNN','Random Forest','Naive Bayes','SatckingClassifier ']):\n",
    "    scores=model_selection.cross_val_score(clf,X,y,cv=3,scoring='accuracy')\n",
    "    print(\"Accuracy :%0.2f (+?- %0.2f ) [%s]\" % (scores.mean(),scores.std(),label))"
   ]
  },
  {
   "cell_type": "markdown",
   "metadata": {},
   "source": [
    "## 对训练基中的特征维度进行操作的，这次不是给每一个基分类器全部的特征，而是给不同的基分类器分不同的特征，即比如基分类器1训练前半部分特征，基分类器2训练后半部分特征（可以通过sklearn 的pipelines 实现）。最终通过StackingClassifier组合起来"
   ]
  },
  {
   "cell_type": "code",
   "execution_count": 4,
   "metadata": {
    "ExecuteTime": {
     "end_time": "2019-06-30T02:45:17.948243Z",
     "start_time": "2019-06-30T02:45:17.719202Z"
    }
   },
   "outputs": [],
   "source": [
    "from sklearn.datasets import load_iris \n",
    "from mlxtend.classifier import StackingClassifier \n",
    "from mlxtend.feature_selection import ColumnSelector\n",
    "from sklearn.pipeline import make_pipeline \n",
    "from sklearn.linear_model import LogisticRegression  \n",
    "iris=load_iris()\n",
    "X=iris.data \n",
    "y=iris.target  \n",
    "\n"
   ]
  },
  {
   "cell_type": "code",
   "execution_count": 5,
   "metadata": {
    "ExecuteTime": {
     "end_time": "2019-06-30T02:45:23.172043Z",
     "start_time": "2019-06-30T02:45:23.153040Z"
    }
   },
   "outputs": [
    {
     "data": {
      "text/plain": [
       "StackingClassifier(average_probas=False,\n",
       "          classifiers=[Pipeline(memory=None,\n",
       "     steps=[('columnselector', ColumnSelector(cols=(0, 2), drop_axis=False)), ('logisticregression', LogisticRegression(C=1.0, class_weight=None, dual=False, fit_intercept=True,\n",
       "          intercept_scaling=1, max_iter=100, multi_class='warn',\n",
       "          n_jobs=None,...nalty='l2', random_state=None, solver='warn',\n",
       "          tol=0.0001, verbose=0, warm_start=False))])],\n",
       "          drop_last_proba=False,\n",
       "          meta_classifier=LogisticRegression(C=1.0, class_weight=None, dual=False, fit_intercept=True,\n",
       "          intercept_scaling=1, max_iter=100, multi_class='warn',\n",
       "          n_jobs=None, penalty='l2', random_state=None, solver='warn',\n",
       "          tol=0.0001, verbose=0, warm_start=False),\n",
       "          store_train_meta_features=False, use_clones=True,\n",
       "          use_features_in_secondary=False, use_probas=False, verbose=0)"
      ]
     },
     "execution_count": 5,
     "metadata": {},
     "output_type": "execute_result"
    }
   ],
   "source": [
    "pipe1=make_pipeline(ColumnSelector(cols=(0,2)),LogisticRegression())\n",
    "pipe2=make_pipeline(ColumnSelector(cols=(1,2,3)),LogisticRegression())\n",
    "sclf=StackingClassifier(classifiers=[pipe1,pipe2],meta_classifier=LogisticRegression())\n",
    "sclf.fit(X,y)"
   ]
  },
  {
   "cell_type": "code",
   "execution_count": null,
   "metadata": {},
   "outputs": [],
   "source": []
  }
 ],
 "metadata": {
  "kernelspec": {
   "display_name": "Python 3",
   "language": "python",
   "name": "python3"
  },
  "language_info": {
   "codemirror_mode": {
    "name": "ipython",
    "version": 3
   },
   "file_extension": ".py",
   "mimetype": "text/x-python",
   "name": "python",
   "nbconvert_exporter": "python",
   "pygments_lexer": "ipython3",
   "version": "3.7.0"
  },
  "latex_envs": {
   "LaTeX_envs_menu_present": true,
   "autoclose": false,
   "autocomplete": true,
   "bibliofile": "biblio.bib",
   "cite_by": "apalike",
   "current_citInitial": 1,
   "eqLabelWithNumbers": true,
   "eqNumInitial": 1,
   "hotkeys": {
    "equation": "Ctrl-E",
    "itemize": "Ctrl-I"
   },
   "labels_anchors": false,
   "latex_user_defs": false,
   "report_style_numbering": false,
   "user_envs_cfg": false
  },
  "toc": {
   "base_numbering": 1,
   "nav_menu": {},
   "number_sections": true,
   "sideBar": true,
   "skip_h1_title": false,
   "title_cell": "Table of Contents",
   "title_sidebar": "Contents",
   "toc_cell": false,
   "toc_position": {},
   "toc_section_display": true,
   "toc_window_display": false
  }
 },
 "nbformat": 4,
 "nbformat_minor": 2
}
