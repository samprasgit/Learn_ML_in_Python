{
 "cells": [
  {
   "cell_type": "markdown",
   "metadata": {},
   "source": [
    "# FastText工具实现\n",
    "## FastText优势\n",
    "\n",
    "在保持较高精度的情况下, 快速的进行训练和预测\n",
    "    \n",
    "    fasttext工具包中内含的fasttext模型具有十分简单的网络结构\n",
    "    使用fasttext模型训练词向量时使用层次softmax结构, 来提升超多类别下的模型性能\n",
    "    由于fasttext模型过于简单无法捕捉词序特征, 因此会进行n-gram特征提取以弥补模型缺陷提升精度\n"
   ]
  },
  {
   "cell_type": "code",
   "execution_count": null,
   "metadata": {},
   "outputs": [],
   "source": [
    "# 安装\n",
    "git clone https://github.com/facebookresearch/fastText.git\n",
    "cd fastText\n",
    "# 使用pip安装python中的fasttext工具包\n",
    "sudo pip install ."
   ]
  },
  {
   "cell_type": "markdown",
   "metadata": {},
   "source": [
    "## 文本分类\n",
    "\n",
    "+ 二分类：\n",
    "    - 文本被分类两个类别中, 往往这两个类别是对立面, 比如: 判断一句评论是好评还是差评\n",
    "    \n",
    "+ 单标签多分类：\n",
    "    - 文本被分入到多个类别中, 且每条文本只能属于某一个类别(即被打上某一个标签), 比如: 输入一个人名, 判断它是来自哪个国家的人名\n",
    "    \n",
    "+ 多标签多分类：\n",
    "    - 文本被分人到多个类别中, 但每条文本可以属于多个类别(即被打上多个标签), 比如: 输入一段描述, 判断可能是和哪些兴趣爱好有关, 一段描述中可能即讨论了美食, 又太讨论了游戏爱好\n"
   ]
  },
  {
   "cell_type": "markdown",
   "metadata": {},
   "source": [
    "## 使用fasttext工具进行文本分类的过程\n",
    "\n",
    "1. 获取数据\n",
    "\n",
    "2. 训练集与验证集的划分\n",
    "\n",
    "3. 训练模型\n",
    "\n",
    "4. 使用模型进行预测并评估\n",
    "\n",
    "5. 模型调优\n",
    "\n",
    "6. 模型保存与重加载"
   ]
  },
  {
   "cell_type": "markdown",
   "metadata": {},
   "source": [
    "## 获取数据\n",
    "\n",
    "facebook AI实验室提供的演示数据集\n",
    "\n",
    "cooking.stackexchange.txt中的每一行都包含一个标签列表，后跟相应的文档, 标签列表以类似\"__label__sauce __label__cheese\"的形式展现, 代表有两个标签sauce和cheese, 所有标签__label__均以前缀开头，这是fastText识别标签或单词的方式. 标签之后的一段话就是文本信息.如: How much does potato starch affect a cheese sauce recipe?\n"
   ]
  },
  {
   "cell_type": "code",
   "execution_count": 2,
   "metadata": {
    "ExecuteTime": {
     "end_time": "2020-07-06T13:08:37.263010Z",
     "start_time": "2020-07-06T13:08:35.546898Z"
    }
   },
   "outputs": [
    {
     "name": "stdout",
     "output_type": "stream",
     "text": [
      "--2020-07-06 21:08:35--  https://dl.fbaipublicfiles.com/fasttext/data/cooking.stackexchange.tar.gz\n",
      "正在解析主机 dl.fbaipublicfiles.com (dl.fbaipublicfiles.com)... 172.67.9.4, 104.22.75.142, 104.22.74.142\n",
      "正在连接 dl.fbaipublicfiles.com (dl.fbaipublicfiles.com)|172.67.9.4|:443... 已连接。\n",
      "已发出 HTTP 请求，正在等待回应... 200 OK\n",
      "长度：457609 (447K) [application/x-tar]\n",
      "正在保存至: “cooking.stackexchange.tar.gz.1”\n",
      "\n",
      "cooking.stackexchan 100%[===================>] 446.88K  1.04MB/s  用时 0.4s      \n",
      "\n",
      "2020-07-06 21:08:37 (1.04 MB/s) - 已保存 “cooking.stackexchange.tar.gz.1” [457609/457609])\n",
      "\n",
      "x cooking.stackexchange.id\n",
      "x cooking.stackexchange.txt\n",
      "x readme.txt\n",
      "__label__sauce __label__cheese How much does potato starch affect a cheese sauce recipe?\n",
      "__label__food-safety __label__acidity Dangerous pathogens capable of growing in acidic environments\n",
      "__label__cast-iron __label__stove How do I cover up the white spots on my cast iron stove?\n",
      "__label__restaurant Michelin Three Star Restaurant; but if the chef is not there\n",
      "__label__knife-skills __label__dicing Without knife skills, how can I quickly and accurately dice vegetables?\n",
      "__label__storage-method __label__equipment __label__bread What's the purpose of a bread box?\n",
      "__label__baking __label__food-safety __label__substitutions __label__peanuts how to seperate peanut oil from roasted peanuts at home?\n",
      "__label__chocolate American equivalent for British chocolate terms\n",
      "__label__baking __label__oven __label__convection Fan bake vs bake\n",
      "__label__sauce __label__storage-lifetime __label__acidity __label__mayonnaise Regulation and balancing of readymade packed mayonnaise and other sauces\n"
     ]
    }
   ],
   "source": [
    "!wget https://dl.fbaipublicfiles.com/fasttext/data/cooking.stackexchange.tar.gz && tar xvzf cooking.stackexchange.tar.gz\n",
    "!head cooking.stackexchange.txt    "
   ]
  },
  {
   "cell_type": "markdown",
   "metadata": {},
   "source": [
    "## 数据集划分"
   ]
  },
  {
   "cell_type": "code",
   "execution_count": 3,
   "metadata": {
    "ExecuteTime": {
     "end_time": "2020-07-06T13:10:04.710250Z",
     "start_time": "2020-07-06T13:10:04.577016Z"
    }
   },
   "outputs": [
    {
     "name": "stdout",
     "output_type": "stream",
     "text": [
      "   15404  169582 1401900 cooking.stackexchange.txt\r\n"
     ]
    }
   ],
   "source": [
    "# 查看数据集\n",
    "!wc cooking.stackexchange.txt"
   ]
  },
  {
   "cell_type": "code",
   "execution_count": 4,
   "metadata": {
    "ExecuteTime": {
     "end_time": "2020-07-06T13:10:57.772236Z",
     "start_time": "2020-07-06T13:10:56.673829Z"
    }
   },
   "outputs": [
    {
     "name": "stdout",
     "output_type": "stream",
     "text": [
      "FastText文本分类.ipynb         cooking.train\r\n",
      "cooking.stackexchange.id       cooking.valid\r\n",
      "cooking.stackexchange.tar.gz   readme.md\r\n",
      "cooking.stackexchange.tar.gz.1 readme.txt\r\n",
      "cooking.stackexchange.txt\r\n"
     ]
    }
   ],
   "source": [
    "# 12404条数据作为训练数据\n",
    "! head -n 12404 cooking.stackexchange.txt > cooking.train\n",
    "# 3000条数据作为验证数据\n",
    "! tail -n 3000 cooking.stackexchange.txt > cooking.valid\n",
    "! ls "
   ]
  },
  {
   "cell_type": "markdown",
   "metadata": {},
   "source": [
    "## 模型训练"
   ]
  },
  {
   "cell_type": "code",
   "execution_count": 8,
   "metadata": {
    "ExecuteTime": {
     "end_time": "2020-07-06T15:33:49.429246Z",
     "start_time": "2020-07-06T15:33:48.093776Z"
    }
   },
   "outputs": [],
   "source": [
    "import fasttext\n",
    "# 使用fasttext的train_supervised方法进行文本分类模型的训练\n",
    "model = fasttext.train_supervised(input=\"cooking.train\")  "
   ]
  },
  {
   "cell_type": "code",
   "execution_count": 10,
   "metadata": {
    "ExecuteTime": {
     "end_time": "2020-07-06T15:35:28.153673Z",
     "start_time": "2020-07-06T15:35:28.149206Z"
    }
   },
   "outputs": [
    {
     "data": {
      "text/plain": [
       "(('__label__food-safety',), array([0.06222661]))"
      ]
     },
     "execution_count": 10,
     "metadata": {},
     "output_type": "execute_result"
    }
   ],
   "source": [
    "# 通过我们常识可知预测是错误的\n",
    "model.predict(\"Why not put knives in the dishwasher?\")"
   ]
  },
  {
   "cell_type": "code",
   "execution_count": 11,
   "metadata": {
    "ExecuteTime": {
     "end_time": "2020-07-06T15:36:00.126227Z",
     "start_time": "2020-07-06T15:35:59.878614Z"
    }
   },
   "outputs": [
    {
     "data": {
      "text/plain": [
       "(3000, 0.15266666666666667, 0.06602277641631829)"
      ]
     },
     "execution_count": 11,
     "metadata": {},
     "output_type": "execute_result"
    }
   ],
   "source": [
    "# 为了评估模型到底表现如何, 我们在3000条的验证集上进行测试\n",
    "model.test(\"cooking.valid\")\n",
    "# 元组中的每项分别代表, 验证集样本数量, 精度以及召回率 \n",
    "# 我们看到模型精度和召回率表现都很差, 接下来我们讲学习如何进行优化.\n"
   ]
  },
  {
   "cell_type": "markdown",
   "metadata": {
    "ExecuteTime": {
     "end_time": "2020-07-06T13:13:45.454330Z",
     "start_time": "2020-07-06T13:13:05.344531Z"
    }
   },
   "source": [
    "## 模型预测与评估\n"
   ]
  },
  {
   "cell_type": "code",
   "execution_count": 9,
   "metadata": {
    "ExecuteTime": {
     "end_time": "2020-07-06T15:34:40.064472Z",
     "start_time": "2020-07-06T15:34:40.055184Z"
    }
   },
   "outputs": [
    {
     "data": {
      "text/plain": [
       "(('__label__baking',), array([0.05981867]))"
      ]
     },
     "execution_count": 9,
     "metadata": {},
     "output_type": "execute_result"
    }
   ],
   "source": [
    "# 使用模型预测一段输入文本, 通过我们常识, 可知预测是正确的, 但是对应预测概率并不大\n",
    "model.predict(\"a\")"
   ]
  },
  {
   "cell_type": "markdown",
   "metadata": {},
   "source": [
    "## 模型调优"
   ]
  },
  {
   "cell_type": "code",
   "execution_count": 14,
   "metadata": {
    "ExecuteTime": {
     "end_time": "2020-07-06T15:41:10.717276Z",
     "start_time": "2020-07-06T15:41:09.405407Z"
    }
   },
   "outputs": [],
   "source": [
    "# 数据预处理\n",
    "# 规范化  标点符号与单词相连以及大小写不统一\n",
    "! cat cooking.stackexchange.txt | sed -e \"s/\\([.\\!?,'/()]\\)/ \\1 /g\" | tr \"[:upper:]\" \"[:lower:]\" > cooking.preprocessed.txt\n",
    "! head -n 12404 cooking.preprocessed.txt > cooking.train\n",
    "! tail -n 3000 cooking.preprocessed.txt > cooking.valid"
   ]
  },
  {
   "cell_type": "code",
   "execution_count": 16,
   "metadata": {
    "ExecuteTime": {
     "end_time": "2020-07-06T15:41:46.475359Z",
     "start_time": "2020-07-06T15:41:46.347282Z"
    },
    "scrolled": true
   },
   "outputs": [
    {
     "name": "stdout",
     "output_type": "stream",
     "text": [
      "__label__sauce __label__cheese how much does potato starch affect a cheese sauce recipe ? \r\n",
      "__label__food-safety __label__acidity dangerous pathogens capable of growing in acidic environments\r\n",
      "__label__cast-iron __label__stove how do i cover up the white spots on my cast iron stove ? \r\n",
      "__label__restaurant michelin three star restaurant; but if the chef is not there\r\n",
      "__label__knife-skills __label__dicing without knife skills ,  how can i quickly and accurately dice vegetables ? \r\n",
      "__label__storage-method __label__equipment __label__bread what ' s the purpose of a bread box ? \r\n",
      "__label__baking __label__food-safety __label__substitutions __label__peanuts how to seperate peanut oil from roasted peanuts at home ? \r\n",
      "__label__chocolate american equivalent for british chocolate terms\r\n",
      "__label__baking __label__oven __label__convection fan bake vs bake\r\n",
      "__label__sauce __label__storage-lifetime __label__acidity __label__mayonnaise regulation and balancing of readymade packed mayonnaise and other sauces\r\n"
     ]
    }
   ],
   "source": [
    "! head cooking.train"
   ]
  },
  {
   "cell_type": "code",
   "execution_count": 17,
   "metadata": {
    "ExecuteTime": {
     "end_time": "2020-07-06T15:42:23.962823Z",
     "start_time": "2020-07-06T15:42:22.441125Z"
    }
   },
   "outputs": [],
   "source": [
    "# 重新训练\n",
    "model = fasttext.train_supervised(input=\"cooking.train\")"
   ]
  },
  {
   "cell_type": "code",
   "execution_count": 18,
   "metadata": {
    "ExecuteTime": {
     "end_time": "2020-07-06T15:42:40.364452Z",
     "start_time": "2020-07-06T15:42:40.123868Z"
    }
   },
   "outputs": [
    {
     "data": {
      "text/plain": [
       "(3000, 0.17133333333333334, 0.07409543030128297)"
      ]
     },
     "execution_count": 18,
     "metadata": {},
     "output_type": "execute_result"
    }
   ],
   "source": [
    "model.test(\"cooking.valid\")"
   ]
  },
  {
   "cell_type": "markdown",
   "metadata": {},
   "source": [
    "# Pytorch实现"
   ]
  },
  {
   "cell_type": "code",
   "execution_count": 19,
   "metadata": {
    "ExecuteTime": {
     "end_time": "2020-07-06T15:42:58.875132Z",
     "start_time": "2020-07-06T15:42:57.437620Z"
    }
   },
   "outputs": [
    {
     "data": {
      "text/plain": [
       "<fasttext.FastText._FastText at 0x7ffe71be7e50>"
      ]
     },
     "execution_count": 19,
     "metadata": {},
     "output_type": "execute_result"
    }
   ],
   "source": []
  },
  {
   "cell_type": "code",
   "execution_count": null,
   "metadata": {},
   "outputs": [],
   "source": []
  }
 ],
 "metadata": {
  "kernelspec": {
   "display_name": "Python 3",
   "language": "python",
   "name": "python3"
  },
  "language_info": {
   "codemirror_mode": {
    "name": "ipython",
    "version": 3
   },
   "file_extension": ".py",
   "mimetype": "text/x-python",
   "name": "python",
   "nbconvert_exporter": "python",
   "pygments_lexer": "ipython3",
   "version": "3.7.6"
  },
  "toc": {
   "base_numbering": 1,
   "nav_menu": {},
   "number_sections": true,
   "sideBar": true,
   "skip_h1_title": false,
   "title_cell": "Table of Contents",
   "title_sidebar": "Contents",
   "toc_cell": false,
   "toc_position": {},
   "toc_section_display": true,
   "toc_window_display": false
  }
 },
 "nbformat": 4,
 "nbformat_minor": 4
}
