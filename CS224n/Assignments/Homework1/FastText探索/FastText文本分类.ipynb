{
 "cells": [
  {
   "cell_type": "markdown",
   "metadata": {},
   "source": [
    "# FastText工具实现\n",
    "## FastText优势\n",
    "\n",
    "在保持较高精度的情况下, 快速的进行训练和预测\n",
    "    \n",
    "    fasttext工具包中内含的fasttext模型具有十分简单的网络结构\n",
    "    使用fasttext模型训练词向量时使用层次softmax结构, 来提升超多类别下的模型性能\n",
    "    由于fasttext模型过于简单无法捕捉词序特征, 因此会进行n-gram特征提取以弥补模型缺陷提升精度\n"
   ]
  },
  {
   "cell_type": "code",
   "execution_count": null,
   "metadata": {},
   "outputs": [],
   "source": [
    "# 安装\n",
    "git clone https://github.com/facebookresearch/fastText.git\n",
    "cd fastText\n",
    "# 使用pip安装python中的fasttext工具包\n",
    "sudo pip install ."
   ]
  },
  {
   "cell_type": "markdown",
   "metadata": {},
   "source": [
    "## 文本分类\n",
    "\n",
    "+ 二分类：\n",
    "    - 文本被分类两个类别中, 往往这两个类别是对立面, 比如: 判断一句评论是好评还是差评\n",
    "    \n",
    "+ 单标签多分类：\n",
    "    - 文本被分入到多个类别中, 且每条文本只能属于某一个类别(即被打上某一个标签), 比如: 输入一个人名, 判断它是来自哪个国家的人名\n",
    "    \n",
    "+ 多标签多分类：\n",
    "    - 文本被分人到多个类别中, 但每条文本可以属于多个类别(即被打上多个标签), 比如: 输入一段描述, 判断可能是和哪些兴趣爱好有关, 一段描述中可能即讨论了美食, 又太讨论了游戏爱好\n"
   ]
  },
  {
   "cell_type": "markdown",
   "metadata": {},
   "source": [
    "## 使用fasttext工具进行文本分类的过程\n",
    "\n",
    "1. 获取数据\n",
    "\n",
    "2. 训练集与验证集的划分\n",
    "\n",
    "3. 训练模型\n",
    "\n",
    "4. 使用模型进行预测并评估\n",
    "\n",
    "5. 模型调优\n",
    "\n",
    "6. 模型保存与重加载"
   ]
  },
  {
   "cell_type": "markdown",
   "metadata": {},
   "source": [
    "## 获取数据\n",
    "\n",
    "facebook AI实验室提供的演示数据集\n",
    "\n",
    "cooking.stackexchange.txt中的每一行都包含一个标签列表，后跟相应的文档, 标签列表以类似\"__label__sauce __label__cheese\"的形式展现, 代表有两个标签sauce和cheese, 所有标签__label__均以前缀开头，这是fastText识别标签或单词的方式. 标签之后的一段话就是文本信息.如: How much does potato starch affect a cheese sauce recipe?\n"
   ]
  },
  {
   "cell_type": "code",
   "execution_count": 2,
   "metadata": {
    "ExecuteTime": {
     "end_time": "2020-07-06T13:08:37.263010Z",
     "start_time": "2020-07-06T13:08:35.546898Z"
    }
   },
   "outputs": [
    {
     "name": "stdout",
     "output_type": "stream",
     "text": [
      "--2020-07-06 21:08:35--  https://dl.fbaipublicfiles.com/fasttext/data/cooking.stackexchange.tar.gz\n",
      "正在解析主机 dl.fbaipublicfiles.com (dl.fbaipublicfiles.com)... 172.67.9.4, 104.22.75.142, 104.22.74.142\n",
      "正在连接 dl.fbaipublicfiles.com (dl.fbaipublicfiles.com)|172.67.9.4|:443... 已连接。\n",
      "已发出 HTTP 请求，正在等待回应... 200 OK\n",
      "长度：457609 (447K) [application/x-tar]\n",
      "正在保存至: “cooking.stackexchange.tar.gz.1”\n",
      "\n",
      "cooking.stackexchan 100%[===================>] 446.88K  1.04MB/s  用时 0.4s      \n",
      "\n",
      "2020-07-06 21:08:37 (1.04 MB/s) - 已保存 “cooking.stackexchange.tar.gz.1” [457609/457609])\n",
      "\n",
      "x cooking.stackexchange.id\n",
      "x cooking.stackexchange.txt\n",
      "x readme.txt\n",
      "__label__sauce __label__cheese How much does potato starch affect a cheese sauce recipe?\n",
      "__label__food-safety __label__acidity Dangerous pathogens capable of growing in acidic environments\n",
      "__label__cast-iron __label__stove How do I cover up the white spots on my cast iron stove?\n",
      "__label__restaurant Michelin Three Star Restaurant; but if the chef is not there\n",
      "__label__knife-skills __label__dicing Without knife skills, how can I quickly and accurately dice vegetables?\n",
      "__label__storage-method __label__equipment __label__bread What's the purpose of a bread box?\n",
      "__label__baking __label__food-safety __label__substitutions __label__peanuts how to seperate peanut oil from roasted peanuts at home?\n",
      "__label__chocolate American equivalent for British chocolate terms\n",
      "__label__baking __label__oven __label__convection Fan bake vs bake\n",
      "__label__sauce __label__storage-lifetime __label__acidity __label__mayonnaise Regulation and balancing of readymade packed mayonnaise and other sauces\n"
     ]
    }
   ],
   "source": [
    "!wget https://dl.fbaipublicfiles.com/fasttext/data/cooking.stackexchange.tar.gz && tar xvzf cooking.stackexchange.tar.gz\n",
    "!head cooking.stackexchange.txt    "
   ]
  },
  {
   "cell_type": "markdown",
   "metadata": {},
   "source": [
    "## 数据集划分"
   ]
  },
  {
   "cell_type": "code",
   "execution_count": 3,
   "metadata": {
    "ExecuteTime": {
     "end_time": "2020-07-06T13:10:04.710250Z",
     "start_time": "2020-07-06T13:10:04.577016Z"
    }
   },
   "outputs": [
    {
     "name": "stdout",
     "output_type": "stream",
     "text": [
      "   15404  169582 1401900 cooking.stackexchange.txt\r\n"
     ]
    }
   ],
   "source": [
    "# 查看数据集\n",
    "!wc cooking.stackexchange.txt"
   ]
  },
  {
   "cell_type": "code",
   "execution_count": 4,
   "metadata": {
    "ExecuteTime": {
     "end_time": "2020-07-06T13:10:57.772236Z",
     "start_time": "2020-07-06T13:10:56.673829Z"
    }
   },
   "outputs": [
    {
     "name": "stdout",
     "output_type": "stream",
     "text": [
      "FastText文本分类.ipynb         cooking.train\r\n",
      "cooking.stackexchange.id       cooking.valid\r\n",
      "cooking.stackexchange.tar.gz   readme.md\r\n",
      "cooking.stackexchange.tar.gz.1 readme.txt\r\n",
      "cooking.stackexchange.txt\r\n"
     ]
    }
   ],
   "source": [
    "# 12404条数据作为训练数据\n",
    "! head -n 12404 cooking.stackexchange.txt > cooking.train\n",
    "# 3000条数据作为验证数据\n",
    "! tail -n 3000 cooking.stackexchange.txt > cooking.valid\n",
    "! ls "
   ]
  },
  {
   "cell_type": "markdown",
   "metadata": {},
   "source": [
    "## 模型训练"
   ]
  },
  {
   "cell_type": "code",
   "execution_count": 5,
   "metadata": {
    "ExecuteTime": {
     "end_time": "2020-07-06T13:12:34.692208Z",
     "start_time": "2020-07-06T13:12:32.932238Z"
    }
   },
   "outputs": [],
   "source": [
    "import fasttext\n",
    "# 使用fasttext的train_supervised方法进行文本分类模型的训练\n",
    "model = fasttext.train_supervised(input=\"cooking.train\")"
   ]
  },
  {
   "cell_type": "code",
   "execution_count": 7,
   "metadata": {
    "ExecuteTime": {
     "end_time": "2020-07-06T13:13:45.454330Z",
     "start_time": "2020-07-06T13:13:05.344531Z"
    }
   },
   "outputs": [
    {
     "name": "stdout",
     "output_type": "stream",
     "text": [
      "^C\r\n"
     ]
    }
   ],
   "source": [
    "print(model)"
   ]
  },
  {
   "cell_type": "markdown",
   "metadata": {},
   "source": [
    "# Pytorch实现"
   ]
  },
  {
   "cell_type": "code",
   "execution_count": null,
   "metadata": {},
   "outputs": [],
   "source": []
  }
 ],
 "metadata": {
  "kernelspec": {
   "display_name": "Python 3",
   "language": "python",
   "name": "python3"
  },
  "language_info": {
   "codemirror_mode": {
    "name": "ipython",
    "version": 3
   },
   "file_extension": ".py",
   "mimetype": "text/x-python",
   "name": "python",
   "nbconvert_exporter": "python",
   "pygments_lexer": "ipython3",
   "version": "3.7.6"
  },
  "toc": {
   "base_numbering": 1,
   "nav_menu": {},
   "number_sections": true,
   "sideBar": true,
   "skip_h1_title": false,
   "title_cell": "Table of Contents",
   "title_sidebar": "Contents",
   "toc_cell": false,
   "toc_position": {},
   "toc_section_display": true,
   "toc_window_display": false
  }
 },
 "nbformat": 4,
 "nbformat_minor": 4
}
