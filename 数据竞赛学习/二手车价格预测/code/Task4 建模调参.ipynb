{
 "cells": [
  {
   "cell_type": "code",
   "execution_count": 1,
   "metadata": {
    "ExecuteTime": {
     "end_time": "2020-03-24T08:01:32.656978Z",
     "start_time": "2020-03-24T08:01:32.257748Z"
    }
   },
   "outputs": [],
   "source": [
    "import pandas as pd \n",
    "import numpy as np \n",
    "import warnings\n",
    "warnings.filterwarnings('ignore')"
   ]
  },
  {
   "cell_type": "markdown",
   "metadata": {},
   "source": [
    "reduce_mem_usage 函数通过调整数据类型，帮助我们减少数据在内存中占用的空间"
   ]
  },
  {
   "cell_type": "code",
   "execution_count": 2,
   "metadata": {
    "ExecuteTime": {
     "end_time": "2020-03-24T08:01:50.709373Z",
     "start_time": "2020-03-24T08:01:50.693724Z"
    }
   },
   "outputs": [],
   "source": [
    "def reduce_mem_usage(df):\n",
    "    \"\"\" iterate through all the columns of a dataframe and modify the data type\n",
    "        to reduce memory usage.        \n",
    "    \"\"\"\n",
    "    start_mem = df.memory_usage().sum() \n",
    "    print('Memory usage of dataframe is {:.2f} MB'.format(start_mem))\n",
    "    \n",
    "    for col in df.columns:\n",
    "        col_type = df[col].dtype\n",
    "        \n",
    "        if col_type != object:\n",
    "            c_min = df[col].min()\n",
    "            c_max = df[col].max()\n",
    "            if str(col_type)[:3] == 'int':\n",
    "                if c_min > np.iinfo(np.int8).min and c_max < np.iinfo(np.int8).max:\n",
    "                    df[col] = df[col].astype(np.int8)\n",
    "                elif c_min > np.iinfo(np.int16).min and c_max < np.iinfo(np.int16).max:\n",
    "                    df[col] = df[col].astype(np.int16)\n",
    "                elif c_min > np.iinfo(np.int32).min and c_max < np.iinfo(np.int32).max:\n",
    "                    df[col] = df[col].astype(np.int32)\n",
    "                elif c_min > np.iinfo(np.int64).min and c_max < np.iinfo(np.int64).max:\n",
    "                    df[col] = df[col].astype(np.int64)  \n",
    "            else:\n",
    "                if c_min > np.finfo(np.float16).min and c_max < np.finfo(np.float16).max:\n",
    "                    df[col] = df[col].astype(np.float16)\n",
    "                elif c_min > np.finfo(np.float32).min and c_max < np.finfo(np.float32).max:\n",
    "                    df[col] = df[col].astype(np.float32)\n",
    "                else:\n",
    "                    df[col] = df[col].astype(np.float64)\n",
    "        else:\n",
    "            df[col] = df[col].astype('category')\n",
    "\n",
    "    end_mem = df.memory_usage().sum() \n",
    "    print('Memory usage after optimization is: {:.2f} MB'.format(end_mem))\n",
    "    print('Decreased by {:.1f}%'.format(100 * (start_mem - end_mem) / start_mem))\n",
    "    return df"
   ]
  },
  {
   "cell_type": "code",
   "execution_count": 19,
   "metadata": {
    "ExecuteTime": {
     "end_time": "2020-03-24T08:11:16.518742Z",
     "start_time": "2020-03-24T08:11:14.994475Z"
    }
   },
   "outputs": [
    {
     "name": "stdout",
     "output_type": "stream",
     "text": [
      "Memory usage of dataframe is 62099672.00 MB\n",
      "Memory usage after optimization is: 16520303.00 MB\n",
      "Decreased by 73.4%\n"
     ]
    }
   ],
   "source": [
    "sample_feature=reduce_mem_usage(pd.read_csv('data/data_for_tree.csv'))  "
   ]
  },
  {
   "cell_type": "code",
   "execution_count": 31,
   "metadata": {
    "ExecuteTime": {
     "end_time": "2020-03-24T08:22:31.837342Z",
     "start_time": "2020-03-24T08:22:31.832763Z"
    },
    "scrolled": true
   },
   "outputs": [
    {
     "data": {
      "text/plain": [
       "['bodyType',\n",
       " 'fuelType',\n",
       " 'gearbox',\n",
       " 'kilometer',\n",
       " 'name',\n",
       " 'notRepairedDamage',\n",
       " 'offerType',\n",
       " 'power',\n",
       " 'seller',\n",
       " 'train',\n",
       " 'v_0',\n",
       " 'v_1',\n",
       " 'v_10',\n",
       " 'v_11',\n",
       " 'v_12',\n",
       " 'v_13',\n",
       " 'v_14',\n",
       " 'v_2',\n",
       " 'v_3',\n",
       " 'v_4',\n",
       " 'v_5',\n",
       " 'v_6',\n",
       " 'v_7',\n",
       " 'v_8',\n",
       " 'v_9',\n",
       " 'used_time',\n",
       " 'city',\n",
       " 'brand_amount',\n",
       " 'brand_price_max',\n",
       " 'brand_price_median',\n",
       " 'brand_price_min',\n",
       " 'brand_price_sum',\n",
       " 'brand_price_std',\n",
       " 'brand_price_average',\n",
       " 'power_bin',\n",
       " 'SaleID']"
      ]
     },
     "execution_count": 31,
     "metadata": {},
     "output_type": "execute_result"
    }
   ],
   "source": [
    "continous_faeture_names=[x for x in sample_feature.columns if x not in ['price'\n",
    ",'brand','model']]\n",
    "continous_faeture_names "
   ]
  },
  {
   "cell_type": "markdown",
   "metadata": {},
   "source": [
    "## 线性回归\n"
   ]
  },
  {
   "cell_type": "code",
   "execution_count": 21,
   "metadata": {
    "ExecuteTime": {
     "end_time": "2020-03-24T08:11:24.752884Z",
     "start_time": "2020-03-24T08:11:24.743889Z"
    }
   },
   "outputs": [],
   "source": [
    "\n",
    "from sklearn.ensemble import RandomForestRegressor\n",
    "from sklearn.impute import SimpleImputer\n",
    "\n",
    "\n",
    "def missing_implute_rf(X_missing, y):\n",
    "    \"\"\"\n",
    "    X_missing: feature columns \n",
    "    y: target\n",
    "    \"\"\"\n",
    "\n",
    "    sortindex = np.argsort(X_missing.isnull().sum(axis=0)).values\n",
    "\n",
    "    for i in sortindex:\n",
    "\n",
    "        # Construct new feature matrix and new labels\n",
    "        df = X_missing\n",
    "        if df.iloc[:, i].isnull().sum() > 0:\n",
    "            fillc = df.iloc[:, i]\n",
    "            df = pd.concat(\n",
    "                [df.iloc[:, df.columns != df.columns[i]], pd.DataFrame(y)], axis=1)\n",
    "            # Filling columns with missing values with 0 in new feature matrix\n",
    "            df_0 = SimpleImputer(missing_values=np.nan,\n",
    "                                 strategy='constant', fill_value=0).fit_transform(df)\n",
    "            # New train datesets and test datasets\n",
    "            Y_train = fillc[fillc.notnull()]\n",
    "            Y_test = fillc[fillc.isnull()]\n",
    "            X_train = df_0[Y_train.index, :]\n",
    "            X_test = df_0[Y_test.index, :]\n",
    "            # Filling missing values with random forest regression\n",
    "            rfc = RandomForestRegressor(n_estimators=5)\n",
    "            rfc = rfc.fit(X_train, Y_train)\n",
    "            Y_predict = rfc.predict(X_test)\n",
    "            # Add the filled features to the original feature matrix\n",
    "            X_missing.loc[X_missing.iloc[:, i].isnull(\n",
    "            ), X_missing.columns[i]] = Y_predict\n",
    "    return pd.concat([X_missing, pd.DataFrame(y)], axis=1) "
   ]
  },
  {
   "cell_type": "code",
   "execution_count": 26,
   "metadata": {
    "ExecuteTime": {
     "end_time": "2020-03-24T08:14:14.436322Z",
     "start_time": "2020-03-24T08:14:13.385056Z"
    }
   },
   "outputs": [],
   "source": [
    "sample_feature=sample_feature.replace('-',np.nan).reset_index(drop=True)\n",
    "sample_feature['notRepairedDamage']=sample_feature['notRepairedDamage'].astype(np.float32)"
   ]
  },
  {
   "cell_type": "code",
   "execution_count": 27,
   "metadata": {
    "ExecuteTime": {
     "end_time": "2020-03-24T08:17:40.328927Z",
     "start_time": "2020-03-24T08:15:00.901952Z"
    },
    "collapsed": true
   },
   "outputs": [
    {
     "data": {
      "text/plain": [
       "bodyType               0.0\n",
       "v_3                    0.0\n",
       "v_4                    0.0\n",
       "v_5                    0.0\n",
       "v_6                    0.0\n",
       "v_7                    0.0\n",
       "v_8                    0.0\n",
       "v_9                    0.0\n",
       "v_2                    0.0\n",
       "used_time              0.0\n",
       "brand_amount           0.0\n",
       "brand_price_max        0.0\n",
       "brand_price_median     0.0\n",
       "brand_price_min        0.0\n",
       "brand_price_sum        0.0\n",
       "brand_price_std        0.0\n",
       "brand_price_average    0.0\n",
       "city                   0.0\n",
       "power_bin              0.0\n",
       "v_14                   0.0\n",
       "v_12                   0.0\n",
       "brand                  0.0\n",
       "fuelType               0.0\n",
       "gearbox                0.0\n",
       "kilometer              0.0\n",
       "model                  0.0\n",
       "name                   0.0\n",
       "notRepairedDamage      0.0\n",
       "v_13                   0.0\n",
       "offerType              0.0\n",
       "price                  0.0\n",
       "seller                 0.0\n",
       "train                  0.0\n",
       "v_0                    0.0\n",
       "v_1                    0.0\n",
       "v_10                   0.0\n",
       "v_11                   0.0\n",
       "power                  0.0\n",
       "SaleID                 0.0\n",
       "dtype: float64"
      ]
     },
     "execution_count": 27,
     "metadata": {},
     "output_type": "execute_result"
    }
   ],
   "source": [
    "sample_feature=missing_implute_rf(sample_feature.iloc[:,1:],sample_feature.iloc[:,0])\n",
    "(sample_feature.isnull().sum()/len(sample_feature)).sort_values()  "
   ]
  },
  {
   "cell_type": "code",
   "execution_count": 48,
   "metadata": {
    "ExecuteTime": {
     "end_time": "2020-03-24T09:14:35.275431Z",
     "start_time": "2020-03-24T09:14:35.184321Z"
    }
   },
   "outputs": [],
   "source": [
    "train = sample_feature[continous_faeture_names + ['price']]\n",
    "train_X = train[continous_faeture_names]\n",
    "train_y = train['price']     "
   ]
  },
  {
   "cell_type": "code",
   "execution_count": 49,
   "metadata": {
    "ExecuteTime": {
     "end_time": "2020-03-24T09:14:37.099927Z",
     "start_time": "2020-03-24T09:14:37.091858Z"
    }
   },
   "outputs": [],
   "source": [
    "train_y=np.log(train_y+1) "
   ]
  },
  {
   "cell_type": "code",
   "execution_count": 50,
   "metadata": {
    "ExecuteTime": {
     "end_time": "2020-03-24T09:14:40.693084Z",
     "start_time": "2020-03-24T09:14:40.508707Z"
    }
   },
   "outputs": [],
   "source": [
    "# 简单建模\n",
    "from sklearn.linear_model import LinearRegression \n",
    "\n",
    "model=LinearRegression(normalize=True)\n",
    "model=model.fit(train_X,train_y) "
   ]
  },
  {
   "cell_type": "code",
   "execution_count": 52,
   "metadata": {
    "ExecuteTime": {
     "end_time": "2020-03-24T09:14:53.639737Z",
     "start_time": "2020-03-24T09:14:53.628377Z"
    },
    "scrolled": true
   },
   "outputs": [
    {
     "data": {
      "text/plain": [
       "[('v_9', 3.044589571841071),\n",
       " ('v_1', 1.71378657311765),\n",
       " ('v_2', 1.5312209615564742),\n",
       " ('v_13', 0.2635938262152489),\n",
       " ('seller', 0.09096111762004926),\n",
       " ('v_14', 0.04788703247086514),\n",
       " ('gearbox', 0.019024187998273982),\n",
       " ('power_bin', 0.009282685031097812),\n",
       " ('bodyType', 0.0055455421359774295),\n",
       " ('brand_price_min', 5.883356201265898e-05),\n",
       " ('brand_price_average', 1.1998178302891082e-05),\n",
       " ('used_time', 5.121619595542705e-06),\n",
       " ('brand_amount', 1.467115045814415e-06),\n",
       " ('brand_price_max', 8.695965584041339e-07),\n",
       " ('SaleID', 2.441381692894249e-08),\n",
       " ('brand_price_sum', -8.096716823155635e-11),\n",
       " ('offerType', -4.920366336591542e-10),\n",
       " ('name', -4.696657694563462e-08),\n",
       " ('brand_price_std', -3.2298331562338526e-06),\n",
       " ('power', -6.662809697059917e-06),\n",
       " ('brand_price_median', -1.0840097194210518e-05),\n",
       " ('fuelType', -0.0014688103019535575),\n",
       " ('city', -0.002208218462830444),\n",
       " ('kilometer', -0.008623264087963585),\n",
       " ('v_0', -0.018995568244389003),\n",
       " ('train', -0.04194944850487247),\n",
       " ('notRepairedDamage', -0.2634630835023626),\n",
       " ('v_4', -0.36888651450591603),\n",
       " ('v_3', -0.49201086616660683),\n",
       " ('v_12', -0.5361891711561197),\n",
       " ('v_11', -0.8484552214305922),\n",
       " ('v_10', -1.1815874241558064),\n",
       " ('v_7', -2.9854141172933377),\n",
       " ('v_5', -18.966196765145824),\n",
       " ('v_8', -40.57621121489563),\n",
       " ('v_6', -185.70506355618784)]"
      ]
     },
     "execution_count": 52,
     "metadata": {},
     "output_type": "execute_result"
    }
   ],
   "source": [
    "# 查看训练的回归模型的截距(intercept)与权重(coef)\n",
    "'intercept: '+str(model.intercept_) \n",
    "sorted(dict(zip(continous_faeture_names,model.coef_)).items(),key=lambda x:x[1],reverse=True)"
   ]
  },
  {
   "cell_type": "code",
   "execution_count": 53,
   "metadata": {
    "ExecuteTime": {
     "end_time": "2020-03-24T09:15:01.402254Z",
     "start_time": "2020-03-24T09:15:01.396284Z"
    }
   },
   "outputs": [],
   "source": [
    "import  matplotlib.pyplot as plt  \n",
    "import seaborn as sns\n",
    "%matplotlib inline \n",
    "sns.set_style('white') "
   ]
  },
  {
   "cell_type": "code",
   "execution_count": 54,
   "metadata": {
    "ExecuteTime": {
     "end_time": "2020-03-24T09:15:03.716796Z",
     "start_time": "2020-03-24T09:15:03.713655Z"
    }
   },
   "outputs": [],
   "source": [
    "subsample_index=np.random.randint(0,len(train_y),size=50) "
   ]
  },
  {
   "cell_type": "code",
   "execution_count": 55,
   "metadata": {
    "ExecuteTime": {
     "end_time": "2020-03-24T09:15:08.008523Z",
     "start_time": "2020-03-24T09:15:07.775824Z"
    }
   },
   "outputs": [
    {
     "name": "stdout",
     "output_type": "stream",
     "text": [
      "The predicted price is obvious different from true price\n"
     ]
    },
    {
     "data": {
      "image/png": "[encoded data removed]",
      "text/plain": [
       "<Figure size 432x288 with 1 Axes>"
      ]
     },
     "metadata": {},
     "output_type": "display_data"
    }
   ],
   "source": [
    "plt.scatter(train_X['v_9'][subsample_index], train_y[subsample_index], color='black')\n",
    "plt.scatter(train_X['v_9'][subsample_index], model.predict(train_X.loc[subsample_index]), color='blue')\n",
    "plt.xlabel('v_9')\n",
    "plt.ylabel('price')\n",
    "plt.legend(['True Price','Predicted Price'],loc='upper right')\n",
    "print('The predicted price is obvious different from true price')\n",
    "plt.show()   "
   ]
  },
  {
   "cell_type": "code",
   "execution_count": 56,
   "metadata": {
    "ExecuteTime": {
     "end_time": "2020-03-24T09:15:12.344728Z",
     "start_time": "2020-03-24T09:15:11.660228Z"
    }
   },
   "outputs": [
    {
     "name": "stdout",
     "output_type": "stream",
     "text": [
      "It is clear to see the price shows a typical exponential distribution\n"
     ]
    },
    {
     "data": {
      "text/plain": [
       "<matplotlib.axes._subplots.AxesSubplot at 0x1a2981aef0>"
      ]
     },
     "execution_count": 56,
     "metadata": {},
     "output_type": "execute_result"
    },
    {
     "data": {
      "image/png": "[encoded data removed]",
      "text/plain": [
       "<Figure size 1080x360 with 2 Axes>"
      ]
     },
     "metadata": {},
     "output_type": "display_data"
    }
   ],
   "source": [
    "import seaborn as sns\n",
    "print('It is clear to see the price shows a typical exponential distribution')\n",
    "plt.figure(figsize=(15,5))\n",
    "plt.subplot(1,2,1)\n",
    "sns.distplot(train_y)\n",
    "plt.subplot(1,2,2)\n",
    "sns.distplot(train_y[train_y < np.quantile(train_y, 0.9)])    "
   ]
  },
  {
   "cell_type": "code",
   "execution_count": 58,
   "metadata": {
    "ExecuteTime": {
     "end_time": "2020-03-24T09:19:47.456980Z",
     "start_time": "2020-03-24T09:19:47.454407Z"
    }
   },
   "outputs": [],
   "source": [
    "# 五折交叉验证\n",
    "from sklearn.model_selection import cross_val_score \n",
    "from sklearn.metrics import mean_absolute_error,make_scorer "
   ]
  },
  {
   "cell_type": "code",
   "execution_count": 63,
   "metadata": {
    "ExecuteTime": {
     "end_time": "2020-03-24T12:20:32.670179Z",
     "start_time": "2020-03-24T12:20:32.667041Z"
    }
   },
   "outputs": [],
   "source": [
    "def log_transfer(func):\n",
    "    def wrapper(y, yhat):\n",
    "        result = func(np.log(y), np.nan_to_num(np.log(yhat)))\n",
    "        return result\n",
    "    return wrapper"
   ]
  },
  {
   "cell_type": "code",
   "execution_count": 64,
   "metadata": {
    "ExecuteTime": {
     "end_time": "2020-03-24T12:20:42.790432Z",
     "start_time": "2020-03-24T12:20:41.882634Z"
    }
   },
   "outputs": [
    {
     "name": "stderr",
     "output_type": "stream",
     "text": [
      "[Parallel(n_jobs=1)]: Using backend SequentialBackend with 1 concurrent workers.\n",
      "[Parallel(n_jobs=1)]: Done   5 out of   5 | elapsed:    0.9s finished\n"
     ]
    }
   ],
   "source": [
    "scores = cross_val_score(model, X=train_X, y=train_y, verbose=1, cv = 5, scoring=make_scorer(log_transfer(mean_absolute_error)))"
   ]
  },
  {
   "cell_type": "code",
   "execution_count": 65,
   "metadata": {
    "ExecuteTime": {
     "end_time": "2020-03-24T12:24:18.633503Z",
     "start_time": "2020-03-24T12:24:18.629556Z"
    }
   },
   "outputs": [
    {
     "name": "stdout",
     "output_type": "stream",
     "text": [
      "AVG:  0.023923419901777425\n"
     ]
    }
   ],
   "source": [
    "# 使用线性回归模型，对未处理标签的特征数据进行五折交叉验证\n",
    "print('AVG: ',np.mean(scores))"
   ]
  },
  {
   "cell_type": "code",
   "execution_count": 66,
   "metadata": {
    "ExecuteTime": {
     "end_time": "2020-03-24T12:27:34.189554Z",
     "start_time": "2020-03-24T12:27:33.314112Z"
    }
   },
   "outputs": [
    {
     "name": "stderr",
     "output_type": "stream",
     "text": [
      "[Parallel(n_jobs=1)]: Using backend SequentialBackend with 1 concurrent workers.\n",
      "[Parallel(n_jobs=1)]: Done   5 out of   5 | elapsed:    0.9s finished\n"
     ]
    }
   ],
   "source": [
    "# 使用线性回归对处理过标签的特征数据进行五折交叉验证\n",
    "scores=cross_val_score(model,X=train_X,y=train_y,verbose=1,cv=5,scoring=make_scorer(mean_absolute_error))\n"
   ]
  },
  {
   "cell_type": "code",
   "execution_count": 67,
   "metadata": {
    "ExecuteTime": {
     "end_time": "2020-03-24T12:27:59.078950Z",
     "start_time": "2020-03-24T12:27:59.074727Z"
    }
   },
   "outputs": [
    {
     "name": "stdout",
     "output_type": "stream",
     "text": [
      "AVG:  0.18248829237452804\n"
     ]
    }
   ],
   "source": [
    "print(\"AVG: \",np.mean(scores))"
   ]
  },
  {
   "cell_type": "code",
   "execution_count": 70,
   "metadata": {
    "ExecuteTime": {
     "end_time": "2020-03-24T12:30:11.818188Z",
     "start_time": "2020-03-24T12:30:11.809737Z"
    }
   },
   "outputs": [
    {
     "data": {
      "text/html": [
       "<div>\n",
       "<style scoped>\n",
       "    .dataframe tbody tr th:only-of-type {\n",
       "        vertical-align: middle;\n",
       "    }\n",
       "\n",
       "    .dataframe tbody tr th {\n",
       "        vertical-align: top;\n",
       "    }\n",
       "\n",
       "    .dataframe thead th {\n",
       "        text-align: right;\n",
       "    }\n",
       "</style>\n",
       "<table border=\"1\" class=\"dataframe\">\n",
       "  <thead>\n",
       "    <tr style=\"text-align: right;\">\n",
       "      <th></th>\n",
       "      <th>cv1</th>\n",
       "      <th>cv2</th>\n",
       "      <th>cv3</th>\n",
       "      <th>cv4</th>\n",
       "      <th>cv5</th>\n",
       "    </tr>\n",
       "  </thead>\n",
       "  <tbody>\n",
       "    <tr>\n",
       "      <th>MAE</th>\n",
       "      <td>0.191024</td>\n",
       "      <td>0.192238</td>\n",
       "      <td>0.189023</td>\n",
       "      <td>0.183087</td>\n",
       "      <td>0.15707</td>\n",
       "    </tr>\n",
       "  </tbody>\n",
       "</table>\n",
       "</div>"
      ],
      "text/plain": [
       "          cv1       cv2       cv3       cv4      cv5\n",
       "MAE  0.191024  0.192238  0.189023  0.183087  0.15707"
      ]
     },
     "execution_count": 70,
     "metadata": {},
     "output_type": "execute_result"
    }
   ],
   "source": [
    "# scores=pd.DataFrame(scores.reshape(1,-1))\n",
    "# scores.columns=['cv'+str(x) for x in range(1,6)]\n",
    "# scores.index=['MAE']\n",
    "scores "
   ]
  },
  {
   "cell_type": "markdown",
   "metadata": {},
   "source": [
    "## 3 模拟真实业务情况\n",
    "\n",
    "但在事实上，由于我们并不具有预知未来的能力，五折交叉验证在某些与时间相关的数据集上反而反映了不真实的情况。通过2018年的二手车价格预测2017年的二手车价格，这显然是不合理的，因此我们还可以采用时间顺序对数据集进行分隔。在本例中，我们选用靠前时间的4/5样本当作训练集，靠后时间的1/5当作验证集，最终结果与五折交叉验证差距不大"
   ]
  },
  {
   "cell_type": "code",
   "execution_count": 72,
   "metadata": {
    "ExecuteTime": {
     "end_time": "2020-03-24T12:34:51.907514Z",
     "start_time": "2020-03-24T12:34:51.905170Z"
    }
   },
   "outputs": [],
   "source": [
    "import datetime"
   ]
  },
  {
   "cell_type": "code",
   "execution_count": 73,
   "metadata": {
    "ExecuteTime": {
     "end_time": "2020-03-24T12:35:57.487591Z",
     "start_time": "2020-03-24T12:35:57.449219Z"
    }
   },
   "outputs": [],
   "source": [
    "sample_feature=sample_feature.reset_index(drop=True)\n",
    "split_point=len(sample_feature)//5 *4"
   ]
  },
  {
   "cell_type": "code",
   "execution_count": 79,
   "metadata": {
    "ExecuteTime": {
     "end_time": "2020-03-24T12:49:33.912882Z",
     "start_time": "2020-03-24T12:49:33.800745Z"
    }
   },
   "outputs": [],
   "source": [
    "train=sample_feature.loc[:split_point].dropna() \n",
    "val=sample_feature.loc[split_point:].dropna()\n",
    "\n",
    "train_X=train[continous_faeture_names]\n",
    "train_y_l=np.log(train['price']+1)\n",
    "val_x=val[continous_faeture_names]\n",
    "val_y=np.log(val['price']+1)  "
   ]
  },
  {
   "cell_type": "code",
   "execution_count": 83,
   "metadata": {
    "ExecuteTime": {
     "end_time": "2020-03-24T12:55:20.337155Z",
     "start_time": "2020-03-24T12:55:20.205246Z"
    }
   },
   "outputs": [
    {
     "data": {
      "text/plain": [
       "0.15708136411207516"
      ]
     },
     "execution_count": 83,
     "metadata": {},
     "output_type": "execute_result"
    }
   ],
   "source": [
    "model=model.fit(train_X,train_y_l)\n",
    "mean_absolute_error(val_y,model.predict(val_x))"
   ]
  },
  {
   "cell_type": "code",
   "execution_count": 84,
   "metadata": {
    "ExecuteTime": {
     "end_time": "2020-03-24T13:17:16.121938Z",
     "start_time": "2020-03-24T13:17:16.116011Z"
    }
   },
   "outputs": [],
   "source": [
    "# 绘制学习率曲线\n",
    "from sklearn.model_selection import learning_curve,validation_curve\n",
    "?learning_curve "
   ]
  },
  {
   "cell_type": "code",
   "execution_count": 85,
   "metadata": {
    "ExecuteTime": {
     "end_time": "2020-03-24T13:18:16.998211Z",
     "start_time": "2020-03-24T13:18:16.989291Z"
    }
   },
   "outputs": [],
   "source": [
    "def plot_learning_curve(estimator, title, X, y, ylim=None, cv=None,n_jobs=1, train_size=np.linspace(.1, 1.0, 5 )):  \n",
    "    plt.figure()  \n",
    "    plt.title(title)  \n",
    "    if ylim is not None:  \n",
    "        plt.ylim(*ylim)  \n",
    "    plt.xlabel('Training example')  \n",
    "    plt.ylabel('score')  \n",
    "    train_sizes, train_scores, test_scores = learning_curve(estimator, X, y, cv=cv, n_jobs=n_jobs, train_sizes=train_size, scoring = make_scorer(mean_absolute_error))  \n",
    "    train_scores_mean = np.mean(train_scores, axis=1)  \n",
    "    train_scores_std = np.std(train_scores, axis=1)  \n",
    "    test_scores_mean = np.mean(test_scores, axis=1)  \n",
    "    test_scores_std = np.std(test_scores, axis=1)  \n",
    "    plt.grid()#区域  \n",
    "    plt.fill_between(train_sizes, train_scores_mean - train_scores_std,  \n",
    "                     train_scores_mean + train_scores_std, alpha=0.1,  \n",
    "                     color=\"r\")  \n",
    "    plt.fill_between(train_sizes, test_scores_mean - test_scores_std,  \n",
    "                     test_scores_mean + test_scores_std, alpha=0.1,  \n",
    "                     color=\"g\")  \n",
    "    plt.plot(train_sizes, train_scores_mean, 'o-', color='r',  \n",
    "             label=\"Training score\")  \n",
    "    plt.plot(train_sizes, test_scores_mean,'o-',color=\"g\",  \n",
    "             label=\"Cross-validation score\")  \n",
    "    plt.legend(loc=\"best\")  \n",
    "    return plt   "
   ]
  },
  {
   "cell_type": "code",
   "execution_count": 93,
   "metadata": {
    "ExecuteTime": {
     "end_time": "2020-03-24T13:23:23.903462Z",
     "start_time": "2020-03-24T13:23:23.540837Z"
    }
   },
   "outputs": [
    {
     "data": {
      "text/plain": [
       "<module 'matplotlib.pyplot' from '/Users/sampras/anaconda3/lib/python3.7/site-packages/matplotlib/pyplot.py'>"
      ]
     },
     "execution_count": 93,
     "metadata": {},
     "output_type": "execute_result"
    },
    {
     "data": {
      "image/png": "[encoded data removed]",
      "text/plain": [
       "<Figure size 576x396 with 1 Axes>"
      ]
     },
     "metadata": {},
     "output_type": "display_data"
    }
   ],
   "source": [
    "plot_learning_curve(LinearRegression(), 'Liner_model', train_X[:1000], train_y_l[:1000], ylim=\n",
    "                    (0.0, 0.5), cv=5, n_jobs=1)   "
   ]
  },
  {
   "cell_type": "code",
   "execution_count": 109,
   "metadata": {
    "ExecuteTime": {
     "end_time": "2020-03-24T14:25:32.233805Z",
     "start_time": "2020-03-24T14:25:31.879659Z"
    }
   },
   "outputs": [
    {
     "data": {
      "image/png": "[encoded data removed]",
      "text/plain": [
       "<Figure size 576x396 with 1 Axes>"
      ]
     },
     "metadata": {},
     "output_type": "display_data"
    },
    {
     "data": {
      "text/plain": [
       "<matplotlib.axes._subplots.AxesSubplot at 0x1a315d3f60>"
      ]
     },
     "execution_count": 109,
     "metadata": {},
     "output_type": "execute_result"
    }
   ],
   "source": [
    "# 可视化模型训练分数与交叉验证测试分数的关系\n",
    "from yellowbrick.model_selection import LearningCurve\n",
    "\n",
    "viz = LearningCurve(LinearRegression(),\n",
    "                      param_name=\"max_depth\",\n",
    "                      param_range=np.arange(1, 11),\n",
    "                      cv=5,\n",
    "                      scoring=make_scorer(mean_absolute_error),n_jobs=1)\n",
    "\n",
    "# Fit and poof the visualizer\n",
    "viz.fit(train_X[:1000],train_y_l[:1000])\n",
    "viz.poof() "
   ]
  },
  {
   "cell_type": "code",
   "execution_count": 101,
   "metadata": {
    "ExecuteTime": {
     "end_time": "2020-03-24T14:17:29.444352Z",
     "start_time": "2020-03-24T14:17:29.442146Z"
    }
   },
   "outputs": [],
   "source": [
    "# 多种模型对比\n",
    "# 线性模型 & 嵌入式特征选择"
   ]
  },
  {
   "cell_type": "markdown",
   "metadata": {},
   "source": [
    "在过滤式和包裹式特征选择方法中，特征选择过程与学习器训练过程有明显的分别。而嵌入式特征选择在学习器训练过程中自动地进行特征选择。嵌入式选择最常用的是L1正则化与L2正则化。在对线性回归模型加入两种正则化方法后，他们分别变成了岭回归与Lasso回归。  "
   ]
  },
  {
   "cell_type": "code",
   "execution_count": 102,
   "metadata": {
    "ExecuteTime": {
     "end_time": "2020-03-24T14:19:16.391981Z",
     "start_time": "2020-03-24T14:19:16.387893Z"
    }
   },
   "outputs": [],
   "source": [
    "from sklearn.linear_model import Lasso, LinearRegression, Ridge\n",
    "\n",
    "models=[LinearRegression(),Ridge(),Lasso()]"
   ]
  },
  {
   "cell_type": "code",
   "execution_count": 112,
   "metadata": {
    "ExecuteTime": {
     "end_time": "2020-03-24T14:27:19.646874Z",
     "start_time": "2020-03-24T14:27:08.487165Z"
    }
   },
   "outputs": [
    {
     "name": "stderr",
     "output_type": "stream",
     "text": [
      "[Parallel(n_jobs=1)]: Using backend SequentialBackend with 1 concurrent workers.\n",
      "[Parallel(n_jobs=1)]: Done   1 out of   1 | elapsed:    0.1s remaining:    0.0s\n"
     ]
    },
    {
     "name": "stdout",
     "output_type": "stream",
     "text": [
      "[CV]  ................................................................\n",
      "[CV] .................................... , score=0.192, total=   0.1s\n",
      "[CV]  ................................................................\n",
      "[CV] .................................... , score=0.193, total=   0.1s\n",
      "[CV]  ................................................................\n",
      "[CV] .................................... , score=0.193, total=   0.1s\n",
      "[CV]  ................................................................\n"
     ]
    },
    {
     "name": "stderr",
     "output_type": "stream",
     "text": [
      "[Parallel(n_jobs=1)]: Done   2 out of   2 | elapsed:    0.3s remaining:    0.0s\n",
      "[Parallel(n_jobs=1)]: Done   3 out of   3 | elapsed:    0.4s remaining:    0.0s\n"
     ]
    },
    {
     "name": "stdout",
     "output_type": "stream",
     "text": [
      "[CV] .................................... , score=0.192, total=   0.1s\n",
      "[CV]  ................................................................\n",
      "[CV] .................................... , score=0.182, total=   0.1s\n",
      "LinearRegression is finished\n",
      "[CV]  ................................................................\n",
      "[CV] .................................... , score=0.195, total=   0.1s\n"
     ]
    },
    {
     "name": "stderr",
     "output_type": "stream",
     "text": [
      "[Parallel(n_jobs=1)]: Done   4 out of   4 | elapsed:    0.5s remaining:    0.0s\n",
      "[Parallel(n_jobs=1)]: Done   5 out of   5 | elapsed:    0.6s remaining:    0.0s\n",
      "[Parallel(n_jobs=1)]: Done   5 out of   5 | elapsed:    0.6s finished\n",
      "[Parallel(n_jobs=1)]: Using backend SequentialBackend with 1 concurrent workers.\n"
     ]
    },
    {
     "name": "stdout",
     "output_type": "stream",
     "text": [
      "[CV]  ................................................................\n",
      "[CV] .................................... , score=0.196, total=   0.1s\n",
      "[CV]  ................................................................\n",
      "[CV] .................................... , score=0.196, total=   0.1s\n",
      "[CV]  ................................................................\n"
     ]
    },
    {
     "name": "stderr",
     "output_type": "stream",
     "text": [
      "[Parallel(n_jobs=1)]: Done   1 out of   1 | elapsed:    0.1s remaining:    0.0s\n",
      "[Parallel(n_jobs=1)]: Done   2 out of   2 | elapsed:    0.2s remaining:    0.0s\n",
      "[Parallel(n_jobs=1)]: Done   3 out of   3 | elapsed:    0.2s remaining:    0.0s\n",
      "[Parallel(n_jobs=1)]: Done   4 out of   4 | elapsed:    0.3s remaining:    0.0s\n"
     ]
    },
    {
     "name": "stdout",
     "output_type": "stream",
     "text": [
      "[CV] .................................... , score=0.195, total=   0.1s\n",
      "[CV]  ................................................................\n",
      "[CV] .................................... , score=0.186, total=   0.1s\n",
      "Ridge is finished\n",
      "[CV]  ................................................................\n"
     ]
    },
    {
     "name": "stderr",
     "output_type": "stream",
     "text": [
      "[Parallel(n_jobs=1)]: Done   5 out of   5 | elapsed:    0.4s remaining:    0.0s\n",
      "[Parallel(n_jobs=1)]: Done   5 out of   5 | elapsed:    0.4s finished\n",
      "[Parallel(n_jobs=1)]: Using backend SequentialBackend with 1 concurrent workers.\n"
     ]
    },
    {
     "name": "stdout",
     "output_type": "stream",
     "text": [
      "[CV] .................................... , score=0.450, total=   2.7s\n",
      "[CV]  ................................................................\n"
     ]
    },
    {
     "name": "stderr",
     "output_type": "stream",
     "text": [
      "[Parallel(n_jobs=1)]: Done   1 out of   1 | elapsed:    2.7s remaining:    0.0s\n"
     ]
    },
    {
     "name": "stdout",
     "output_type": "stream",
     "text": [
      "[CV] .................................... , score=0.450, total=   2.3s\n",
      "[CV]  ................................................................\n"
     ]
    },
    {
     "name": "stderr",
     "output_type": "stream",
     "text": [
      "[Parallel(n_jobs=1)]: Done   2 out of   2 | elapsed:    5.0s remaining:    0.0s\n"
     ]
    },
    {
     "name": "stdout",
     "output_type": "stream",
     "text": [
      "[CV] .................................... , score=0.448, total=   2.0s\n",
      "[CV]  ................................................................\n"
     ]
    },
    {
     "name": "stderr",
     "output_type": "stream",
     "text": [
      "[Parallel(n_jobs=1)]: Done   3 out of   3 | elapsed:    7.1s remaining:    0.0s\n"
     ]
    },
    {
     "name": "stdout",
     "output_type": "stream",
     "text": [
      "[CV] .................................... , score=0.441, total=   2.3s\n",
      "[CV]  ................................................................\n"
     ]
    },
    {
     "name": "stderr",
     "output_type": "stream",
     "text": [
      "[Parallel(n_jobs=1)]: Done   4 out of   4 | elapsed:    9.3s remaining:    0.0s\n"
     ]
    },
    {
     "name": "stdout",
     "output_type": "stream",
     "text": [
      "[CV] .................................... , score=0.430, total=   0.8s\n",
      "Lasso is finished\n"
     ]
    },
    {
     "name": "stderr",
     "output_type": "stream",
     "text": [
      "[Parallel(n_jobs=1)]: Done   5 out of   5 | elapsed:   10.1s remaining:    0.0s\n",
      "[Parallel(n_jobs=1)]: Done   5 out of   5 | elapsed:   10.1s finished\n"
     ]
    }
   ],
   "source": [
    "result=dict()\n",
    "for model in models:\n",
    "    model_name=str(model).split('(')[0]\n",
    "    scores=cross_val_score(model,X=train_X,y=train_y_l,\n",
    "                           verbose=10,\n",
    "                           cv=5,\n",
    "                           scoring=make_scorer(mean_absolute_error))\n",
    "    result[model_name]=scores\n",
    "    print(model_name+' is finished')"
   ]
  },
  {
   "cell_type": "code",
   "execution_count": 113,
   "metadata": {
    "ExecuteTime": {
     "end_time": "2020-03-24T14:28:39.818822Z",
     "start_time": "2020-03-24T14:28:39.809367Z"
    }
   },
   "outputs": [
    {
     "data": {
      "text/html": [
       "<div>\n",
       "<style scoped>\n",
       "    .dataframe tbody tr th:only-of-type {\n",
       "        vertical-align: middle;\n",
       "    }\n",
       "\n",
       "    .dataframe tbody tr th {\n",
       "        vertical-align: top;\n",
       "    }\n",
       "\n",
       "    .dataframe thead th {\n",
       "        text-align: right;\n",
       "    }\n",
       "</style>\n",
       "<table border=\"1\" class=\"dataframe\">\n",
       "  <thead>\n",
       "    <tr style=\"text-align: right;\">\n",
       "      <th></th>\n",
       "      <th>LinearRegression</th>\n",
       "      <th>Ridge</th>\n",
       "      <th>Lasso</th>\n",
       "    </tr>\n",
       "  </thead>\n",
       "  <tbody>\n",
       "    <tr>\n",
       "      <th>cv1</th>\n",
       "      <td>0.192340</td>\n",
       "      <td>0.194908</td>\n",
       "      <td>0.450357</td>\n",
       "    </tr>\n",
       "    <tr>\n",
       "      <th>cv2</th>\n",
       "      <td>0.193093</td>\n",
       "      <td>0.195895</td>\n",
       "      <td>0.450403</td>\n",
       "    </tr>\n",
       "    <tr>\n",
       "      <th>cv3</th>\n",
       "      <td>0.193228</td>\n",
       "      <td>0.195840</td>\n",
       "      <td>0.447689</td>\n",
       "    </tr>\n",
       "    <tr>\n",
       "      <th>cv4</th>\n",
       "      <td>0.191755</td>\n",
       "      <td>0.194788</td>\n",
       "      <td>0.441043</td>\n",
       "    </tr>\n",
       "    <tr>\n",
       "      <th>cv5</th>\n",
       "      <td>0.182377</td>\n",
       "      <td>0.185525</td>\n",
       "      <td>0.430096</td>\n",
       "    </tr>\n",
       "  </tbody>\n",
       "</table>\n",
       "</div>"
      ],
      "text/plain": [
       "     LinearRegression     Ridge     Lasso\n",
       "cv1          0.192340  0.194908  0.450357\n",
       "cv2          0.193093  0.195895  0.450403\n",
       "cv3          0.193228  0.195840  0.447689\n",
       "cv4          0.191755  0.194788  0.441043\n",
       "cv5          0.182377  0.185525  0.430096"
      ]
     },
     "execution_count": 113,
     "metadata": {},
     "output_type": "execute_result"
    }
   ],
   "source": [
    "# 三种方法效果对比\n",
    "result=pd.DataFrame(result)\n",
    "result.index=['cv'+str(x) for x in range(1,6)]\n",
    "result  "
   ]
  },
  {
   "cell_type": "code",
   "execution_count": 120,
   "metadata": {
    "ExecuteTime": {
     "end_time": "2020-03-24T15:49:27.930917Z",
     "start_time": "2020-03-24T15:49:27.402864Z"
    }
   },
   "outputs": [
    {
     "name": "stdout",
     "output_type": "stream",
     "text": [
      "intercept:24.802396497180077\n"
     ]
    },
    {
     "data": {
      "text/plain": [
       "<matplotlib.axes._subplots.AxesSubplot at 0x1a314e8fd0>"
      ]
     },
     "execution_count": 120,
     "metadata": {},
     "output_type": "execute_result"
    },
    {
     "data": {
      "image/png": "[encoded data removed]",
      "text/plain": [
       "<Figure size 576x396 with 1 Axes>"
      ]
     },
     "metadata": {},
     "output_type": "display_data"
    }
   ],
   "source": [
    "model = LinearRegression().fit(train_X, train_y_l)\n",
    "print('intercept:'+ str(model.intercept_))\n",
    "sns.barplot(abs(model.coef_), continous_faeture_names)   "
   ]
  },
  {
   "cell_type": "markdown",
   "metadata": {
    "ExecuteTime": {
     "end_time": "2020-03-24T15:49:15.700655Z",
     "start_time": "2020-03-24T15:49:15.696137Z"
    }
   },
   "source": [
    "L2正则化在拟合过程中通常都倾向于让权值尽可能小，最后构造一个所有参数都比较小的模型。因为一般认为参数值小的模型比较简单，能适应不同的数据集，也在一定程度上避免了过拟合现象。可以设想一下对于一个线性回归方程，若参数很大，那么只要数据偏移一点点，就会对结果造成很大的影响；但如果参数足够小，数据偏移得多一点也不会对结果造成什么影响，专业一点的说法是『抗扰动能力强』"
   ]
  },
  {
   "cell_type": "code",
   "execution_count": 122,
   "metadata": {
    "ExecuteTime": {
     "end_time": "2020-03-24T15:51:49.326518Z",
     "start_time": "2020-03-24T15:51:48.814656Z"
    }
   },
   "outputs": [
    {
     "name": "stdout",
     "output_type": "stream",
     "text": [
      "intercept:24.802396497180077\n"
     ]
    },
    {
     "data": {
      "text/plain": [
       "<matplotlib.axes._subplots.AxesSubplot at 0x1a285c0f28>"
      ]
     },
     "execution_count": 122,
     "metadata": {},
     "output_type": "execute_result"
    },
    {
     "data": {
      "image/png": "[encoded data removed]",
      "text/plain": [
       "<Figure size 576x396 with 1 Axes>"
      ]
     },
     "metadata": {},
     "output_type": "display_data"
    }
   ],
   "source": [
    "mdoel=Ridge().fit(train_X,train_y_l)\n",
    "print('intercept:' +str(model.intercept_))\n",
    "sns.barplot(abs(model.coef_),continous_faeture_names) \n"
   ]
  },
  {
   "cell_type": "markdown",
   "metadata": {
    "ExecuteTime": {
     "end_time": "2020-03-24T15:52:16.433924Z",
     "start_time": "2020-03-24T15:52:16.430388Z"
    }
   },
   "source": [
    "L1正则化有助于生成一个稀疏权值矩阵，进而可以用于特征选择 "
   ]
  },
  {
   "cell_type": "code",
   "execution_count": 124,
   "metadata": {
    "ExecuteTime": {
     "end_time": "2020-03-24T15:54:43.442021Z",
     "start_time": "2020-03-24T15:54:39.765985Z"
    }
   },
   "outputs": [
    {
     "name": "stdout",
     "output_type": "stream",
     "text": [
      "intercept:9.04655077769708\n"
     ]
    },
    {
     "data": {
      "text/plain": [
       "<matplotlib.axes._subplots.AxesSubplot at 0x1a343ffeb8>"
      ]
     },
     "execution_count": 124,
     "metadata": {},
     "output_type": "execute_result"
    },
    {
     "data": {
      "image/png": "[encoded data removed]",
      "text/plain": [
       "<Figure size 576x396 with 1 Axes>"
      ]
     },
     "metadata": {},
     "output_type": "display_data"
    }
   ],
   "source": [
    "model=Lasso().fit(train_X,train_y_l)\n",
    "print('intercept:' +str(model.intercept_))\n",
    "sns.barplot(abs(model.coef_),continous_faeture_names)"
   ]
  },
  {
   "cell_type": "markdown",
   "metadata": {},
   "source": [
    "除此之外，决策树通过信息熵或GINI指数选择分裂节点时，优先选择的分裂特征也更加重要，这同样是一种特征选择的方法。XGBoost与LightGBM模型中的model_importance指标正是基于此计算的 "
   ]
  },
  {
   "cell_type": "code",
   "execution_count": 133,
   "metadata": {
    "ExecuteTime": {
     "end_time": "2020-03-24T16:14:58.446959Z",
     "start_time": "2020-03-24T16:14:58.442896Z"
    }
   },
   "outputs": [],
   "source": [
    "# 非线性模型\n",
    "from lightgbm.sklearn import LGBMRegressor\n",
    "from sklearn.ensemble import RandomForestRegressor\n",
    "from sklearn.ensemble import GradientBoostingRegressor\n",
    "from sklearn.linear_model import LinearRegression\n",
    "from sklearn.neural_network import MLPRegressor\n",
    "from sklearn.svm import SVC\n",
    "from sklearn.tree import DecisionTreeRegressor\n",
    "from xgboost import XGBRegressor \n",
    "from lightgbm.sklearn import LGBMRegressor  "
   ]
  },
  {
   "cell_type": "code",
   "execution_count": 134,
   "metadata": {
    "ExecuteTime": {
     "end_time": "2020-03-24T16:15:00.192576Z",
     "start_time": "2020-03-24T16:15:00.188067Z"
    }
   },
   "outputs": [],
   "source": [
    "models = [LinearRegression(),\n",
    "          DecisionTreeRegressor(),\n",
    "          RandomForestRegressor(),\n",
    "          GradientBoostingRegressor(),\n",
    "          MLPRegressor(solver='lbfgs', max_iter=100), \n",
    "          XGBRegressor(n_estimators = 100, objective='reg:squarederror'), \n",
    "          LGBMRegressor(n_estimators = 100)]   "
   ]
  },
  {
   "cell_type": "code",
   "execution_count": null,
   "metadata": {
    "ExecuteTime": {
     "start_time": "2020-03-24T16:15:20.767Z"
    }
   },
   "outputs": [
    {
     "name": "stdout",
     "output_type": "stream",
     "text": [
      "LinearRegression is finished\n",
      "DecisionTreeRegressor is finished\n"
     ]
    }
   ],
   "source": [
    "result = dict()\n",
    "for model in models:\n",
    "    model_name = str(model).split('(')[0]\n",
    "    scores = cross_val_score(model, X=train_X, y=train_y_l, verbose=0, cv = 5, scoring=make_scorer(mean_absolute_error))\n",
    "    result[model_name] = scores\n",
    "    print(model_name + ' is finished')\n",
    "    \n",
    "result = pd.DataFrame(result)\n",
    "result.index = ['cv' + str(x) for x in range(1, 6)]\n",
    "result  "
   ]
  },
  {
   "cell_type": "markdown",
   "metadata": {},
   "source": [
    "## 模型调参"
   ]
  },
  {
   "cell_type": "markdown",
   "metadata": {},
   "source": [
    "在此我们介绍了三种常用的调参方法如下：\n",
    "\n",
    "贪心算法 https://www.jianshu.com/p/ab89df9759c8\n",
    "\n",
    "网格调参 https://blog.csdn.net/weixin_43172660/article/details/83032029\n",
    "\n",
    "贝叶斯调参 https://blog.csdn.net/linxid/article/details/81189154"
   ]
  },
  {
   "cell_type": "code",
   "execution_count": null,
   "metadata": {},
   "outputs": [],
   "source": []
  }
 ],
 "metadata": {
  "kernelspec": {
   "display_name": "Python 3",
   "language": "python",
   "name": "python3"
  },
  "language_info": {
   "codemirror_mode": {
    "name": "ipython",
    "version": 3
   },
   "file_extension": ".py",
   "mimetype": "text/x-python",
   "name": "python",
   "nbconvert_exporter": "python",
   "pygments_lexer": "ipython3",
   "version": "3.7.3"
  },
  "toc": {
   "base_numbering": 1,
   "nav_menu": {},
   "number_sections": true,
   "sideBar": true,
   "skip_h1_title": false,
   "title_cell": "Table of Contents",
   "title_sidebar": "Contents",
   "toc_cell": false,
   "toc_position": {},
   "toc_section_display": true,
   "toc_window_display": false
  },
  "varInspector": {
   "cols": {
    "lenName": 16,
    "lenType": 16,
    "lenVar": 40
   },
   "kernels_config": {
    "python": {
     "delete_cmd_postfix": "",
     "delete_cmd_prefix": "del ",
     "library": "var_list.py",
     "varRefreshCmd": "print(var_dic_list())"
    },
    "r": {
     "delete_cmd_postfix": ") ",
     "delete_cmd_prefix": "rm(",
     "library": "var_list.r",
     "varRefreshCmd": "cat(var_dic_list()) "
    }
   },
   "types_to_exclude": [
    "module",
    "function",
    "builtin_function_or_method",
    "instance",
    "_Feature"
   ],
   "window_display": false
  }
 },
 "nbformat": 4,
 "nbformat_minor": 4
}
