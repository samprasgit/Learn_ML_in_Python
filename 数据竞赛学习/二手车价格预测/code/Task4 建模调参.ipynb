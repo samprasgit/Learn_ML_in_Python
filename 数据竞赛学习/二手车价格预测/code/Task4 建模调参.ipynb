{
 "cells": [
  {
   "cell_type": "code",
   "execution_count": 2,
   "metadata": {
    "ExecuteTime": {
     "end_time": "2020-04-01T14:58:25.970369Z",
     "start_time": "2020-04-01T14:58:25.511849Z"
    }
   },
   "outputs": [],
   "source": [
    "import pandas as pd \n",
    "import numpy as np \n",
    "import warnings\n",
    "warnings.filterwarnings('ignore') "
   ]
  },
  {
   "cell_type": "markdown",
   "metadata": {},
   "source": [
    "reduce_mem_usage 函数通过调整数据类型，帮助我们减少数据在内存中占用的空间"
   ]
  },
  {
   "cell_type": "code",
   "execution_count": 3,
   "metadata": {
    "ExecuteTime": {
     "end_time": "2020-04-01T14:58:33.374661Z",
     "start_time": "2020-04-01T14:58:33.362779Z"
    }
   },
   "outputs": [],
   "source": [
    "def reduce_mem_usage(df):\n",
    "    \"\"\" iterate through all the columns of a dataframe and modify the data type\n",
    "        to reduce memory usage.        \n",
    "    \"\"\"\n",
    "    start_mem = df.memory_usage().sum()\n",
    "    print('Memory usage of dataframe is {:.2f} MB'.format(start_mem))\n",
    "\n",
    "    for col in df.columns:\n",
    "        col_type = df[col].dtype\n",
    "\n",
    "        if col_type != object:\n",
    "            c_min = df[col].min()\n",
    "            c_max = df[col].max()\n",
    "            if str(col_type)[:3] == 'int':\n",
    "                if c_min > np.iinfo(np.int8).min and c_max < np.iinfo(np.int8).max:\n",
    "                    df[col] = df[col].astype(np.int8)\n",
    "                elif c_min > np.iinfo(np.int16).min and c_max < np.iinfo(np.int16).max:\n",
    "                    df[col] = df[col].astype(np.int16)\n",
    "                elif c_min > np.iinfo(np.int32).min and c_max < np.iinfo(np.int32).max:\n",
    "                    df[col] = df[col].astype(np.int32)\n",
    "                elif c_min > np.iinfo(np.int64).min and c_max < np.iinfo(np.int64).max:\n",
    "                    df[col] = df[col].astype(np.int64)\n",
    "            else:\n",
    "                if c_min > np.finfo(np.float16).min and c_max < np.finfo(np.float16).max:\n",
    "                    df[col] = df[col].astype(np.float16)\n",
    "                elif c_min > np.finfo(np.float32).min and c_max < np.finfo(np.float32).max:\n",
    "                    df[col] = df[col].astype(np.float32)\n",
    "                else:\n",
    "                    df[col] = df[col].astype(np.float64)\n",
    "        else:\n",
    "            df[col] = df[col].astype('category')\n",
    "\n",
    "    end_mem = df.memory_usage().sum()\n",
    "    print('Memory usage after optimization is: {:.2f} MB'.format(end_mem))\n",
    "    print('Decreased by {:.1f}%'.format(\n",
    "        100 * (start_mem - end_mem) / start_mem))\n",
    "    return df"
   ]
  },
  {
   "cell_type": "code",
   "execution_count": 7,
   "metadata": {
    "ExecuteTime": {
     "end_time": "2020-04-01T15:00:56.970171Z",
     "start_time": "2020-04-01T15:00:53.997228Z"
    }
   },
   "outputs": [
    {
     "name": "stdout",
     "output_type": "stream",
     "text": [
      "Memory usage of dataframe is 78022632.00 MB\n",
      "Memory usage after optimization is: 22093339.00 MB\n",
      "Decreased by 71.7%\n"
     ]
    }
   ],
   "source": [
    "sample_feature = reduce_mem_usage(pd.read_csv('../data/data_for_tree.gz'))"
   ]
  },
  {
   "cell_type": "code",
   "execution_count": 8,
   "metadata": {
    "ExecuteTime": {
     "end_time": "2020-04-01T15:01:32.501362Z",
     "start_time": "2020-04-01T15:01:32.498511Z"
    }
   },
   "outputs": [],
   "source": [
    "continous_faeture_names = [\n",
    "    x for x in sample_feature.columns if x not in ['price', 'brand', 'model']]\n",
    "# continous_faeture_names"
   ]
  },
  {
   "cell_type": "markdown",
   "metadata": {},
   "source": [
    "## 线性回归\n",
    "\n",
    "简单建模\n",
    "\n",
    "五折交叉验证"
   ]
  },
  {
   "cell_type": "code",
   "execution_count": 9,
   "metadata": {
    "ExecuteTime": {
     "end_time": "2020-04-01T15:02:32.228198Z",
     "start_time": "2020-04-01T15:02:31.575008Z"
    }
   },
   "outputs": [],
   "source": [
    "from sklearn.ensemble import RandomForestRegressor\n",
    "from sklearn.impute import SimpleImputer\n",
    "\n",
    "\n",
    "def missing_implute_rf(X_missing, y):\n",
    "    \"\"\"\n",
    "    X_missing: feature columns \n",
    "    y: target\n",
    "    \"\"\"\n",
    "\n",
    "    sortindex = np.argsort(X_missing.isnull().sum(axis=0)).values\n",
    "\n",
    "    for i in sortindex:\n",
    "\n",
    "        # Construct new feature matrix and new labels\n",
    "        df = X_missing\n",
    "        if df.iloc[:, i].isnull().sum() > 0:\n",
    "            fillc = df.iloc[:, i]\n",
    "            df = pd.concat(\n",
    "                [df.iloc[:, df.columns != df.columns[i]], pd.DataFrame(y)], axis=1)\n",
    "            # Filling columns with missing values with 0 in new feature matrix\n",
    "            df_0 = SimpleImputer(missing_values=np.nan,\n",
    "                                 strategy='constant', fill_value=0).fit_transform(df)\n",
    "            # New train datesets and test datasets\n",
    "            Y_train = fillc[fillc.notnull()]\n",
    "            Y_test = fillc[fillc.isnull()]\n",
    "            X_train = df_0[Y_train.index, :]\n",
    "            X_test = df_0[Y_test.index, :]\n",
    "            # Filling missing values with random forest regression\n",
    "            rfc = RandomForestRegressor(n_estimators=5)\n",
    "            rfc = rfc.fit(X_train, Y_train)\n",
    "            Y_predict = rfc.predict(X_test)\n",
    "            # Add the filled features to the original feature matrix\n",
    "            X_missing.loc[X_missing.iloc[:, i].isnull(\n",
    "            ), X_missing.columns[i]] = Y_predict\n",
    "    return pd.concat([X_missing, pd.DataFrame(y)], axis=1) "
   ]
  },
  {
   "cell_type": "code",
   "execution_count": 10,
   "metadata": {
    "ExecuteTime": {
     "end_time": "2020-04-01T15:02:56.811341Z",
     "start_time": "2020-04-01T15:02:56.729352Z"
    }
   },
   "outputs": [],
   "source": [
    "sample_feature = sample_feature.replace('-', np.nan).reset_index(drop=True)\n",
    "sample_feature['notRepairedDamage'] = sample_feature['notRepairedDamage'].astype(\n",
    "    np.float32)"
   ]
  },
  {
   "cell_type": "code",
   "execution_count": 11,
   "metadata": {
    "ExecuteTime": {
     "end_time": "2020-04-01T15:06:44.058393Z",
     "start_time": "2020-04-01T15:03:49.222399Z"
    },
    "scrolled": true
   },
   "outputs": [
    {
     "data": {
      "text/plain": [
       "name                     0.0\n",
       "v_11                     0.0\n",
       "v_12                     0.0\n",
       "v_13                     0.0\n",
       "v_14                     0.0\n",
       "train                    0.0\n",
       "used_time                0.0\n",
       "city                     0.0\n",
       "brand_amount_x           0.0\n",
       "brand_price_average_x    0.0\n",
       "brand_price_max_x        0.0\n",
       "brand_price_median_x     0.0\n",
       "brand_price_min_x        0.0\n",
       "brand_price_std_x        0.0\n",
       "brand_price_sum_x        0.0\n",
       "brand_amount_y           0.0\n",
       "brand_price_average_y    0.0\n",
       "brand_price_max_y        0.0\n",
       "brand_price_median_y     0.0\n",
       "brand_price_min_y        0.0\n",
       "brand_price_std_y        0.0\n",
       "brand_price_sum_y        0.0\n",
       "v_10                     0.0\n",
       "power_bin                0.0\n",
       "v_9                      0.0\n",
       "v_7                      0.0\n",
       "regDate                  0.0\n",
       "model                    0.0\n",
       "brand                    0.0\n",
       "bodyType                 0.0\n",
       "fuelType                 0.0\n",
       "gearbox                  0.0\n",
       "power                    0.0\n",
       "kilometer                0.0\n",
       "notRepairedDamage        0.0\n",
       "regionCode               0.0\n",
       "seller                   0.0\n",
       "offerType                0.0\n",
       "creatDate                0.0\n",
       "price                    0.0\n",
       "v_0                      0.0\n",
       "v_1                      0.0\n",
       "v_2                      0.0\n",
       "v_3                      0.0\n",
       "v_4                      0.0\n",
       "v_5                      0.0\n",
       "v_6                      0.0\n",
       "v_8                      0.0\n",
       "SaleID                   0.0\n",
       "dtype: float64"
      ]
     },
     "execution_count": 11,
     "metadata": {},
     "output_type": "execute_result"
    }
   ],
   "source": [
    "sample_feature = missing_implute_rf(\n",
    "    sample_feature.iloc[:, 1:], sample_feature.iloc[:, 0])\n",
    "(sample_feature.isnull().sum()/len(sample_feature)).sort_values()"
   ]
  },
  {
   "cell_type": "code",
   "execution_count": 12,
   "metadata": {
    "ExecuteTime": {
     "end_time": "2020-04-01T15:06:59.405269Z",
     "start_time": "2020-04-01T15:06:59.362105Z"
    }
   },
   "outputs": [],
   "source": [
    "train = sample_feature[continous_faeture_names + ['price']]\n",
    "\n",
    "train_X = train[continous_faeture_names]\n",
    "train_y = train['price']"
   ]
  },
  {
   "cell_type": "code",
   "execution_count": 61,
   "metadata": {
    "ExecuteTime": {
     "end_time": "2020-04-01T15:32:31.531275Z",
     "start_time": "2020-04-01T15:32:18.523658Z"
    }
   },
   "outputs": [],
   "source": [
    "train.to_csv('train_data.gz', compression='gzip', index=False) "
   ]
  },
  {
   "cell_type": "code",
   "execution_count": 13,
   "metadata": {
    "ExecuteTime": {
     "end_time": "2020-04-01T15:07:02.637769Z",
     "start_time": "2020-04-01T15:07:02.313633Z"
    }
   },
   "outputs": [],
   "source": [
    "# 简单建模\n",
    "from sklearn.linear_model import LinearRegression\n",
    "\n",
    "model = LinearRegression(normalize=True)\n",
    "model = model.fit(train_X, train_y) "
   ]
  },
  {
   "cell_type": "code",
   "execution_count": 14,
   "metadata": {
    "ExecuteTime": {
     "end_time": "2020-04-01T15:07:07.991994Z",
     "start_time": "2020-04-01T15:07:07.983602Z"
    },
    "scrolled": true
   },
   "outputs": [
    {
     "data": {
      "text/plain": [
       "[('v_6', 3132076.2681113933),\n",
       " ('v_5', 1672234.5369694906),\n",
       " ('v_8', 952802.1429982662),\n",
       " ('v_9', 532508.3355661477),\n",
       " ('v_7', 313957.2054109493),\n",
       " ('v_10', 21192.701052800006),\n",
       " ('v_11', 11560.500222914807),\n",
       " ('seller', 2261.961224948538),\n",
       " ('gearbox', 1052.309183827233),\n",
       " ('v_14', 843.9438137468121),\n",
       " ('notRepairedDamage', 253.8700634694952),\n",
       " ('bodyType', 223.09322503436675),\n",
       " ('power_bin', 171.3232317718457),\n",
       " ('city', 22.81134187560475),\n",
       " ('fuelType', 7.028971485953272),\n",
       " ('used_time', 0.9459547804069172),\n",
       " ('brand_price_median_x', 0.2869118633988697),\n",
       " ('brand_price_median_y', 0.2869118633948874),\n",
       " ('brand_price_std_x', 0.2010604197019772),\n",
       " ('brand_price_std_y', 0.20106041969855265),\n",
       " ('brand_amount_y', 0.10804672724361701),\n",
       " ('brand_amount_x', 0.10804672724318934),\n",
       " ('power', 0.09065676872911947),\n",
       " ('regDate', 0.03262490556277034),\n",
       " ('regionCode', 0.014649823828907874),\n",
       " ('brand_price_max_x', 0.0052295727029925704),\n",
       " ('brand_price_max_y', 0.005229572702856574),\n",
       " ('name', 0.00013710527830918692),\n",
       " ('offerType', 3.632623702287674e-06),\n",
       " ('brand_price_sum_x', -1.8685234728498745e-05),\n",
       " ('brand_price_sum_y', -1.868523472852418e-05),\n",
       " ('SaleID', -0.00012589487410542404),\n",
       " ('brand_price_average_y', -0.12526912239602156),\n",
       " ('brand_price_average_x', -0.12526912239818738),\n",
       " ('creatDate', -0.16495949475732224),\n",
       " ('brand_price_min_x', -1.6479745239780341),\n",
       " ('brand_price_min_y', -1.6479745241013164),\n",
       " ('train', -145.61167298375736),\n",
       " ('kilometer', -311.3434535816304),\n",
       " ('v_4', -437.6970397527131),\n",
       " ('v_12', -623.9947501953353),\n",
       " ('v_0', -1321.982378880698),\n",
       " ('v_13', -4337.089134775373),\n",
       " ('v_3', -7331.060450133466),\n",
       " ('v_2', -16456.06139151155),\n",
       " ('v_1', -25869.686629729695)]"
      ]
     },
     "execution_count": 14,
     "metadata": {},
     "output_type": "execute_result"
    }
   ],
   "source": [
    "# 查看训练的回归模型的截距(intercept)与权重(coef)\n",
    "'intercept: '+str(model.intercept_)\n",
    "sorted(dict(zip(continous_faeture_names, model.coef_)\n",
    "            ).items(), key=lambda x: x[1], reverse=True)"
   ]
  },
  {
   "cell_type": "code",
   "execution_count": 15,
   "metadata": {
    "ExecuteTime": {
     "end_time": "2020-04-01T15:07:23.755750Z",
     "start_time": "2020-04-01T15:07:23.352083Z"
    }
   },
   "outputs": [],
   "source": [
    "import matplotlib.pyplot as plt\n",
    "import seaborn as sns\n",
    "%matplotlib inline\n",
    "sns.set_style('white')"
   ]
  },
  {
   "cell_type": "code",
   "execution_count": 16,
   "metadata": {
    "ExecuteTime": {
     "end_time": "2020-04-01T15:07:35.819027Z",
     "start_time": "2020-04-01T15:07:35.815790Z"
    }
   },
   "outputs": [],
   "source": [
    "subsample_index = np.random.randint(0, len(train_y), size=50)"
   ]
  },
  {
   "cell_type": "code",
   "execution_count": 17,
   "metadata": {
    "ExecuteTime": {
     "end_time": "2020-04-01T15:07:38.875905Z",
     "start_time": "2020-04-01T15:07:38.617624Z"
    },
    "scrolled": true
   },
   "outputs": [
    {
     "name": "stdout",
     "output_type": "stream",
     "text": [
      "The predicted price is obvious different from true price\n"
     ]
    },
    {
     "data": {
      "image/png": "[encoded data removed]",
      "text/plain": [
       "<Figure size 432x288 with 1 Axes>"
      ]
     },
     "metadata": {},
     "output_type": "display_data"
    }
   ],
   "source": [
    "plt.scatter(train_X['v_9'][subsample_index],\n",
    "            train_y[subsample_index], color='black')\n",
    "plt.scatter(train_X['v_9'][subsample_index], model.predict(\n",
    "    train_X.loc[subsample_index]), color='blue')\n",
    "plt.xlabel('v_9')\n",
    "plt.ylabel('price')\n",
    "plt.legend(['True Price', 'Predicted Price'], loc='upper right')\n",
    "print('The predicted price is obvious different from true price')\n",
    "plt.show()"
   ]
  },
  {
   "cell_type": "markdown",
   "metadata": {},
   "source": [
    "绘制特征v_9的值与标签的散点图，图片发现模型的预测结果（蓝色点）与真实标签（黑色点）的分布差异较大，且部分预测值出现了小于0的情况，说明我们的模型存在一些问题"
   ]
  },
  {
   "cell_type": "markdown",
   "metadata": {
    "ExecuteTime": {
     "end_time": "2020-04-01T15:08:39.784387Z",
     "start_time": "2020-04-01T15:08:39.780614Z"
    }
   },
   "source": [
    "查看数据的标签（price）的分布"
   ]
  },
  {
   "cell_type": "code",
   "execution_count": 19,
   "metadata": {
    "ExecuteTime": {
     "end_time": "2020-04-01T15:08:48.446342Z",
     "start_time": "2020-04-01T15:08:47.552500Z"
    }
   },
   "outputs": [
    {
     "name": "stdout",
     "output_type": "stream",
     "text": [
      "It is clear to see the price shows a typical exponential distribution\n"
     ]
    },
    {
     "data": {
      "text/plain": [
       "<matplotlib.axes._subplots.AxesSubplot at 0x1a27eea650>"
      ]
     },
     "execution_count": 19,
     "metadata": {},
     "output_type": "execute_result"
    },
    {
     "data": {
      "image/png": "[encoded data removed]",
      "text/plain": [
       "<Figure size 1080x360 with 2 Axes>"
      ]
     },
     "metadata": {},
     "output_type": "display_data"
    }
   ],
   "source": [
    "import seaborn as sns\n",
    "print('It is clear to see the price shows a typical exponential distribution')\n",
    "plt.figure(figsize=(15, 5))\n",
    "plt.subplot(1, 2, 1)\n",
    "sns.distplot(train_y)\n",
    "plt.subplot(1, 2, 2)\n",
    "sns.distplot(train_y[train_y < np.quantile(train_y, 0.9)])"
   ]
  },
  {
   "cell_type": "markdown",
   "metadata": {},
   "source": [
    "所以对标签进行了 $log(x+1) $变换，使标签贴近于正态分布"
   ]
  },
  {
   "cell_type": "code",
   "execution_count": 20,
   "metadata": {
    "ExecuteTime": {
     "end_time": "2020-04-01T15:09:31.547766Z",
     "start_time": "2020-04-01T15:09:31.541195Z"
    }
   },
   "outputs": [],
   "source": [
    "train_y_ln = np.log(train_y + 1)"
   ]
  },
  {
   "cell_type": "code",
   "execution_count": 21,
   "metadata": {
    "ExecuteTime": {
     "end_time": "2020-04-01T15:09:44.474011Z",
     "start_time": "2020-04-01T15:09:43.786581Z"
    }
   },
   "outputs": [
    {
     "name": "stdout",
     "output_type": "stream",
     "text": [
      "The transformed price seems like normal distribution\n"
     ]
    },
    {
     "data": {
      "text/plain": [
       "<matplotlib.axes._subplots.AxesSubplot at 0x1a293ecad0>"
      ]
     },
     "execution_count": 21,
     "metadata": {},
     "output_type": "execute_result"
    },
    {
     "data": {
      "image/png": "[encoded data removed]",
      "text/plain": [
       "<Figure size 1080x360 with 2 Axes>"
      ]
     },
     "metadata": {},
     "output_type": "display_data"
    }
   ],
   "source": [
    "import seaborn as sns\n",
    "print('The transformed price seems like normal distribution')\n",
    "plt.figure(figsize=(15, 5))\n",
    "plt.subplot(1, 2, 1)\n",
    "sns.distplot(train_y_ln)\n",
    "plt.subplot(1, 2, 2)\n",
    "sns.distplot(train_y_ln[train_y_ln < np.quantile(train_y_ln, 0.9)]) "
   ]
  },
  {
   "cell_type": "code",
   "execution_count": 23,
   "metadata": {
    "ExecuteTime": {
     "end_time": "2020-04-01T15:11:12.956978Z",
     "start_time": "2020-04-01T15:11:12.761645Z"
    },
    "scrolled": true
   },
   "outputs": [
    {
     "name": "stdout",
     "output_type": "stream",
     "text": [
      "intercept:-156.44154692945287\n"
     ]
    },
    {
     "data": {
      "text/plain": [
       "[('v_9', 2.4135680444807095),\n",
       " ('v_1', 1.8730660053528156),\n",
       " ('v_2', 0.7115343073272797),\n",
       " ('v_13', 0.29154725354093053),\n",
       " ('v_12', 0.23377671099610645),\n",
       " ('v_14', 0.05291061444820268),\n",
       " ('seller', 0.03171344791333898),\n",
       " ('gearbox', 0.01975228398326564),\n",
       " ('power_bin', 0.009216299174500295),\n",
       " ('bodyType', 0.005640635589874023),\n",
       " ('brand_price_min_y', 3.056333382030481e-05),\n",
       " ('brand_price_min_x', 3.056333381295154e-05),\n",
       " ('creatDate', 1.0723984016554602e-05),\n",
       " ('brand_price_average_y', 5.946841332505992e-06),\n",
       " ('brand_price_average_x', 5.946841332474684e-06),\n",
       " ('regionCode', 1.9202466275464685e-06),\n",
       " ('brand_amount_x', 6.271634282283734e-07),\n",
       " ('brand_amount_y', 6.271634281919603e-07),\n",
       " ('brand_price_max_y', 4.520748933126296e-07),\n",
       " ('brand_price_max_x', 4.520748932942868e-07),\n",
       " ('SaleID', 2.192399871821753e-08),\n",
       " ('brand_price_sum_x', -2.2933418492370304e-11),\n",
       " ('brand_price_sum_y', -2.2933418496908213e-11),\n",
       " ('offerType', -3.298339379398385e-11),\n",
       " ('name', -4.5598222682616123e-08),\n",
       " ('brand_price_std_y', -1.4693412488902483e-06),\n",
       " ('brand_price_std_x', -1.469341249027547e-06),\n",
       " ('regDate', -1.7465972550514122e-06),\n",
       " ('brand_price_median_y', -5.261761158995787e-06),\n",
       " ('brand_price_median_x', -5.261761159240401e-06),\n",
       " ('power', -7.213556725080117e-06),\n",
       " ('used_time', -3.934581736221399e-05),\n",
       " ('fuelType', -0.0018669596077823501),\n",
       " ('city', -0.004439675086547809),\n",
       " ('kilometer', -0.008834306499125128),\n",
       " ('v_0', -0.020186924531505647),\n",
       " ('train', -0.04209574860158252),\n",
       " ('v_3', -0.1071295715786695),\n",
       " ('notRepairedDamage', -0.26315427087656584),\n",
       " ('v_4', -0.35465174866901583),\n",
       " ('v_11', -0.4492234402520412),\n",
       " ('v_10', -0.8862167076978748),\n",
       " ('v_7', -3.165469292926929),\n",
       " ('v_5', -19.642834736049323),\n",
       " ('v_8', -39.13991964031777),\n",
       " ('v_6', -182.9710623710482)]"
      ]
     },
     "execution_count": 23,
     "metadata": {},
     "output_type": "execute_result"
    }
   ],
   "source": [
    "# 查看对数变化model\n",
    "model = model.fit(train_X, train_y_ln)\n",
    "\n",
    "print('intercept:' + str(model.intercept_))\n",
    "sorted(dict(zip(continous_faeture_names, model.coef_)\n",
    "            ).items(), key=lambda x: x[1], reverse=True)"
   ]
  },
  {
   "cell_type": "code",
   "execution_count": 24,
   "metadata": {
    "ExecuteTime": {
     "end_time": "2020-04-01T15:11:41.380097Z",
     "start_time": "2020-04-01T15:11:41.129944Z"
    }
   },
   "outputs": [
    {
     "name": "stdout",
     "output_type": "stream",
     "text": [
      "The predicted price seems normal after np.log transforming\n"
     ]
    },
    {
     "data": {
      "image/png": "[encoded data removed]",
      "text/plain": [
       "<Figure size 432x288 with 1 Axes>"
      ]
     },
     "metadata": {},
     "output_type": "display_data"
    }
   ],
   "source": [
    "# v9可视化\n",
    "plt.scatter(train_X['v_9'][subsample_index],\n",
    "            train_y[subsample_index], color='black')\n",
    "plt.scatter(train_X['v_9'][subsample_index], np.exp(\n",
    "    model.predict(train_X.loc[subsample_index])), color='blue')\n",
    "plt.xlabel('v_9')\n",
    "plt.ylabel('price')\n",
    "plt.legend(['True Price', 'Predicted Price'], loc='upper right')\n",
    "print('The predicted price seems normal after np.log transforming')\n",
    "plt.show()"
   ]
  },
  {
   "cell_type": "code",
   "execution_count": 25,
   "metadata": {
    "ExecuteTime": {
     "end_time": "2020-04-01T15:11:57.822680Z",
     "start_time": "2020-04-01T15:11:57.819828Z"
    }
   },
   "outputs": [],
   "source": [
    "# 五折交叉验证\n",
    "from sklearn.model_selection import cross_val_score\n",
    "from sklearn.metrics import mean_absolute_error, make_scorer"
   ]
  },
  {
   "cell_type": "code",
   "execution_count": 26,
   "metadata": {
    "ExecuteTime": {
     "end_time": "2020-04-01T15:12:04.120763Z",
     "start_time": "2020-04-01T15:12:04.116549Z"
    }
   },
   "outputs": [],
   "source": [
    "#  函数装饰器\n",
    "def log_transfer(func):\n",
    "    def wrapper(y, yhat):\n",
    "        result = func(np.log(y), np.nan_to_num(np.log(yhat)))\n",
    "        return result\n",
    "    return wrapper"
   ]
  },
  {
   "cell_type": "markdown",
   "metadata": {},
   "source": [
    "使用线性回归模型，对未处理标签的特征数据进行五折交叉验证"
   ]
  },
  {
   "cell_type": "code",
   "execution_count": 27,
   "metadata": {
    "ExecuteTime": {
     "end_time": "2020-04-01T15:12:23.473577Z",
     "start_time": "2020-04-01T15:12:22.299098Z"
    }
   },
   "outputs": [
    {
     "name": "stderr",
     "output_type": "stream",
     "text": [
      "[Parallel(n_jobs=1)]: Using backend SequentialBackend with 1 concurrent workers.\n",
      "[Parallel(n_jobs=1)]: Done   5 out of   5 | elapsed:    1.2s finished\n"
     ]
    }
   ],
   "source": [
    "scores = cross_val_score(model, X=train_X, y=train_y, verbose=1,\n",
    "                         cv=5, scoring=make_scorer(log_transfer(mean_absolute_error))) "
   ]
  },
  {
   "cell_type": "code",
   "execution_count": 28,
   "metadata": {
    "ExecuteTime": {
     "end_time": "2020-04-01T15:12:27.311686Z",
     "start_time": "2020-04-01T15:12:27.308349Z"
    }
   },
   "outputs": [
    {
     "name": "stdout",
     "output_type": "stream",
     "text": [
      "AVG:  1.467348616112026\n"
     ]
    }
   ],
   "source": [
    "# 使用线性回归模型，对未处理标签的特征数据进行五折交叉验证\n",
    "print('AVG: ',np.mean(scores))"
   ]
  },
  {
   "cell_type": "code",
   "execution_count": 29,
   "metadata": {
    "ExecuteTime": {
     "end_time": "2020-04-01T15:12:51.934990Z",
     "start_time": "2020-04-01T15:12:50.656537Z"
    }
   },
   "outputs": [
    {
     "name": "stderr",
     "output_type": "stream",
     "text": [
      "[Parallel(n_jobs=1)]: Using backend SequentialBackend with 1 concurrent workers.\n",
      "[Parallel(n_jobs=1)]: Done   5 out of   5 | elapsed:    1.3s finished\n"
     ]
    }
   ],
   "source": [
    "# 使用线性回归对处理过标签的特征数据进行五折交叉验证\n",
    "scores = cross_val_score(model, X=train_X, y=train_y_ln,\n",
    "                         verbose=1, cv=5, scoring=make_scorer(mean_absolute_error))"
   ]
  },
  {
   "cell_type": "code",
   "execution_count": 30,
   "metadata": {
    "ExecuteTime": {
     "end_time": "2020-04-01T15:12:55.825190Z",
     "start_time": "2020-04-01T15:12:55.821457Z"
    }
   },
   "outputs": [
    {
     "name": "stdout",
     "output_type": "stream",
     "text": [
      "AVG:  0.18205154760209769\n"
     ]
    }
   ],
   "source": [
    "print(\"AVG: \",np.mean(scores))"
   ]
  },
  {
   "cell_type": "code",
   "execution_count": 31,
   "metadata": {
    "ExecuteTime": {
     "end_time": "2020-04-01T15:13:13.895526Z",
     "start_time": "2020-04-01T15:13:13.881581Z"
    }
   },
   "outputs": [
    {
     "data": {
      "text/html": [
       "<div>\n",
       "<style scoped>\n",
       "    .dataframe tbody tr th:only-of-type {\n",
       "        vertical-align: middle;\n",
       "    }\n",
       "\n",
       "    .dataframe tbody tr th {\n",
       "        vertical-align: top;\n",
       "    }\n",
       "\n",
       "    .dataframe thead th {\n",
       "        text-align: right;\n",
       "    }\n",
       "</style>\n",
       "<table border=\"1\" class=\"dataframe\">\n",
       "  <thead>\n",
       "    <tr style=\"text-align: right;\">\n",
       "      <th></th>\n",
       "      <th>cv1</th>\n",
       "      <th>cv2</th>\n",
       "      <th>cv3</th>\n",
       "      <th>cv4</th>\n",
       "      <th>cv5</th>\n",
       "    </tr>\n",
       "  </thead>\n",
       "  <tbody>\n",
       "    <tr>\n",
       "      <th>MAE</th>\n",
       "      <td>0.190724</td>\n",
       "      <td>0.19198</td>\n",
       "      <td>0.188369</td>\n",
       "      <td>0.182814</td>\n",
       "      <td>0.156371</td>\n",
       "    </tr>\n",
       "  </tbody>\n",
       "</table>\n",
       "</div>"
      ],
      "text/plain": [
       "          cv1      cv2       cv3       cv4       cv5\n",
       "MAE  0.190724  0.19198  0.188369  0.182814  0.156371"
      ]
     },
     "execution_count": 31,
     "metadata": {},
     "output_type": "execute_result"
    }
   ],
   "source": [
    "scores = pd.DataFrame(scores.reshape(1,-1))\n",
    "scores.columns = ['cv' + str(x) for x in range(1, 6)]\n",
    "scores.index = ['MAE']\n",
    "scores\n"
   ]
  },
  {
   "cell_type": "markdown",
   "metadata": {},
   "source": [
    "## 3 模拟真实业务情况\n",
    "\n",
    "但在事实上，由于我们并不具有预知未来的能力，五折交叉验证在某些与时间相关的数据集上反而反映了不真实的情况。通过2018年的二手车价格预测2017年的二手车价格，这显然是不合理的，因此我们还可以采用时间顺序对数据集进行分隔。在本例中，我们选用靠前时间的4/5样本当作训练集，靠后时间的1/5当作验证集，最终结果与五折交叉验证差距不大"
   ]
  },
  {
   "cell_type": "code",
   "execution_count": 32,
   "metadata": {
    "ExecuteTime": {
     "end_time": "2020-04-01T15:13:34.872059Z",
     "start_time": "2020-04-01T15:13:34.869501Z"
    }
   },
   "outputs": [],
   "source": [
    "import datetime"
   ]
  },
  {
   "cell_type": "code",
   "execution_count": 33,
   "metadata": {
    "ExecuteTime": {
     "end_time": "2020-04-01T15:13:36.555590Z",
     "start_time": "2020-04-01T15:13:36.540190Z"
    }
   },
   "outputs": [],
   "source": [
    "sample_feature = sample_feature.reset_index(drop=True)\n",
    "split_point = len(sample_feature)//5 * 4"
   ]
  },
  {
   "cell_type": "code",
   "execution_count": 35,
   "metadata": {
    "ExecuteTime": {
     "end_time": "2020-04-01T15:14:24.048397Z",
     "start_time": "2020-04-01T15:14:23.921432Z"
    }
   },
   "outputs": [],
   "source": [
    "train = sample_feature.loc[:split_point].dropna()\n",
    "val = sample_feature.loc[split_point:].dropna()\n",
    "\n",
    "train_X = train[continous_faeture_names]\n",
    "train_y_ln = np.log(train['price'] + 1)\n",
    "val_X = val[continous_faeture_names]\n",
    "val_y_ln = np.log(val['price'] + 1)"
   ]
  },
  {
   "cell_type": "code",
   "execution_count": 39,
   "metadata": {
    "ExecuteTime": {
     "end_time": "2020-04-01T15:15:02.183333Z",
     "start_time": "2020-04-01T15:15:02.020665Z"
    }
   },
   "outputs": [
    {
     "data": {
      "text/plain": [
       "0.15637752885451672"
      ]
     },
     "execution_count": 39,
     "metadata": {},
     "output_type": "execute_result"
    }
   ],
   "source": [
    "model = model.fit(train_X, train_y_ln)\n",
    "mean_absolute_error(val_y_ln, model.predict(val_X))"
   ]
  },
  {
   "cell_type": "code",
   "execution_count": 40,
   "metadata": {
    "ExecuteTime": {
     "end_time": "2020-04-01T15:15:19.075831Z",
     "start_time": "2020-04-01T15:15:19.073115Z"
    }
   },
   "outputs": [],
   "source": [
    "# 绘制学习率曲线\n",
    "from sklearn.model_selection import learning_curve,validation_curve\n",
    "# ?learning_curve "
   ]
  },
  {
   "cell_type": "code",
   "execution_count": 41,
   "metadata": {
    "ExecuteTime": {
     "end_time": "2020-04-01T15:15:22.202623Z",
     "start_time": "2020-04-01T15:15:22.193200Z"
    }
   },
   "outputs": [],
   "source": [
    "def plot_learning_curve(estimator, title, X, y, ylim=None, cv=None, n_jobs=1, train_size=np.linspace(.1, 1.0, 5)):\n",
    "    plt.figure()\n",
    "    plt.title(title)\n",
    "    if ylim is not None:\n",
    "        plt.ylim(*ylim)\n",
    "    plt.xlabel('Training example')\n",
    "    plt.ylabel('score')\n",
    "    train_sizes, train_scores, test_scores = learning_curve(\n",
    "        estimator, X, y, cv=cv, n_jobs=n_jobs, train_sizes=train_size, scoring=make_scorer(mean_absolute_error))\n",
    "    train_scores_mean = np.mean(train_scores, axis=1)\n",
    "    train_scores_std = np.std(train_scores, axis=1)\n",
    "    test_scores_mean = np.mean(test_scores, axis=1)\n",
    "    test_scores_std = np.std(test_scores, axis=1)\n",
    "    plt.grid()  # 区域\n",
    "    plt.fill_between(train_sizes, train_scores_mean - train_scores_std,\n",
    "                     train_scores_mean + train_scores_std, alpha=0.1,\n",
    "                     color=\"r\")\n",
    "    plt.fill_between(train_sizes, test_scores_mean - test_scores_std,\n",
    "                     test_scores_mean + test_scores_std, alpha=0.1,\n",
    "                     color=\"g\")\n",
    "    plt.plot(train_sizes, train_scores_mean, 'o-', color='r',\n",
    "             label=\"Training score\")\n",
    "    plt.plot(train_sizes, test_scores_mean, 'o-', color=\"g\",\n",
    "             label=\"Cross-validation score\")\n",
    "    plt.legend(loc=\"best\")\n",
    "    return plt"
   ]
  },
  {
   "cell_type": "code",
   "execution_count": 42,
   "metadata": {
    "ExecuteTime": {
     "end_time": "2020-04-01T15:15:33.641708Z",
     "start_time": "2020-04-01T15:15:33.242482Z"
    }
   },
   "outputs": [
    {
     "data": {
      "text/plain": [
       "<module 'matplotlib.pyplot' from '/Users/sampras/opt/anaconda3/lib/python3.7/site-packages/matplotlib/pyplot.py'>"
      ]
     },
     "execution_count": 42,
     "metadata": {},
     "output_type": "execute_result"
    },
    {
     "data": {
      "image/png": "[encoded data removed]",
      "text/plain": [
       "<Figure size 432x288 with 1 Axes>"
      ]
     },
     "metadata": {},
     "output_type": "display_data"
    }
   ],
   "source": [
    "plot_learning_curve(LinearRegression(), 'Liner_model',\n",
    "                    train_X[:1000], train_y_ln[:1000], ylim=(0.0, 0.5), cv=5, n_jobs=1)"
   ]
  },
  {
   "cell_type": "code",
   "execution_count": 47,
   "metadata": {
    "ExecuteTime": {
     "end_time": "2020-04-01T15:16:51.547562Z",
     "start_time": "2020-04-01T15:16:51.092937Z"
    }
   },
   "outputs": [
    {
     "data": {
      "image/png": "[encoded data removed]",
      "text/plain": [
       "<Figure size 576x396 with 1 Axes>"
      ]
     },
     "metadata": {},
     "output_type": "display_data"
    },
    {
     "data": {
      "text/plain": [
       "<matplotlib.axes._subplots.AxesSubplot at 0x1a28c7a7d0>"
      ]
     },
     "execution_count": 47,
     "metadata": {},
     "output_type": "execute_result"
    }
   ],
   "source": [
    "# 可视化模型训练分数与交叉验证测试分数的关系\n",
    "from yellowbrick.model_selection import LearningCurve\n",
    "\n",
    "viz = LearningCurve(LinearRegression(),\n",
    "                    param_name=\"max_depth\",\n",
    "                    param_range=np.arange(1, 11),\n",
    "                    cv=5,\n",
    "                    scoring=make_scorer(mean_absolute_error), n_jobs=1)\n",
    "\n",
    "# Fit and poof the visualizer\n",
    "viz.fit(train_X[:1000], train_y_ln[:1000])\n",
    "viz.poof()"
   ]
  },
  {
   "cell_type": "markdown",
   "metadata": {},
   "source": [
    "# 多种模型对比"
   ]
  },
  {
   "cell_type": "code",
   "execution_count": 48,
   "metadata": {
    "ExecuteTime": {
     "end_time": "2020-04-01T15:19:59.932178Z",
     "start_time": "2020-04-01T15:19:59.929929Z"
    }
   },
   "outputs": [],
   "source": [
    "# 线性模型 & 嵌入式特征选择"
   ]
  },
  {
   "cell_type": "markdown",
   "metadata": {},
   "source": [
    "在过滤式和包裹式特征选择方法中，特征选择过程与学习器训练过程有明显的分别。而嵌入式特征选择在学习器训练过程中自动地进行特征选择。嵌入式选择最常用的是L1正则化与L2正则化。在对线性回归模型加入两种正则化方法后，他们分别变成了岭回归与Lasso回归。  "
   ]
  },
  {
   "cell_type": "code",
   "execution_count": 49,
   "metadata": {
    "ExecuteTime": {
     "end_time": "2020-04-01T15:20:44.266210Z",
     "start_time": "2020-04-01T15:20:44.262828Z"
    }
   },
   "outputs": [],
   "source": [
    "from sklearn.linear_model import Lasso, LinearRegression, Ridge\n",
    "\n",
    "models = [LinearRegression(), Ridge(), Lasso()] "
   ]
  },
  {
   "cell_type": "code",
   "execution_count": 51,
   "metadata": {
    "ExecuteTime": {
     "end_time": "2020-04-01T15:21:40.559723Z",
     "start_time": "2020-04-01T15:21:24.921469Z"
    }
   },
   "outputs": [
    {
     "name": "stdout",
     "output_type": "stream",
     "text": [
      "LinearRegression is finished\n",
      "Ridge is finished\n",
      "Lasso is finished\n"
     ]
    }
   ],
   "source": [
    "result = dict()\n",
    "for model in models:\n",
    "    model_name = str(model).split('(')[0]\n",
    "    scores = cross_val_score(model, X=train_X, y=train_y_ln,\n",
    "                             verbose=0, cv=5, scoring=make_scorer(mean_absolute_error))\n",
    "    result[model_name] = scores\n",
    "    print(model_name + ' is finished')"
   ]
  },
  {
   "cell_type": "code",
   "execution_count": 52,
   "metadata": {
    "ExecuteTime": {
     "end_time": "2020-04-01T15:21:50.381469Z",
     "start_time": "2020-04-01T15:21:50.371875Z"
    }
   },
   "outputs": [
    {
     "data": {
      "text/html": [
       "<div>\n",
       "<style scoped>\n",
       "    .dataframe tbody tr th:only-of-type {\n",
       "        vertical-align: middle;\n",
       "    }\n",
       "\n",
       "    .dataframe tbody tr th {\n",
       "        vertical-align: top;\n",
       "    }\n",
       "\n",
       "    .dataframe thead th {\n",
       "        text-align: right;\n",
       "    }\n",
       "</style>\n",
       "<table border=\"1\" class=\"dataframe\">\n",
       "  <thead>\n",
       "    <tr style=\"text-align: right;\">\n",
       "      <th></th>\n",
       "      <th>LinearRegression</th>\n",
       "      <th>Ridge</th>\n",
       "      <th>Lasso</th>\n",
       "    </tr>\n",
       "  </thead>\n",
       "  <tbody>\n",
       "    <tr>\n",
       "      <th>cv1</th>\n",
       "      <td>0.191916</td>\n",
       "      <td>0.194388</td>\n",
       "      <td>0.453482</td>\n",
       "    </tr>\n",
       "    <tr>\n",
       "      <th>cv2</th>\n",
       "      <td>0.192812</td>\n",
       "      <td>0.195582</td>\n",
       "      <td>0.452834</td>\n",
       "    </tr>\n",
       "    <tr>\n",
       "      <th>cv3</th>\n",
       "      <td>0.192710</td>\n",
       "      <td>0.195312</td>\n",
       "      <td>0.450964</td>\n",
       "    </tr>\n",
       "    <tr>\n",
       "      <th>cv4</th>\n",
       "      <td>0.190960</td>\n",
       "      <td>0.193818</td>\n",
       "      <td>0.444255</td>\n",
       "    </tr>\n",
       "    <tr>\n",
       "      <th>cv5</th>\n",
       "      <td>0.182107</td>\n",
       "      <td>0.185143</td>\n",
       "      <td>0.433394</td>\n",
       "    </tr>\n",
       "  </tbody>\n",
       "</table>\n",
       "</div>"
      ],
      "text/plain": [
       "     LinearRegression     Ridge     Lasso\n",
       "cv1          0.191916  0.194388  0.453482\n",
       "cv2          0.192812  0.195582  0.452834\n",
       "cv3          0.192710  0.195312  0.450964\n",
       "cv4          0.190960  0.193818  0.444255\n",
       "cv5          0.182107  0.185143  0.433394"
      ]
     },
     "execution_count": 52,
     "metadata": {},
     "output_type": "execute_result"
    }
   ],
   "source": [
    "# 三种方法效果对比\n",
    "result = pd.DataFrame(result)\n",
    "result.index = ['cv'+str(x) for x in range(1, 6)]\n",
    "result"
   ]
  },
  {
   "cell_type": "code",
   "execution_count": 53,
   "metadata": {
    "ExecuteTime": {
     "end_time": "2020-04-01T15:22:21.744374Z",
     "start_time": "2020-04-01T15:22:21.030793Z"
    }
   },
   "outputs": [
    {
     "name": "stdout",
     "output_type": "stream",
     "text": [
      "intercept:-115.57404088733662\n"
     ]
    },
    {
     "data": {
      "text/plain": [
       "<matplotlib.axes._subplots.AxesSubplot at 0x121be7750>"
      ]
     },
     "execution_count": 53,
     "metadata": {},
     "output_type": "execute_result"
    },
    {
     "data": {
      "image/png": "[encoded data removed]",
      "text/plain": [
       "<Figure size 576x396 with 1 Axes>"
      ]
     },
     "metadata": {},
     "output_type": "display_data"
    }
   ],
   "source": [
    "model = LinearRegression().fit(train_X, train_y_ln)\n",
    "print('intercept:' + str(model.intercept_))\n",
    "sns.barplot(abs(model.coef_), continous_faeture_names)"
   ]
  },
  {
   "cell_type": "markdown",
   "metadata": {
    "ExecuteTime": {
     "end_time": "2020-03-24T15:49:15.700655Z",
     "start_time": "2020-03-24T15:49:15.696137Z"
    }
   },
   "source": [
    "L2正则化在拟合过程中通常都倾向于让权值尽可能小，最后构造一个所有参数都比较小的模型。因为一般认为参数值小的模型比较简单，能适应不同的数据集，也在一定程度上避免了过拟合现象。可以设想一下对于一个线性回归方程，若参数很大，那么只要数据偏移一点点，就会对结果造成很大的影响；但如果参数足够小，数据偏移得多一点也不会对结果造成什么影响，专业一点的说法是『抗扰动能力强』"
   ]
  },
  {
   "cell_type": "code",
   "execution_count": 54,
   "metadata": {
    "ExecuteTime": {
     "end_time": "2020-04-01T15:22:39.005318Z",
     "start_time": "2020-04-01T15:22:38.199712Z"
    }
   },
   "outputs": [
    {
     "name": "stdout",
     "output_type": "stream",
     "text": [
      "intercept:-115.57404088733662\n"
     ]
    },
    {
     "data": {
      "text/plain": [
       "<matplotlib.axes._subplots.AxesSubplot at 0x121962e50>"
      ]
     },
     "execution_count": 54,
     "metadata": {},
     "output_type": "execute_result"
    },
    {
     "data": {
      "image/png": "[encoded data removed]",
      "text/plain": [
       "<Figure size 576x396 with 1 Axes>"
      ]
     },
     "metadata": {},
     "output_type": "display_data"
    }
   ],
   "source": [
    "mdoel = Ridge().fit(train_X, train_y_ln)\n",
    "print('intercept:' + str(model.intercept_))\n",
    "sns.barplot(abs(model.coef_), continous_faeture_names)"
   ]
  },
  {
   "cell_type": "markdown",
   "metadata": {
    "ExecuteTime": {
     "end_time": "2020-03-24T15:52:16.433924Z",
     "start_time": "2020-03-24T15:52:16.430388Z"
    }
   },
   "source": [
    "L1正则化有助于生成一个稀疏权值矩阵，进而可以用于特征选择 "
   ]
  },
  {
   "cell_type": "code",
   "execution_count": 55,
   "metadata": {
    "ExecuteTime": {
     "end_time": "2020-04-01T15:23:03.020898Z",
     "start_time": "2020-04-01T15:22:59.440636Z"
    }
   },
   "outputs": [
    {
     "name": "stdout",
     "output_type": "stream",
     "text": [
      "intercept:-7.308043215843313\n"
     ]
    },
    {
     "data": {
      "text/plain": [
       "<matplotlib.axes._subplots.AxesSubplot at 0x122fc63d0>"
      ]
     },
     "execution_count": 55,
     "metadata": {},
     "output_type": "execute_result"
    },
    {
     "data": {
      "image/png": "[encoded data removed]",
      "text/plain": [
       "<Figure size 576x396 with 1 Axes>"
      ]
     },
     "metadata": {},
     "output_type": "display_data"
    }
   ],
   "source": [
    "model = Lasso().fit(train_X, train_y_ln)\n",
    "print('intercept:' + str(model.intercept_))\n",
    "sns.barplot(abs(model.coef_), continous_faeture_names)"
   ]
  },
  {
   "cell_type": "markdown",
   "metadata": {},
   "source": [
    "除此之外，决策树通过信息熵或GINI指数选择分裂节点时，优先选择的分裂特征也更加重要，这同样是一种特征选择的方法。XGBoost与LightGBM模型中的model_importance指标正是基于此计算的 "
   ]
  },
  {
   "cell_type": "code",
   "execution_count": 60,
   "metadata": {
    "ExecuteTime": {
     "end_time": "2020-04-01T15:29:53.906665Z",
     "start_time": "2020-04-01T15:29:53.882095Z"
    }
   },
   "outputs": [
    {
     "ename": "ModuleNotFoundError",
     "evalue": "No module named 'xgboost'",
     "output_type": "error",
     "traceback": [
      "\u001b[0;31m--------------------------------------\u001b[0m",
      "\u001b[0;31mModuleNotFoundError\u001b[0mTraceback (most recent call last)",
      "\u001b[0;32m<ipython-input-60-e3c248b11a09>\u001b[0m in \u001b[0;36m<module>\u001b[0;34m\u001b[0m\n\u001b[1;32m      6\u001b[0m \u001b[0;32mfrom\u001b[0m \u001b[0msklearn\u001b[0m\u001b[0;34m.\u001b[0m\u001b[0mensemble\u001b[0m \u001b[0;32mimport\u001b[0m \u001b[0mGradientBoostingRegressor\u001b[0m\u001b[0;34m\u001b[0m\u001b[0;34m\u001b[0m\u001b[0m\n\u001b[1;32m      7\u001b[0m \u001b[0;32mfrom\u001b[0m \u001b[0msklearn\u001b[0m\u001b[0;34m.\u001b[0m\u001b[0mneural_network\u001b[0m \u001b[0;32mimport\u001b[0m \u001b[0mMLPRegressor\u001b[0m\u001b[0;34m\u001b[0m\u001b[0;34m\u001b[0m\u001b[0m\n\u001b[0;32m----> 8\u001b[0;31m \u001b[0;32mfrom\u001b[0m \u001b[0mxgboost\u001b[0m\u001b[0;34m.\u001b[0m\u001b[0msklearn\u001b[0m \u001b[0;32mimport\u001b[0m \u001b[0mXGBRegressor\u001b[0m\u001b[0;34m\u001b[0m\u001b[0;34m\u001b[0m\u001b[0m\n\u001b[0m\u001b[1;32m      9\u001b[0m \u001b[0;32mfrom\u001b[0m \u001b[0mlightgbm\u001b[0m\u001b[0;34m.\u001b[0m\u001b[0msklearn\u001b[0m \u001b[0;32mimport\u001b[0m \u001b[0mLGBMRegressor\u001b[0m\u001b[0;34m\u001b[0m\u001b[0;34m\u001b[0m\u001b[0m\n",
      "\u001b[0;31mModuleNotFoundError\u001b[0m: No module named 'xgboost'"
     ]
    }
   ],
   "source": [
    "# 非线性模型\n",
    "from sklearn.linear_model import LinearRegression\n",
    "from sklearn.svm import SVC\n",
    "from sklearn.tree import DecisionTreeRegressor\n",
    "from sklearn.ensemble import RandomForestRegressor\n",
    "from sklearn.ensemble import GradientBoostingRegressor\n",
    "from sklearn.neural_network import MLPRegressor\n",
    "from xgboost.sklearn import XGBRegressor\n",
    "from lightgbm.sklearn import LGBMRegressor "
   ]
  },
  {
   "cell_type": "code",
   "execution_count": 134,
   "metadata": {
    "ExecuteTime": {
     "end_time": "2020-03-24T16:15:00.192576Z",
     "start_time": "2020-03-24T16:15:00.188067Z"
    }
   },
   "outputs": [],
   "source": [
    "models = [LinearRegression(),\n",
    "          DecisionTreeRegressor(),\n",
    "          RandomForestRegressor(),\n",
    "          GradientBoostingRegressor(),\n",
    "          MLPRegressor(solver='lbfgs', max_iter=100),\n",
    "          XGBRegressor(n_estimators=100, objective='reg:squarederror'),\n",
    "          LGBMRegressor(n_estimators=100)]"
   ]
  },
  {
   "cell_type": "code",
   "execution_count": null,
   "metadata": {
    "ExecuteTime": {
     "start_time": "2020-03-24T16:15:20.767Z"
    }
   },
   "outputs": [
    {
     "name": "stdout",
     "output_type": "stream",
     "text": [
      "LinearRegression is finished\n",
      "DecisionTreeRegressor is finished\n"
     ]
    }
   ],
   "source": [
    "result = dict()\n",
    "for model in models:\n",
    "    model_name = str(model).split('(')[0]\n",
    "    scores = cross_val_score(model, X=train_X, y=train_y_ln,\n",
    "                             verbose=0, cv=5, scoring=make_scorer(mean_absolute_error))\n",
    "    result[model_name] = scores\n",
    "    print(model_name + ' is finished')"
   ]
  },
  {
   "cell_type": "code",
   "execution_count": null,
   "metadata": {},
   "outputs": [],
   "source": [
    "result = pd.DataFrame(result)\n",
    "result.index = ['cv' + str(x) for x in range(1, 6)]\n",
    "result"
   ]
  },
  {
   "cell_type": "markdown",
   "metadata": {},
   "source": [
    "## 模型调参"
   ]
  },
  {
   "cell_type": "markdown",
   "metadata": {},
   "source": [
    "在此我们介绍了三种常用的调参方法如下：\n",
    "\n",
    "贪心算法 https://www.jianshu.com/p/ab89df9759c8\n",
    "\n",
    "网格调参 https://blog.csdn.net/weixin_43172660/article/details/83032029\n",
    "\n",
    "贝叶斯调参 https://blog.csdn.net/linxid/article/details/81189154"
   ]
  },
  {
   "cell_type": "code",
   "execution_count": 63,
   "metadata": {
    "ExecuteTime": {
     "end_time": "2020-04-01T15:42:45.080539Z",
     "start_time": "2020-04-01T15:42:45.076662Z"
    }
   },
   "outputs": [],
   "source": [
    "# LGB的参数集合：\n",
    "\n",
    "objective = ['regression', 'regression_l1', 'mape', 'huber', 'fair']\n",
    "\n",
    "num_leaves = [3, 5, 10, 15, 20, 40, 55]\n",
    "max_depth = [3, 5, 10, 15, 20, 40, 55]\n",
    "bagging_fraction = []\n",
    "feature_fraction = []\n",
    "drop_rate = []"
   ]
  },
  {
   "cell_type": "code",
   "execution_count": null,
   "metadata": {},
   "outputs": [],
   "source": [
    "# 贪心调参\n",
    "best_obj = dict()\n",
    "for obj in objective:\n",
    "    model = LGBMRegressor(objective=obj)\n",
    "    score = np.mean(cross_val_score(model, X=train_X, y=train_y_ln,\n",
    "                                    verbose=0, cv=5, scoring=make_scorer(mean_absolute_error)))\n",
    "    best_obj[obj] = score\n",
    "\n",
    "best_leaves = dict()\n",
    "for leaves in num_leaves:\n",
    "    model = LGBMRegressor(objective=min(\n",
    "        best_obj.items(), key=lambda x: x[1])[0], num_leaves=leaves)\n",
    "    score = np.mean(cross_val_score(model, X=train_X, y=train_y_ln,\n",
    "                                    verbose=0, cv=5, scoring=make_scorer(mean_absolute_error)))\n",
    "    best_leaves[leaves] = score\n",
    "\n",
    "best_depth = dict()\n",
    "for depth in max_depth:\n",
    "    model = LGBMRegressor(objective=min(best_obj.items(), key=lambda x: x[1])[0],\n",
    "                          num_leaves=min(best_leaves.items(),\n",
    "                                         key=lambda x: x[1])[0],\n",
    "                          max_depth=depth)\n",
    "    score = np.mean(cross_val_score(model, X=train_X, y=train_y_ln,\n",
    "                                    verbose=0, cv=5, scoring=make_scorer(mean_absolute_error)))\n",
    "    best_depth[depth] = score"
   ]
  },
  {
   "cell_type": "code",
   "execution_count": null,
   "metadata": {},
   "outputs": [],
   "source": [
    "sns.lineplot(x=['0_initial', '1_turning_obj', '2_turning_leaves', '3_turning_depth'], y=[\n",
    "             0.143, min(best_obj.values()), min(best_leaves.values()), min(best_depth.values())])"
   ]
  },
  {
   "cell_type": "code",
   "execution_count": null,
   "metadata": {},
   "outputs": [],
   "source": [
    "# Grid Search 调参\n",
    "from sklearn.model_selection import GridSearchCV\n",
    "parameters = {'objective': objective,\n",
    "              'num_leaves': num_leaves, 'max_depth': max_depth}\n",
    "model = LGBMRegressor()\n",
    "clf = GridSearchCV(model, parameters, cv=5)\n",
    "clf = clf.fit(train_X, train_y)\n",
    "clf.best_params_"
   ]
  },
  {
   "cell_type": "code",
   "execution_count": null,
   "metadata": {},
   "outputs": [],
   "source": [
    "model = LGBMRegressor(objective='regression',\n",
    "                          num_leaves=55,\n",
    "                          max_depth=15)"
   ]
  },
  {
   "cell_type": "code",
   "execution_count": null,
   "metadata": {},
   "outputs": [],
   "source": [
    "np.mean(cross_val_score(model, X=train_X, y=train_y_ln, verbose=0, cv = 5, scoring=make_scorer(mean_absolute_error)))"
   ]
  },
  {
   "cell_type": "code",
   "execution_count": null,
   "metadata": {},
   "outputs": [],
   "source": [
    "# 贝叶斯调参\n",
    "from bayes_opt import BayesianOptimization\n",
    "\n",
    "\n",
    "def rf_cv(num_leaves, max_depth, subsample, min_child_samples):\n",
    "    val = cross_val_score(\n",
    "        LGBMRegressor(objective='regression_l1',\n",
    "                      num_leaves=int(num_leaves),\n",
    "                      max_depth=int(max_depth),\n",
    "                      subsample=subsample,\n",
    "                      min_child_samples=int(min_child_samples)\n",
    "                      ),\n",
    "        X=train_X, y=train_y_ln, verbose=0, cv=5, scoring=make_scorer(mean_absolute_error)\n",
    "    ).mean()\n",
    "    return 1 - val\n",
    "\n",
    "\n",
    "rf_bo = BayesianOptimization(\n",
    "    rf_cv,\n",
    "    {\n",
    "        'num_leaves': (2, 100),\n",
    "        'max_depth': (2, 100),\n",
    "        'subsample': (0.1, 1),\n",
    "        'min_child_samples': (2, 100)\n",
    "    }\n",
    ")\n",
    "\n",
    "rf_bo.maximize()"
   ]
  }
 ],
 "metadata": {
  "kernelspec": {
   "display_name": "Python 3",
   "language": "python",
   "name": "python3"
  },
  "language_info": {
   "codemirror_mode": {
    "name": "ipython",
    "version": 3
   },
   "file_extension": ".py",
   "mimetype": "text/x-python",
   "name": "python",
   "nbconvert_exporter": "python",
   "pygments_lexer": "ipython3",
   "version": "3.7.6"
  },
  "toc": {
   "base_numbering": 1,
   "nav_menu": {},
   "number_sections": true,
   "sideBar": true,
   "skip_h1_title": false,
   "title_cell": "Table of Contents",
   "title_sidebar": "Contents",
   "toc_cell": false,
   "toc_position": {},
   "toc_section_display": true,
   "toc_window_display": false
  },
  "varInspector": {
   "cols": {
    "lenName": 16,
    "lenType": 16,
    "lenVar": 40
   },
   "kernels_config": {
    "python": {
     "delete_cmd_postfix": "",
     "delete_cmd_prefix": "del ",
     "library": "var_list.py",
     "varRefreshCmd": "print(var_dic_list())"
    },
    "r": {
     "delete_cmd_postfix": ") ",
     "delete_cmd_prefix": "rm(",
     "library": "var_list.r",
     "varRefreshCmd": "cat(var_dic_list()) "
    }
   },
   "types_to_exclude": [
    "module",
    "function",
    "builtin_function_or_method",
    "instance",
    "_Feature"
   ],
   "window_display": false
  }
 },
 "nbformat": 4,
 "nbformat_minor": 4
}
