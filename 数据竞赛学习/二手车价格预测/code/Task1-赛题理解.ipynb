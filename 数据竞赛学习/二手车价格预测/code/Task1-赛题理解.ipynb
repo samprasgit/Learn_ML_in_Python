{
 "cells": [
  {
   "cell_type": "markdown",
   "metadata": {},
   "source": [
    "## 二手车交易价格预测\n"
   ]
  },
  {
   "cell_type": "markdown",
   "metadata": {},
   "source": [
    "理解赛题数据和目标，清楚评分体系 "
   ]
  },
  {
   "cell_type": "markdown",
   "metadata": {},
   "source": [
    "### 赛题概况\n",
    "\n",
    "比赛要求参赛选手根据给定的数据集，建立模型，二手汽车的交易价格。\n",
    "\n",
    "来自 Ebay Kleinanzeigen 报废的二手车，数量超过 370,000，包含 20 列变量信息，为了保证 比赛的公平性，将 会从中抽取 10 万条作为训练集，5 万条作为测试集 A，5 万条作为测试集 B。同时会对名称、车辆类型、变速 箱、model、燃油类型、品牌、公里数、价格等信息进行脱敏。\n",
    "通过这道赛题来引导大家走进 AI 数据竞赛的世界，主要针对于于竞赛新人进行自我练习、自我提高。\n",
    "\n",
    "\n",
    "train.csv\n",
    "\n",
    "    SaleID - 销售样本ID\n",
    "\n",
    "    name - 汽车编码\n",
    "\n",
    "    regDate - 汽车注册时间\n",
    "\n",
    "    model - 车型编码\n",
    "\n",
    "    brand - 品牌\n",
    "\n",
    "    bodyType - 车身类型\n",
    "\n",
    "    fuelType - 燃油类型\n",
    "\n",
    "    gearbox - 变速箱\n",
    "\n",
    "    power - 汽车功率\n",
    "\n",
    "    kilometer - 汽车行驶公里\n",
    "\n",
    "    notRepairedDamage - 汽车有尚未修复的损坏\n",
    "\n",
    "    regionCode - 看车地区编码\n",
    "\n",
    "    seller - 销售方\n",
    "\n",
    "    offerType - 报价类型\n",
    "\n",
    "    creatDate - 广告发布时间\n",
    "\n",
    "    price - 汽车价格\n",
    "\n",
    "    v_0', 'v_1', 'v_2', 'v_3', 'v_4', 'v_5', 'v_6', 'v_7', 'v_8', 'v_9', 'v_10', 'v_11', 'v_12', 'v_13','v_14' 【匿名特征，包含v0-14在内15个匿名特征】 　\n",
    "\n",
    "数字全都脱敏处理，都为label encoding形式，即数字形式"
   ]
  },
  {
   "cell_type": "markdown",
   "metadata": {},
   "source": [
    "### 预测指标"
   ]
  },
  {
   "cell_type": "markdown",
   "metadata": {
    "ExecuteTime": {
     "end_time": "2020-03-23T03:03:29.459971Z",
     "start_time": "2020-03-23T03:03:29.448659Z"
    }
   },
   "source": [
    "评价指标\n",
    "\n",
    "MAE(Mean Absolute Error):\n",
    "\n",
    "$$\n",
    "MAE=\\frac{1}{N} \\sum_{i=1}^{N}\\left|y_{i}-\\hat{y}_{i}\\right| \n",
    "$$\n",
    "\n",
    "其中 $y_i$代表第 $i$个样本的真实值，其中$\\hat{y_i}$代表第$i$个样本的预测值。\n",
    "\n"
   ]
  },
  {
   "cell_type": "markdown",
   "metadata": {},
   "source": [
    "一般问题评价指标说明:\n",
    "\n",
    "什么是评估指标：\n",
    "\n",
    ">评估指标即是我们对于一个模型效果的数值型量化。（有点类似与对于一个商品评价打分，而这是针对于模型效果和理想效果之间的一个打分）\n"
   ]
  },
  {
   "cell_type": "code",
   "execution_count": null,
   "metadata": {},
   "outputs": [],
   "source": [
    "\n"
   ]
  }
 ],
 "metadata": {
  "kernelspec": {
   "display_name": "Python 3",
   "language": "python",
   "name": "python3"
  },
  "language_info": {
   "codemirror_mode": {
    "name": "ipython",
    "version": 3
   },
   "file_extension": ".py",
   "mimetype": "text/x-python",
   "name": "python",
   "nbconvert_exporter": "python",
   "pygments_lexer": "ipython3",
   "version": "3.7.6"
  },
  "toc": {
   "base_numbering": 1,
   "nav_menu": {},
   "number_sections": true,
   "sideBar": true,
   "skip_h1_title": false,
   "title_cell": "Table of Contents",
   "title_sidebar": "Contents",
   "toc_cell": false,
   "toc_position": {},
   "toc_section_display": true,
   "toc_window_display": false
  },
  "varInspector": {
   "cols": {
    "lenName": 16,
    "lenType": 16,
    "lenVar": 40
   },
   "kernels_config": {
    "python": {
     "delete_cmd_postfix": "",
     "delete_cmd_prefix": "del ",
     "library": "var_list.py",
     "varRefreshCmd": "print(var_dic_list())"
    },
    "r": {
     "delete_cmd_postfix": ") ",
     "delete_cmd_prefix": "rm(",
     "library": "var_list.r",
     "varRefreshCmd": "cat(var_dic_list()) "
    }
   },
   "types_to_exclude": [
    "module",
    "function",
    "builtin_function_or_method",
    "instance",
    "_Feature"
   ],
   "window_display": false
  }
 },
 "nbformat": 4,
 "nbformat_minor": 4
}
