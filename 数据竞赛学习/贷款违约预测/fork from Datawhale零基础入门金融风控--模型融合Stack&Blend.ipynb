{
 "cells": [
  {
   "cell_type": "markdown",
   "metadata": {
    "ExecuteTime": {
     "end_time": "2020-09-22T02:50:35.532579Z",
     "start_time": "2020-09-22T02:50:30.241786Z"
    }
   },
   "source": [
    "#### 针对直播中提到对于模型融合stacking和blending方法的使用\n",
    "直播链接：[Datawhale 零基础入门金融风控 建模调参&模型融合](https://tianchi.aliyun.com/course/live?liveId=41206)\n",
    "> 优点：可以直接使用xgb、lgb原生库进行建模，效率远高于sklearn接口下的建模"
   ]
  },
  {
   "cell_type": "markdown",
   "metadata": {},
   "source": [
    "### 使用heamy模块进行模型在线融合"
   ]
  },
  {
   "cell_type": "code",
   "execution_count": 1,
   "metadata": {
    "ExecuteTime": {
     "end_time": "2020-09-24T08:04:54.003468Z",
     "start_time": "2020-09-24T08:04:53.252815Z"
    }
   },
   "outputs": [],
   "source": [
    "import pandas as pd\n",
    "import numpy as np\n",
    "import warnings\n",
    "import os\n",
    "warnings.filterwarnings('ignore')"
   ]
  },
  {
   "cell_type": "code",
   "execution_count": 2,
   "metadata": {
    "ExecuteTime": {
     "end_time": "2020-09-24T08:04:54.672431Z",
     "start_time": "2020-09-24T08:04:54.005429Z"
    }
   },
   "outputs": [],
   "source": [
    "# import pandas as pd\n",
    "import seaborn as sns\n",
    "import matplotlib.pyplot as plt\n",
    "\"\"\"\n",
    "sns 相关设置\n",
    "@return:\n",
    "\"\"\"\n",
    "# 声明使用 Seaborn 样式\n",
    "sns.set()\n",
    "# 有五种seaborn的绘图风格，它们分别是：darkgrid, whitegrid, dark, white, ticks。默认的主题是darkgrid。\n",
    "sns.set_style(\"whitegrid\")\n",
    "# 有四个预置的环境，按大小从小到大排列分别为：paper, notebook, talk, poster。其中，notebook是默认的。\n",
    "sns.set_context('talk')\n",
    "# 中文字体设置-黑体\n",
    "plt.rcParams['font.sans-serif'] = ['SimHei']\n",
    "# 解决保存图像是负号'-'显示为方块的问题\n",
    "plt.rcParams['axes.unicode_minus'] = False\n",
    "# 解决Seaborn中文显示问题并调整字体大小\n",
    "sns.set(font='SimHei')"
   ]
  },
  {
   "cell_type": "markdown",
   "metadata": {},
   "source": [
    "### 数据预操作 "
   ]
  },
  {
   "cell_type": "code",
   "execution_count": 3,
   "metadata": {
    "ExecuteTime": {
     "end_time": "2020-09-24T08:04:54.686316Z",
     "start_time": "2020-09-24T08:04:54.674371Z"
    }
   },
   "outputs": [],
   "source": [
    "# reduce_mem_usage 函数通过调整数据类型，帮助我们减少数据在内存中占用的空间\n",
    "def reduce_mem_usage(df):\n",
    "    \"\"\" iterate through all the columns of a dataframe and modify the data type\n",
    "        to reduce memory usage.        \n",
    "    \"\"\"\n",
    "    start_mem = df.memory_usage().sum()  / 1024**2\n",
    "    print('Memory usage of dataframe is {:.2f} MB'.format(start_mem))\n",
    "    \n",
    "    for col in df.columns:\n",
    "        col_type = df[col].dtype\n",
    "        \n",
    "        if col_type != object:\n",
    "            c_min = df[col].min()\n",
    "            c_max = df[col].max()\n",
    "            if str(col_type)[:3] == 'int':\n",
    "                if c_min > np.iinfo(np.int8).min and c_max < np.iinfo(np.int8).max:\n",
    "                    df[col] = df[col].astype(np.int8)\n",
    "                elif c_min > np.iinfo(np.int16).min and c_max < np.iinfo(np.int16).max:\n",
    "                    df[col] = df[col].astype(np.int16)\n",
    "                elif c_min > np.iinfo(np.int32).min and c_max < np.iinfo(np.int32).max:\n",
    "                    df[col] = df[col].astype(np.int32)\n",
    "                elif c_min > np.iinfo(np.int64).min and c_max < np.iinfo(np.int64).max:\n",
    "                    df[col] = df[col].astype(np.int64)  \n",
    "            else:\n",
    "                if c_min > np.finfo(np.float16).min and c_max < np.finfo(np.float16).max:\n",
    "                    df[col] = df[col].astype(np.float16)\n",
    "                elif c_min > np.finfo(np.float32).min and c_max < np.finfo(np.float32).max:\n",
    "                    df[col] = df[col].astype(np.float32)\n",
    "                else:\n",
    "                    df[col] = df[col].astype(np.float64)\n",
    "        else:\n",
    "            df[col] = df[col].astype('category')\n",
    "\n",
    "    end_mem = df.memory_usage().sum()  / 1024**2\n",
    "    print('Memory usage after optimization is: {:.2f} MB'.format(end_mem))\n",
    "    print('Decreased by {:.1f}%'.format(100 * (start_mem - end_mem) / start_mem))\n",
    "    return df"
   ]
  },
  {
   "cell_type": "code",
   "execution_count": 4,
   "metadata": {
    "ExecuteTime": {
     "end_time": "2020-09-24T08:04:59.461692Z",
     "start_time": "2020-09-24T08:04:54.687337Z"
    }
   },
   "outputs": [
    {
     "name": "stdout",
     "output_type": "stream",
     "text": [
      "Memory usage of dataframe is 328.06 MB\n",
      "Memory usage after optimization is: 80.11 MB\n",
      "Decreased by 75.6%\n"
     ]
    }
   ],
   "source": [
    "\"\"\"读取数据\"\"\"\n",
    "df_data = pd.read_csv(\"dataset/data_20200922_V1.csv\", encoding='gbk')\n",
    "df_data = reduce_mem_usage(df_data)"
   ]
  },
  {
   "cell_type": "code",
   "execution_count": null,
   "metadata": {},
   "outputs": [],
   "source": []
  },
  {
   "cell_type": "markdown",
   "metadata": {},
   "source": [
    "## 模型融合 "
   ]
  },
  {
   "cell_type": "code",
   "execution_count": 5,
   "metadata": {
    "ExecuteTime": {
     "end_time": "2020-09-24T08:05:00.109137Z",
     "start_time": "2020-09-24T08:04:59.463655Z"
    }
   },
   "outputs": [],
   "source": [
    "\"\"\"建立模型：【模型参数：xgb-->鱼佬baseline，lgb --> 贝叶斯调参】\"\"\"\n",
    "from sklearn import metrics\n",
    "import xgboost as xgb\n",
    "import lightgbm as lgb\n",
    "\n",
    "def xgb_model(X_train, y_train, X_test, y_test=None):\n",
    "    X_train_split, X_val, y_train_split, y_val = train_test_split(X_train, y_train, test_size=0.2)\n",
    "    train_matrix = xgb.DMatrix(X_train_split , label=y_train_split)\n",
    "    valid_matrix = xgb.DMatrix(X_val , label=y_val)\n",
    "    test_matrix = xgb.DMatrix(X_test)\n",
    "\n",
    "    params = {\n",
    "        'booster': 'gbtree',\n",
    "        'objective': 'binary:logistic',\n",
    "        'eval_metric': 'auc',\n",
    "        'gamma': 1,\n",
    "        'min_child_weight': 1.5,\n",
    "        'max_depth': 5,\n",
    "        'lambda': 10,\n",
    "        'subsample': 0.7,\n",
    "        'colsample_bytree': 0.7,\n",
    "        'colsample_bylevel': 0.7,\n",
    "        'eta': 0.04,\n",
    "        'tree_method': 'exact',\n",
    "        'seed': 2020,\n",
    "        'n_jobs': -1,\n",
    "        \"silent\": True,\n",
    "    }\n",
    "    watchlist = [(train_matrix, 'train'),(valid_matrix, 'eval')]\n",
    "    \n",
    "    model = xgb.train(params, train_matrix, num_boost_round=50000, evals=watchlist, verbose_eval=200, early_stopping_rounds=200)\n",
    "    \"\"\"计算在验证集上的得分\"\"\"\n",
    "    val_pred  = model.predict(valid_matrix, ntree_limit=model.best_ntree_limit)\n",
    "    fpr, tpr, threshold = metrics.roc_curve(y_val, val_pred)\n",
    "    roc_auc = metrics.auc(fpr, tpr)\n",
    "    print('调参后xgboost单模型在验证集上的AUC：{}'.format(roc_auc))\n",
    "    \"\"\"对测试集进行预测\"\"\"\n",
    "    test_pred = model.predict(test_matrix, ntree_limit=model.best_ntree_limit)\n",
    "    \n",
    "    return test_pred\n",
    "    \n",
    "\n",
    "def lgb_model(X_train, y_train, X_test, y_test=None):\n",
    "    X_train_split, X_val, y_train_split, y_val = train_test_split(X_train, y_train, test_size=0.2)\n",
    "    train_matrix = lgb.Dataset(X_train_split, label=y_train_split)\n",
    "    valid_matrix = lgb.Dataset(X_val, label=y_val)\n",
    "    \n",
    "    # 调参后的最优参数\n",
    "    params = {\n",
    "        'boosting_type': 'gbdt',\n",
    "        'objective': 'binary',\n",
    "        'metric': 'auc',\n",
    "        'learning_rate': 0.01,\n",
    "        'min_child_weight': 0.32,\n",
    "        'num_leaves': 14,\n",
    "        'max_depth': 4,\n",
    "        'feature_fraction': 0.81,\n",
    "        'bagging_fraction': 0.61,\n",
    "        'bagging_freq': 9,\n",
    "        'min_data_in_leaf': 13,\n",
    "        'min_split_gain': 0.27,\n",
    "        'reg_alpha': 9.58,\n",
    "        'reg_lambda': 4.62,\n",
    "        'seed': 2020,\n",
    "        'n_jobs':-1,\n",
    "        'silent': True,\n",
    "        'verbose': -1,\n",
    "    }\n",
    "    \n",
    "    model = lgb.train(params, train_matrix, 50000, valid_sets=[train_matrix, valid_matrix], verbose_eval=500, early_stopping_rounds=500)\n",
    "    \"\"\"计算在验证集上的得分\"\"\"\n",
    "    val_pred = model.predict(X_val, num_iteration=model.best_iteration)\n",
    "    fpr, tpr, threshold = metrics.roc_curve(y_val, val_pred)\n",
    "    roc_auc = metrics.auc(fpr, tpr)\n",
    "    print('调参后lightgbm单模型在验证集上的AUC：{}'.format(roc_auc))\n",
    "    \"\"\"对测试集进行预测\"\"\"\n",
    "    test_pred = model.predict(X_test, num_iteration=model.best_iteration)\n",
    "    \n",
    "    return test_pred"
   ]
  },
  {
   "cell_type": "markdown",
   "metadata": {},
   "source": [
    "#### 基于模型层面的融合 "
   ]
  },
  {
   "cell_type": "code",
   "execution_count": 6,
   "metadata": {
    "ExecuteTime": {
     "end_time": "2020-09-24T08:05:00.405288Z",
     "start_time": "2020-09-24T08:05:00.111048Z"
    }
   },
   "outputs": [],
   "source": [
    "\"\"\"对训练集数据进行划分，分成训练集和验证集，并进行相应的操作\"\"\"\n",
    "from sklearn.model_selection import train_test_split\n",
    "\n",
    "\"\"\"数据集设置\"\"\"\n",
    "X_train = df_data.loc[df_data['sample']=='train', :].drop(['id','issueDate','isDefault', 'sample'], axis=1)\n",
    "X_test = df_data.loc[df_data['sample']=='test', :].drop(['id','issueDate','isDefault', 'sample'], axis=1)\n",
    "y_train = df_data.loc[df_data['sample']=='train', 'isDefault']\n",
    "# 数据集划分\n",
    "# X_train_split, X_val, y_train_split, y_val = train_test_split(X_train, y_train, test_size=0.2)\n"
   ]
  },
  {
   "cell_type": "code",
   "execution_count": 7,
   "metadata": {
    "ExecuteTime": {
     "end_time": "2020-09-24T08:05:00.412273Z",
     "start_time": "2020-09-24T08:05:00.406255Z"
    }
   },
   "outputs": [],
   "source": [
    "from heamy.dataset import Dataset\n",
    "from heamy.estimator import Classifier\n",
    "\n",
    "model_dataset = Dataset(X_train=X_train, y_train=y_train, X_test=X_test)\n",
    "model_xgb = Classifier(dataset=model_dataset, estimator=xgb_model, name='xgb', use_cache=False)\n",
    "model_lgb = Classifier(dataset=model_dataset, estimator=lgb_model, name='lgb', use_cache=False)"
   ]
  },
  {
   "cell_type": "markdown",
   "metadata": {},
   "source": [
    "#### 使用stacking 方法进行模型融合 "
   ]
  },
  {
   "cell_type": "code",
   "execution_count": 8,
   "metadata": {
    "ExecuteTime": {
     "end_time": "2020-09-24T08:05:00.424207Z",
     "start_time": "2020-09-24T08:05:00.414236Z"
    },
    "scrolled": true
   },
   "outputs": [
    {
     "data": {
      "text/plain": [
       "<heamy.pipeline.ModelsPipeline at 0x211f2896cc8>"
      ]
     },
     "execution_count": 8,
     "metadata": {},
     "output_type": "execute_result"
    }
   ],
   "source": [
    "from heamy.pipeline import ModelsPipeline\n",
    "\n",
    "pipeline = ModelsPipeline(model_xgb, model_lgb)\n",
    "pipeline"
   ]
  },
  {
   "cell_type": "code",
   "execution_count": 9,
   "metadata": {
    "ExecuteTime": {
     "end_time": "2020-09-24T09:50:21.236925Z",
     "start_time": "2020-09-24T08:05:01.288941Z"
    }
   },
   "outputs": [
    {
     "name": "stdout",
     "output_type": "stream",
     "text": [
      "[0]\ttrain-auc:0.69834\teval-auc:0.696377\n",
      "Multiple eval metrics have been passed: 'eval-auc' will be used for early stopping.\n",
      "\n",
      "Will train until eval-auc hasn't improved in 200 rounds.\n",
      "[200]\ttrain-auc:0.734398\teval-auc:0.726436\n",
      "[400]\ttrain-auc:0.742841\teval-auc:0.730239\n",
      "[600]\ttrain-auc:0.748613\teval-auc:0.731679\n",
      "[800]\ttrain-auc:0.753368\teval-auc:0.732525\n",
      "[1000]\ttrain-auc:0.757552\teval-auc:0.732917\n",
      "[1200]\ttrain-auc:0.761406\teval-auc:0.733174\n",
      "[1400]\ttrain-auc:0.764981\teval-auc:0.733355\n",
      "[1600]\ttrain-auc:0.768341\teval-auc:0.73344\n",
      "[1800]\ttrain-auc:0.771698\teval-auc:0.73353\n",
      "[2000]\ttrain-auc:0.774873\teval-auc:0.733519\n",
      "Stopping. Best iteration:\n",
      "[1825]\ttrain-auc:0.772115\teval-auc:0.733588\n",
      "\n",
      "调参后xgboost单模型在验证集上的AUC：0.733587776147621\n",
      "[0]\ttrain-auc:0.6978\teval-auc:0.694898\n",
      "Multiple eval metrics have been passed: 'eval-auc' will be used for early stopping.\n",
      "\n",
      "Will train until eval-auc hasn't improved in 200 rounds.\n",
      "[200]\ttrain-auc:0.734141\teval-auc:0.727192\n",
      "[400]\ttrain-auc:0.742663\teval-auc:0.730949\n",
      "[600]\ttrain-auc:0.748477\teval-auc:0.73257\n",
      "[800]\ttrain-auc:0.75329\teval-auc:0.733613\n",
      "[1000]\ttrain-auc:0.757416\teval-auc:0.73412\n",
      "[1200]\ttrain-auc:0.761298\teval-auc:0.734607\n",
      "[1400]\ttrain-auc:0.764893\teval-auc:0.734862\n",
      "[1600]\ttrain-auc:0.768263\teval-auc:0.735042\n",
      "[1800]\ttrain-auc:0.771557\teval-auc:0.735155\n",
      "[2000]\ttrain-auc:0.774688\teval-auc:0.735227\n",
      "[2200]\ttrain-auc:0.777843\teval-auc:0.735186\n",
      "Stopping. Best iteration:\n",
      "[2119]\ttrain-auc:0.776563\teval-auc:0.735246\n",
      "\n",
      "调参后xgboost单模型在验证集上的AUC：0.7352461473866017\n",
      "[0]\ttrain-auc:0.699005\teval-auc:0.69564\n",
      "Multiple eval metrics have been passed: 'eval-auc' will be used for early stopping.\n",
      "\n",
      "Will train until eval-auc hasn't improved in 200 rounds.\n",
      "[200]\ttrain-auc:0.733978\teval-auc:0.726908\n",
      "[400]\ttrain-auc:0.742526\teval-auc:0.731403\n",
      "[600]\ttrain-auc:0.748221\teval-auc:0.733054\n",
      "[800]\ttrain-auc:0.752875\teval-auc:0.734037\n",
      "[1000]\ttrain-auc:0.757104\teval-auc:0.734487\n",
      "[1200]\ttrain-auc:0.760895\teval-auc:0.734939\n",
      "[1400]\ttrain-auc:0.764601\teval-auc:0.735233\n",
      "[1600]\ttrain-auc:0.767866\teval-auc:0.735331\n",
      "[1800]\ttrain-auc:0.771175\teval-auc:0.735432\n",
      "[2000]\ttrain-auc:0.774298\teval-auc:0.735536\n",
      "Stopping. Best iteration:\n",
      "[1966]\ttrain-auc:0.773787\teval-auc:0.735573\n",
      "\n",
      "调参后xgboost单模型在验证集上的AUC：0.7355730708615495\n",
      "[0]\ttrain-auc:0.69602\teval-auc:0.698108\n",
      "Multiple eval metrics have been passed: 'eval-auc' will be used for early stopping.\n",
      "\n",
      "Will train until eval-auc hasn't improved in 200 rounds.\n",
      "[200]\ttrain-auc:0.732967\teval-auc:0.728976\n",
      "[400]\ttrain-auc:0.741426\teval-auc:0.732911\n",
      "[600]\ttrain-auc:0.747199\teval-auc:0.734785\n",
      "[800]\ttrain-auc:0.75201\teval-auc:0.7359\n",
      "[1000]\ttrain-auc:0.756352\teval-auc:0.736472\n",
      "[1200]\ttrain-auc:0.760314\teval-auc:0.736848\n",
      "[1400]\ttrain-auc:0.763939\teval-auc:0.737206\n",
      "[1600]\ttrain-auc:0.767467\teval-auc:0.737392\n",
      "[1800]\ttrain-auc:0.770792\teval-auc:0.737541\n",
      "[2000]\ttrain-auc:0.773882\teval-auc:0.737646\n",
      "[2200]\ttrain-auc:0.777031\teval-auc:0.737678\n",
      "[2400]\ttrain-auc:0.779985\teval-auc:0.737704\n",
      "Stopping. Best iteration:\n",
      "[2224]\ttrain-auc:0.777399\teval-auc:0.737719\n",
      "\n",
      "调参后xgboost单模型在验证集上的AUC：0.7377188191351004\n",
      "[0]\ttrain-auc:0.698016\teval-auc:0.696781\n",
      "Multiple eval metrics have been passed: 'eval-auc' will be used for early stopping.\n",
      "\n",
      "Will train until eval-auc hasn't improved in 200 rounds.\n",
      "[200]\ttrain-auc:0.733476\teval-auc:0.729502\n",
      "[400]\ttrain-auc:0.74195\teval-auc:0.733604\n",
      "[600]\ttrain-auc:0.747515\teval-auc:0.735229\n",
      "[800]\ttrain-auc:0.751943\teval-auc:0.736049\n",
      "[1000]\ttrain-auc:0.756193\teval-auc:0.736761\n",
      "[1200]\ttrain-auc:0.760216\teval-auc:0.737153\n",
      "[1400]\ttrain-auc:0.763868\teval-auc:0.737382\n",
      "[1600]\ttrain-auc:0.76732\teval-auc:0.737506\n",
      "[1800]\ttrain-auc:0.770592\teval-auc:0.737643\n",
      "[2000]\ttrain-auc:0.773801\teval-auc:0.737615\n",
      "Stopping. Best iteration:\n",
      "[1810]\ttrain-auc:0.770743\teval-auc:0.737664\n",
      "\n",
      "调参后xgboost单模型在验证集上的AUC：0.7376638943830922\n",
      "[0]\ttrain-auc:0.697663\teval-auc:0.697016\n",
      "Multiple eval metrics have been passed: 'eval-auc' will be used for early stopping.\n",
      "\n",
      "Will train until eval-auc hasn't improved in 200 rounds.\n",
      "[200]\ttrain-auc:0.733018\teval-auc:0.727575\n",
      "[400]\ttrain-auc:0.740766\teval-auc:0.731671\n",
      "[600]\ttrain-auc:0.745882\teval-auc:0.733451\n",
      "[800]\ttrain-auc:0.749847\teval-auc:0.734334\n",
      "[1000]\ttrain-auc:0.75352\teval-auc:0.735145\n",
      "[1200]\ttrain-auc:0.75672\teval-auc:0.73555\n",
      "[1400]\ttrain-auc:0.759873\teval-auc:0.735838\n",
      "[1600]\ttrain-auc:0.762801\teval-auc:0.736048\n",
      "[1800]\ttrain-auc:0.765659\teval-auc:0.736275\n",
      "[2000]\ttrain-auc:0.768315\teval-auc:0.736356\n",
      "[2200]\ttrain-auc:0.770932\teval-auc:0.736355\n",
      "Stopping. Best iteration:\n",
      "[2063]\ttrain-auc:0.769102\teval-auc:0.736399\n",
      "\n",
      "调参后xgboost单模型在验证集上的AUC：0.7363989071730694\n",
      "Training until validation scores don't improve for 500 rounds\n",
      "[500]\ttraining's auc: 0.725401\tvalid_1's auc: 0.720773\n",
      "[1000]\ttraining's auc: 0.731646\tvalid_1's auc: 0.725795\n",
      "[1500]\ttraining's auc: 0.735112\tvalid_1's auc: 0.728184\n",
      "[2000]\ttraining's auc: 0.737584\tvalid_1's auc: 0.729635\n",
      "[2500]\ttraining's auc: 0.73962\tvalid_1's auc: 0.730681\n",
      "[3000]\ttraining's auc: 0.741481\tvalid_1's auc: 0.731525\n",
      "[3500]\ttraining's auc: 0.743093\tvalid_1's auc: 0.732216\n",
      "[4000]\ttraining's auc: 0.744582\tvalid_1's auc: 0.732716\n",
      "[4500]\ttraining's auc: 0.745907\tvalid_1's auc: 0.73316\n",
      "[5000]\ttraining's auc: 0.747216\tvalid_1's auc: 0.733581\n",
      "[5500]\ttraining's auc: 0.748372\tvalid_1's auc: 0.733873\n",
      "[6000]\ttraining's auc: 0.749556\tvalid_1's auc: 0.734141\n",
      "[6500]\ttraining's auc: 0.750603\tvalid_1's auc: 0.734288\n",
      "[7000]\ttraining's auc: 0.751655\tvalid_1's auc: 0.734473\n",
      "[7500]\ttraining's auc: 0.75271\tvalid_1's auc: 0.734619\n",
      "[8000]\ttraining's auc: 0.75364\tvalid_1's auc: 0.734724\n",
      "[8500]\ttraining's auc: 0.754626\tvalid_1's auc: 0.734815\n",
      "[9000]\ttraining's auc: 0.755493\tvalid_1's auc: 0.734851\n",
      "[9500]\ttraining's auc: 0.756371\tvalid_1's auc: 0.734868\n",
      "[10000]\ttraining's auc: 0.757232\tvalid_1's auc: 0.734983\n",
      "[10500]\ttraining's auc: 0.758073\tvalid_1's auc: 0.735013\n",
      "[11000]\ttraining's auc: 0.758933\tvalid_1's auc: 0.735033\n",
      "[11500]\ttraining's auc: 0.759778\tvalid_1's auc: 0.735116\n",
      "[12000]\ttraining's auc: 0.760566\tvalid_1's auc: 0.735161\n",
      "[12500]\ttraining's auc: 0.761361\tvalid_1's auc: 0.735221\n",
      "Early stopping, best iteration is:\n",
      "[12368]\ttraining's auc: 0.761183\tvalid_1's auc: 0.735242\n",
      "调参后lightgbm单模型在验证集上的AUC：0.7352415755410031\n",
      "Training until validation scores don't improve for 500 rounds\n",
      "[500]\ttraining's auc: 0.725297\tvalid_1's auc: 0.721958\n",
      "[1000]\ttraining's auc: 0.731238\tvalid_1's auc: 0.726763\n",
      "[1500]\ttraining's auc: 0.7347\tvalid_1's auc: 0.72922\n",
      "[2000]\ttraining's auc: 0.737425\tvalid_1's auc: 0.730838\n",
      "[2500]\ttraining's auc: 0.739529\tvalid_1's auc: 0.731901\n",
      "[3000]\ttraining's auc: 0.741416\tvalid_1's auc: 0.732691\n",
      "[3500]\ttraining's auc: 0.743001\tvalid_1's auc: 0.733306\n",
      "[4000]\ttraining's auc: 0.744496\tvalid_1's auc: 0.733783\n",
      "[4500]\ttraining's auc: 0.745908\tvalid_1's auc: 0.734174\n",
      "[5000]\ttraining's auc: 0.747144\tvalid_1's auc: 0.734449\n",
      "[5500]\ttraining's auc: 0.74838\tvalid_1's auc: 0.734751\n",
      "[6000]\ttraining's auc: 0.74954\tvalid_1's auc: 0.734944\n",
      "[6500]\ttraining's auc: 0.750675\tvalid_1's auc: 0.735228\n",
      "[7000]\ttraining's auc: 0.751726\tvalid_1's auc: 0.735393\n",
      "[7500]\ttraining's auc: 0.752736\tvalid_1's auc: 0.735569\n",
      "[8000]\ttraining's auc: 0.7537\tvalid_1's auc: 0.735667\n",
      "[8500]\ttraining's auc: 0.754615\tvalid_1's auc: 0.735727\n",
      "[9000]\ttraining's auc: 0.755557\tvalid_1's auc: 0.73579\n",
      "[9500]\ttraining's auc: 0.756488\tvalid_1's auc: 0.735855\n",
      "[10000]\ttraining's auc: 0.757352\tvalid_1's auc: 0.735935\n",
      "[10500]\ttraining's auc: 0.758267\tvalid_1's auc: 0.735963\n",
      "Early stopping, best iteration is:\n",
      "[10350]\ttraining's auc: 0.758\tvalid_1's auc: 0.735985\n",
      "调参后lightgbm单模型在验证集上的AUC：0.7359847735453371\n",
      "Training until validation scores don't improve for 500 rounds\n",
      "[500]\ttraining's auc: 0.72442\tvalid_1's auc: 0.726253\n",
      "[1000]\ttraining's auc: 0.730589\tvalid_1's auc: 0.731027\n",
      "[1500]\ttraining's auc: 0.734115\tvalid_1's auc: 0.733337\n",
      "[2000]\ttraining's auc: 0.736756\tvalid_1's auc: 0.734786\n",
      "[2500]\ttraining's auc: 0.73895\tvalid_1's auc: 0.735692\n",
      "[3000]\ttraining's auc: 0.740815\tvalid_1's auc: 0.736363\n",
      "[3500]\ttraining's auc: 0.742439\tvalid_1's auc: 0.736899\n",
      "[4000]\ttraining's auc: 0.743896\tvalid_1's auc: 0.737302\n",
      "[4500]\ttraining's auc: 0.745271\tvalid_1's auc: 0.737694\n",
      "[5000]\ttraining's auc: 0.746573\tvalid_1's auc: 0.738006\n",
      "[5500]\ttraining's auc: 0.7478\tvalid_1's auc: 0.738205\n",
      "[6000]\ttraining's auc: 0.748967\tvalid_1's auc: 0.738409\n",
      "[6500]\ttraining's auc: 0.750087\tvalid_1's auc: 0.738571\n",
      "[7000]\ttraining's auc: 0.751164\tvalid_1's auc: 0.738689\n",
      "[7500]\ttraining's auc: 0.752154\tvalid_1's auc: 0.738869\n",
      "[8000]\ttraining's auc: 0.753139\tvalid_1's auc: 0.738898\n",
      "[8500]\ttraining's auc: 0.754064\tvalid_1's auc: 0.739055\n",
      "[9000]\ttraining's auc: 0.755005\tvalid_1's auc: 0.739158\n",
      "[9500]\ttraining's auc: 0.755895\tvalid_1's auc: 0.739185\n",
      "Early stopping, best iteration is:\n",
      "[9494]\ttraining's auc: 0.755883\tvalid_1's auc: 0.739186\n",
      "调参后lightgbm单模型在验证集上的AUC：0.7391863295456845\n",
      "Training until validation scores don't improve for 500 rounds\n",
      "[500]\ttraining's auc: 0.725621\tvalid_1's auc: 0.718453\n",
      "[1000]\ttraining's auc: 0.731783\tvalid_1's auc: 0.723521\n",
      "[1500]\ttraining's auc: 0.735421\tvalid_1's auc: 0.726039\n",
      "[2000]\ttraining's auc: 0.738037\tvalid_1's auc: 0.727531\n",
      "[2500]\ttraining's auc: 0.740113\tvalid_1's auc: 0.728409\n",
      "[3000]\ttraining's auc: 0.741922\tvalid_1's auc: 0.729242\n",
      "[3500]\ttraining's auc: 0.743577\tvalid_1's auc: 0.729898\n",
      "[4000]\ttraining's auc: 0.745078\tvalid_1's auc: 0.7303\n",
      "[4500]\ttraining's auc: 0.746477\tvalid_1's auc: 0.73067\n",
      "[5000]\ttraining's auc: 0.747771\tvalid_1's auc: 0.730909\n",
      "[5500]\ttraining's auc: 0.748942\tvalid_1's auc: 0.731108\n",
      "[6000]\ttraining's auc: 0.750175\tvalid_1's auc: 0.731355\n",
      "[6500]\ttraining's auc: 0.751268\tvalid_1's auc: 0.731529\n",
      "[7000]\ttraining's auc: 0.752369\tvalid_1's auc: 0.731719\n",
      "[7500]\ttraining's auc: 0.753391\tvalid_1's auc: 0.731871\n",
      "[8000]\ttraining's auc: 0.754367\tvalid_1's auc: 0.731931\n",
      "[8500]\ttraining's auc: 0.755324\tvalid_1's auc: 0.73199\n",
      "[9000]\ttraining's auc: 0.756237\tvalid_1's auc: 0.732082\n",
      "[9500]\ttraining's auc: 0.757143\tvalid_1's auc: 0.732147\n",
      "[10000]\ttraining's auc: 0.757985\tvalid_1's auc: 0.732202\n",
      "[10500]\ttraining's auc: 0.758856\tvalid_1's auc: 0.732276\n",
      "[11000]\ttraining's auc: 0.759667\tvalid_1's auc: 0.732288\n",
      "Early stopping, best iteration is:\n",
      "[10576]\ttraining's auc: 0.758985\tvalid_1's auc: 0.732312\n",
      "调参后lightgbm单模型在验证集上的AUC：0.73231207529906\n",
      "Training until validation scores don't improve for 500 rounds\n",
      "[500]\ttraining's auc: 0.725614\tvalid_1's auc: 0.721333\n",
      "[1000]\ttraining's auc: 0.731795\tvalid_1's auc: 0.726227\n",
      "[1500]\ttraining's auc: 0.735294\tvalid_1's auc: 0.728712\n",
      "[2000]\ttraining's auc: 0.737901\tvalid_1's auc: 0.730277\n",
      "[2500]\ttraining's auc: 0.740017\tvalid_1's auc: 0.731342\n",
      "[3000]\ttraining's auc: 0.741863\tvalid_1's auc: 0.732139\n",
      "[3500]\ttraining's auc: 0.743485\tvalid_1's auc: 0.73268\n",
      "[4000]\ttraining's auc: 0.744898\tvalid_1's auc: 0.733058\n",
      "[4500]\ttraining's auc: 0.746291\tvalid_1's auc: 0.733459\n",
      "[5000]\ttraining's auc: 0.747577\tvalid_1's auc: 0.733769\n",
      "[5500]\ttraining's auc: 0.748809\tvalid_1's auc: 0.733958\n",
      "[6000]\ttraining's auc: 0.749959\tvalid_1's auc: 0.734133\n",
      "[6500]\ttraining's auc: 0.751015\tvalid_1's auc: 0.734316\n",
      "[7000]\ttraining's auc: 0.752025\tvalid_1's auc: 0.734476\n",
      "[7500]\ttraining's auc: 0.753047\tvalid_1's auc: 0.734593\n",
      "[8000]\ttraining's auc: 0.754024\tvalid_1's auc: 0.734727\n",
      "[8500]\ttraining's auc: 0.754971\tvalid_1's auc: 0.734792\n",
      "[9000]\ttraining's auc: 0.755889\tvalid_1's auc: 0.734817\n",
      "[9500]\ttraining's auc: 0.756766\tvalid_1's auc: 0.734854\n",
      "[10000]\ttraining's auc: 0.757646\tvalid_1's auc: 0.734868\n",
      "[10500]\ttraining's auc: 0.758539\tvalid_1's auc: 0.73487\n",
      "[11000]\ttraining's auc: 0.759404\tvalid_1's auc: 0.734917\n",
      "[11500]\ttraining's auc: 0.760263\tvalid_1's auc: 0.734876\n",
      "Early stopping, best iteration is:\n",
      "[11062]\ttraining's auc: 0.759501\tvalid_1's auc: 0.734929\n",
      "调参后lightgbm单模型在验证集上的AUC：0.734929283839961\n",
      "Training until validation scores don't improve for 500 rounds\n",
      "[500]\ttraining's auc: 0.723954\tvalid_1's auc: 0.726299\n",
      "[1000]\ttraining's auc: 0.729987\tvalid_1's auc: 0.731068\n",
      "[1500]\ttraining's auc: 0.733417\tvalid_1's auc: 0.733458\n",
      "[2000]\ttraining's auc: 0.735798\tvalid_1's auc: 0.734871\n",
      "[2500]\ttraining's auc: 0.737696\tvalid_1's auc: 0.735879\n",
      "[3000]\ttraining's auc: 0.73937\tvalid_1's auc: 0.736661\n",
      "[3500]\ttraining's auc: 0.740849\tvalid_1's auc: 0.737244\n",
      "[4000]\ttraining's auc: 0.742159\tvalid_1's auc: 0.737657\n",
      "[4500]\ttraining's auc: 0.74338\tvalid_1's auc: 0.738091\n",
      "[5000]\ttraining's auc: 0.744548\tvalid_1's auc: 0.73851\n",
      "[5500]\ttraining's auc: 0.745558\tvalid_1's auc: 0.738748\n",
      "[6000]\ttraining's auc: 0.746607\tvalid_1's auc: 0.739052\n",
      "[6500]\ttraining's auc: 0.747604\tvalid_1's auc: 0.739265\n",
      "[7000]\ttraining's auc: 0.74853\tvalid_1's auc: 0.739403\n",
      "[7500]\ttraining's auc: 0.749427\tvalid_1's auc: 0.739556\n",
      "[8000]\ttraining's auc: 0.750302\tvalid_1's auc: 0.739737\n",
      "[8500]\ttraining's auc: 0.751125\tvalid_1's auc: 0.739789\n",
      "[9000]\ttraining's auc: 0.751933\tvalid_1's auc: 0.739891\n",
      "[9500]\ttraining's auc: 0.752732\tvalid_1's auc: 0.739945\n",
      "[10000]\ttraining's auc: 0.75351\tvalid_1's auc: 0.740084\n",
      "[10500]\ttraining's auc: 0.75425\tvalid_1's auc: 0.740133\n",
      "[11000]\ttraining's auc: 0.755014\tvalid_1's auc: 0.740224\n",
      "[11500]\ttraining's auc: 0.755707\tvalid_1's auc: 0.740254\n",
      "[12000]\ttraining's auc: 0.756413\tvalid_1's auc: 0.74029\n",
      "[12500]\ttraining's auc: 0.757086\tvalid_1's auc: 0.740339\n",
      "[13000]\ttraining's auc: 0.7578\tvalid_1's auc: 0.740358\n",
      "[13500]\ttraining's auc: 0.758463\tvalid_1's auc: 0.740414\n",
      "[14000]\ttraining's auc: 0.759121\tvalid_1's auc: 0.740431\n",
      "[14500]\ttraining's auc: 0.759772\tvalid_1's auc: 0.74046\n",
      "Early stopping, best iteration is:\n",
      "[14390]\ttraining's auc: 0.759628\tvalid_1's auc: 0.740483\n",
      "调参后lightgbm单模型在验证集上的AUC：0.7404832906807042\n"
     ]
    }
   ],
   "source": [
    "# 构建第一层新特征，其中k默认是5，表示5折交叉验证，full_test=True，对全部训练集进行训练得到基学习器，然后用基学习器对测试集预测得到新特征\n",
    "stack_ds = pipeline.stack(k=5, seed=111, full_test=True)"
   ]
  },
  {
   "cell_type": "code",
   "execution_count": 10,
   "metadata": {
    "ExecuteTime": {
     "end_time": "2020-09-24T12:51:18.260421Z",
     "start_time": "2020-09-24T12:51:16.800773Z"
    }
   },
   "outputs": [
    {
     "data": {
      "text/plain": [
       "array([0.08922319, 0.30949224, 0.6613638 , ..., 0.12711087, 0.22912402,\n",
       "       0.0694135 ])"
      ]
     },
     "execution_count": 10,
     "metadata": {},
     "output_type": "execute_result"
    }
   ],
   "source": [
    "from sklearn.linear_model import LogisticRegression\n",
    "# 第二层使用逻辑回归进行stack\n",
    "LogisticRegression(solver='lbfgs')\n",
    "stacker = Classifier(dataset=stack_ds, estimator=LogisticRegression, parameters={'solver': 'lbfgs'})\n",
    "# 测试集的预测结果\n",
    "test_pred = stacker.predict()\n",
    "test_pred"
   ]
  },
  {
   "cell_type": "code",
   "execution_count": 11,
   "metadata": {
    "ExecuteTime": {
     "end_time": "2020-09-24T12:51:39.844600Z",
     "start_time": "2020-09-24T12:51:39.811689Z"
    }
   },
   "outputs": [
    {
     "data": {
      "text/html": [
       "<div>\n",
       "<style scoped>\n",
       "    .dataframe tbody tr th:only-of-type {\n",
       "        vertical-align: middle;\n",
       "    }\n",
       "\n",
       "    .dataframe tbody tr th {\n",
       "        vertical-align: top;\n",
       "    }\n",
       "\n",
       "    .dataframe thead th {\n",
       "        text-align: right;\n",
       "    }\n",
       "</style>\n",
       "<table border=\"1\" class=\"dataframe\">\n",
       "  <thead>\n",
       "    <tr style=\"text-align: right;\">\n",
       "      <th></th>\n",
       "      <th>id</th>\n",
       "      <th>isDefault</th>\n",
       "    </tr>\n",
       "  </thead>\n",
       "  <tbody>\n",
       "    <tr>\n",
       "      <td>0</td>\n",
       "      <td>800000</td>\n",
       "      <td>0.089223</td>\n",
       "    </tr>\n",
       "    <tr>\n",
       "      <td>1</td>\n",
       "      <td>800001</td>\n",
       "      <td>0.309492</td>\n",
       "    </tr>\n",
       "    <tr>\n",
       "      <td>2</td>\n",
       "      <td>800002</td>\n",
       "      <td>0.661364</td>\n",
       "    </tr>\n",
       "    <tr>\n",
       "      <td>3</td>\n",
       "      <td>800003</td>\n",
       "      <td>0.273962</td>\n",
       "    </tr>\n",
       "    <tr>\n",
       "      <td>4</td>\n",
       "      <td>800004</td>\n",
       "      <td>0.364396</td>\n",
       "    </tr>\n",
       "    <tr>\n",
       "      <td>5</td>\n",
       "      <td>800005</td>\n",
       "      <td>0.068242</td>\n",
       "    </tr>\n",
       "    <tr>\n",
       "      <td>6</td>\n",
       "      <td>800006</td>\n",
       "      <td>0.269167</td>\n",
       "    </tr>\n",
       "    <tr>\n",
       "      <td>7</td>\n",
       "      <td>800007</td>\n",
       "      <td>0.071079</td>\n",
       "    </tr>\n",
       "    <tr>\n",
       "      <td>8</td>\n",
       "      <td>800008</td>\n",
       "      <td>0.746882</td>\n",
       "    </tr>\n",
       "    <tr>\n",
       "      <td>9</td>\n",
       "      <td>800009</td>\n",
       "      <td>0.074709</td>\n",
       "    </tr>\n",
       "    <tr>\n",
       "      <td>10</td>\n",
       "      <td>800010</td>\n",
       "      <td>0.406590</td>\n",
       "    </tr>\n",
       "    <tr>\n",
       "      <td>11</td>\n",
       "      <td>800011</td>\n",
       "      <td>0.345987</td>\n",
       "    </tr>\n",
       "    <tr>\n",
       "      <td>12</td>\n",
       "      <td>800012</td>\n",
       "      <td>0.305340</td>\n",
       "    </tr>\n",
       "    <tr>\n",
       "      <td>13</td>\n",
       "      <td>800013</td>\n",
       "      <td>0.157944</td>\n",
       "    </tr>\n",
       "    <tr>\n",
       "      <td>14</td>\n",
       "      <td>800014</td>\n",
       "      <td>0.126116</td>\n",
       "    </tr>\n",
       "    <tr>\n",
       "      <td>15</td>\n",
       "      <td>800015</td>\n",
       "      <td>0.236838</td>\n",
       "    </tr>\n",
       "    <tr>\n",
       "      <td>16</td>\n",
       "      <td>800016</td>\n",
       "      <td>0.160687</td>\n",
       "    </tr>\n",
       "    <tr>\n",
       "      <td>17</td>\n",
       "      <td>800017</td>\n",
       "      <td>0.130146</td>\n",
       "    </tr>\n",
       "    <tr>\n",
       "      <td>18</td>\n",
       "      <td>800018</td>\n",
       "      <td>0.073277</td>\n",
       "    </tr>\n",
       "    <tr>\n",
       "      <td>19</td>\n",
       "      <td>800019</td>\n",
       "      <td>0.214319</td>\n",
       "    </tr>\n",
       "  </tbody>\n",
       "</table>\n",
       "</div>"
      ],
      "text/plain": [
       "        id  isDefault\n",
       "0   800000   0.089223\n",
       "1   800001   0.309492\n",
       "2   800002   0.661364\n",
       "3   800003   0.273962\n",
       "4   800004   0.364396\n",
       "5   800005   0.068242\n",
       "6   800006   0.269167\n",
       "7   800007   0.071079\n",
       "8   800008   0.746882\n",
       "9   800009   0.074709\n",
       "10  800010   0.406590\n",
       "11  800011   0.345987\n",
       "12  800012   0.305340\n",
       "13  800013   0.157944\n",
       "14  800014   0.126116\n",
       "15  800015   0.236838\n",
       "16  800016   0.160687\n",
       "17  800017   0.130146\n",
       "18  800018   0.073277\n",
       "19  800019   0.214319"
      ]
     },
     "execution_count": 11,
     "metadata": {},
     "output_type": "execute_result"
    }
   ],
   "source": [
    "\"\"\"生成提交格式的DataFrame\"\"\"\n",
    "df_result = pd.DataFrame({'id': df_data.loc[df_data['sample']=='test', 'id'].values, 'isDefault': test_pred})\n",
    "df_result.sort_values(by='id').head(20)"
   ]
  },
  {
   "cell_type": "code",
   "execution_count": 12,
   "metadata": {
    "ExecuteTime": {
     "end_time": "2020-09-24T12:51:55.134404Z",
     "start_time": "2020-09-24T12:51:54.372872Z"
    }
   },
   "outputs": [],
   "source": [
    "\"\"\"保存数据用于预测建模\"\"\"\n",
    "df_result.to_csv('dataset/submission_data_stacking_model_20200924_V1_5folds.csv', encoding='gbk', index=False)"
   ]
  },
  {
   "cell_type": "code",
   "execution_count": null,
   "metadata": {},
   "outputs": [],
   "source": []
  },
  {
   "cell_type": "markdown",
   "metadata": {},
   "source": [
    "#### 使用blending方法进行模型融合"
   ]
  },
  {
   "cell_type": "code",
   "execution_count": 13,
   "metadata": {
    "ExecuteTime": {
     "end_time": "2020-09-24T13:09:54.497180Z",
     "start_time": "2020-09-24T12:52:03.331634Z"
    }
   },
   "outputs": [
    {
     "name": "stdout",
     "output_type": "stream",
     "text": [
      "[0]\ttrain-auc:0.696733\teval-auc:0.696829\n",
      "Multiple eval metrics have been passed: 'eval-auc' will be used for early stopping.\n",
      "\n",
      "Will train until eval-auc hasn't improved in 200 rounds.\n",
      "[200]\ttrain-auc:0.733312\teval-auc:0.729499\n",
      "[400]\ttrain-auc:0.74144\teval-auc:0.73372\n",
      "[600]\ttrain-auc:0.746949\teval-auc:0.73543\n",
      "[800]\ttrain-auc:0.751826\teval-auc:0.736586\n",
      "[1000]\ttrain-auc:0.756271\teval-auc:0.737348\n",
      "[1200]\ttrain-auc:0.760104\teval-auc:0.737686\n",
      "[1400]\ttrain-auc:0.763704\teval-auc:0.737969\n",
      "[1600]\ttrain-auc:0.767129\teval-auc:0.738104\n",
      "[1800]\ttrain-auc:0.770353\teval-auc:0.738215\n",
      "[2000]\ttrain-auc:0.773465\teval-auc:0.738211\n",
      "Stopping. Best iteration:\n",
      "[1844]\ttrain-auc:0.771048\teval-auc:0.73825\n",
      "\n",
      "调参后xgboost单模型在验证集上的AUC：0.7382499110600509\n",
      "Training until validation scores don't improve for 500 rounds\n",
      "[500]\ttraining's auc: 0.72468\tvalid_1's auc: 0.723239\n",
      "[1000]\ttraining's auc: 0.730817\tvalid_1's auc: 0.728304\n",
      "[1500]\ttraining's auc: 0.734481\tvalid_1's auc: 0.730946\n",
      "[2000]\ttraining's auc: 0.737013\tvalid_1's auc: 0.732463\n",
      "[2500]\ttraining's auc: 0.739167\tvalid_1's auc: 0.733676\n",
      "[3000]\ttraining's auc: 0.740923\tvalid_1's auc: 0.734467\n",
      "[3500]\ttraining's auc: 0.742517\tvalid_1's auc: 0.735151\n",
      "[4000]\ttraining's auc: 0.743999\tvalid_1's auc: 0.735649\n",
      "[4500]\ttraining's auc: 0.745409\tvalid_1's auc: 0.736075\n",
      "[5000]\ttraining's auc: 0.746671\tvalid_1's auc: 0.736362\n",
      "[5500]\ttraining's auc: 0.747874\tvalid_1's auc: 0.736622\n",
      "[6000]\ttraining's auc: 0.74907\tvalid_1's auc: 0.736821\n",
      "[6500]\ttraining's auc: 0.750181\tvalid_1's auc: 0.737096\n",
      "[7000]\ttraining's auc: 0.751188\tvalid_1's auc: 0.737281\n",
      "[7500]\ttraining's auc: 0.752162\tvalid_1's auc: 0.737381\n",
      "[8000]\ttraining's auc: 0.753178\tvalid_1's auc: 0.737511\n",
      "[8500]\ttraining's auc: 0.754158\tvalid_1's auc: 0.737559\n",
      "[9000]\ttraining's auc: 0.75507\tvalid_1's auc: 0.737638\n",
      "[9500]\ttraining's auc: 0.755967\tvalid_1's auc: 0.737741\n",
      "[10000]\ttraining's auc: 0.756831\tvalid_1's auc: 0.737811\n",
      "[10500]\ttraining's auc: 0.757681\tvalid_1's auc: 0.737834\n",
      "[11000]\ttraining's auc: 0.758535\tvalid_1's auc: 0.737825\n",
      "[11500]\ttraining's auc: 0.759399\tvalid_1's auc: 0.737911\n",
      "[12000]\ttraining's auc: 0.760192\tvalid_1's auc: 0.737951\n",
      "[12500]\ttraining's auc: 0.761038\tvalid_1's auc: 0.73806\n",
      "Early stopping, best iteration is:\n",
      "[12484]\ttraining's auc: 0.761008\tvalid_1's auc: 0.738065\n",
      "调参后lightgbm单模型在验证集上的AUC：0.7380654440407345\n"
     ]
    },
    {
     "data": {
      "text/plain": [
       "array([0.0923473 , 0.28176227, 0.59130493, ..., 0.1341528 , 0.23243946,\n",
       "       0.06736474])"
      ]
     },
     "execution_count": 13,
     "metadata": {},
     "output_type": "execute_result"
    }
   ],
   "source": [
    "# 构建第一层新特征，将训练集切分成8:2，其中80%用于训练基学习器，20%用于构建新特征\n",
    "blend_ds = pipeline.blend(proportion=0.2,seed=111)\n",
    "# 第二层使用逻辑回归进行blend\n",
    "blender = Classifier(dataset=blend_ds, estimator=LogisticRegression, parameters={'solver': 'lbfgs'})\n",
    "# 测试集的预测结果\n",
    "test_pred = blender.predict()\n",
    "test_pred"
   ]
  },
  {
   "cell_type": "code",
   "execution_count": 14,
   "metadata": {
    "ExecuteTime": {
     "end_time": "2020-09-24T13:10:00.382208Z",
     "start_time": "2020-09-24T13:10:00.353552Z"
    }
   },
   "outputs": [
    {
     "data": {
      "text/html": [
       "<div>\n",
       "<style scoped>\n",
       "    .dataframe tbody tr th:only-of-type {\n",
       "        vertical-align: middle;\n",
       "    }\n",
       "\n",
       "    .dataframe tbody tr th {\n",
       "        vertical-align: top;\n",
       "    }\n",
       "\n",
       "    .dataframe thead th {\n",
       "        text-align: right;\n",
       "    }\n",
       "</style>\n",
       "<table border=\"1\" class=\"dataframe\">\n",
       "  <thead>\n",
       "    <tr style=\"text-align: right;\">\n",
       "      <th></th>\n",
       "      <th>id</th>\n",
       "      <th>isDefault</th>\n",
       "    </tr>\n",
       "  </thead>\n",
       "  <tbody>\n",
       "    <tr>\n",
       "      <td>0</td>\n",
       "      <td>800000</td>\n",
       "      <td>0.092347</td>\n",
       "    </tr>\n",
       "    <tr>\n",
       "      <td>1</td>\n",
       "      <td>800001</td>\n",
       "      <td>0.281762</td>\n",
       "    </tr>\n",
       "    <tr>\n",
       "      <td>2</td>\n",
       "      <td>800002</td>\n",
       "      <td>0.591305</td>\n",
       "    </tr>\n",
       "    <tr>\n",
       "      <td>3</td>\n",
       "      <td>800003</td>\n",
       "      <td>0.235810</td>\n",
       "    </tr>\n",
       "    <tr>\n",
       "      <td>4</td>\n",
       "      <td>800004</td>\n",
       "      <td>0.368891</td>\n",
       "    </tr>\n",
       "  </tbody>\n",
       "</table>\n",
       "</div>"
      ],
      "text/plain": [
       "       id  isDefault\n",
       "0  800000   0.092347\n",
       "1  800001   0.281762\n",
       "2  800002   0.591305\n",
       "3  800003   0.235810\n",
       "4  800004   0.368891"
      ]
     },
     "execution_count": 14,
     "metadata": {},
     "output_type": "execute_result"
    }
   ],
   "source": [
    "\"\"\"生成提交格式的DataFrame\"\"\"\n",
    "df_result = pd.DataFrame({'id': df_data.loc[df_data['sample']=='test', 'id'].values, 'isDefault': test_pred})\n",
    "df_result.sort_values(by='id').head()"
   ]
  },
  {
   "cell_type": "code",
   "execution_count": 15,
   "metadata": {
    "ExecuteTime": {
     "end_time": "2020-09-24T13:10:04.588850Z",
     "start_time": "2020-09-24T13:10:03.804489Z"
    }
   },
   "outputs": [],
   "source": [
    "\"\"\"保存数据用于预测建模\"\"\"\n",
    "df_result.to_csv('dataset/submission_data_blending_model_20200924_V1.csv', encoding='gbk', index=False)"
   ]
  },
  {
   "cell_type": "code",
   "execution_count": null,
   "metadata": {},
   "outputs": [],
   "source": []
  },
  {
   "cell_type": "code",
   "execution_count": null,
   "metadata": {},
   "outputs": [],
   "source": []
  }
 ],
 "metadata": {
  "kernelspec": {
   "display_name": "Python 3",
   "language": "python",
   "name": "python3"
  },
  "language_info": {
   "codemirror_mode": {
    "name": "ipython",
    "version": 3
   },
   "file_extension": ".py",
   "mimetype": "text/x-python",
   "name": "python",
   "nbconvert_exporter": "python",
   "pygments_lexer": "ipython3",
   "version": "3.6.5"
  },
  "tianchi_metadata": {
   "competitions": [],
   "datasets": [],
   "description": "",
   "notebookId": "117825",
   "source": "dsw"
  }
 },
 "nbformat": 4,
 "nbformat_minor": 4
}
