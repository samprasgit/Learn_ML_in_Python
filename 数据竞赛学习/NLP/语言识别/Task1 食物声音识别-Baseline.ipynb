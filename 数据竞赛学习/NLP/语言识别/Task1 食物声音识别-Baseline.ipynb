{
 "cells": [
  {
   "cell_type": "markdown",
   "metadata": {},
   "source": [
    "## 环境要求\n",
    "\n",
    "- TensorFlow的版本：2.0 + \n",
    "- keras\n",
    "- sklearn\n",
    "- librosa"
   ]
  },
  {
   "cell_type": "code",
   "execution_count": 1,
   "metadata": {
    "ExecuteTime": {
     "end_time": "2021-04-15T02:00:38.020670Z",
     "start_time": "2021-04-15T02:00:36.701239Z"
    }
   },
   "outputs": [],
   "source": [
    "# 基本库\n",
    "\n",
    "import pandas as pd\n",
    "import numpy as np\n",
    "\n",
    "from sklearn.model_selection import train_test_split\n",
    "from sklearn.metrics import classification_report\n",
    "from sklearn.model_selection import GridSearchCV\n",
    "\n",
    "from sklearn.preprocessing import MinMaxScaler"
   ]
  },
  {
   "cell_type": "markdown",
   "metadata": {},
   "source": [
    "## 加载深度学习框架"
   ]
  },
  {
   "cell_type": "code",
   "execution_count": 2,
   "metadata": {
    "ExecuteTime": {
     "end_time": "2021-04-15T02:00:41.580836Z",
     "start_time": "2021-04-15T02:00:38.878907Z"
    }
   },
   "outputs": [],
   "source": [
    "# 搭建分类模型所需要的库\n",
    "\n",
    "from tensorflow.keras.models import Sequential\n",
    "from tensorflow.keras.layers import Conv2D, Flatten, Dense, MaxPool2D, Dropout\n",
    "from tensorflow.keras.utils import to_categorical\n",
    "\n",
    "from sklearn.ensemble import RandomForestClassifier\n",
    "from sklearn.svm import SVC"
   ]
  },
  {
   "cell_type": "markdown",
   "metadata": {},
   "source": [
    "## 加载音频处理库"
   ]
  },
  {
   "cell_type": "code",
   "execution_count": 1,
   "metadata": {
    "ExecuteTime": {
     "end_time": "2021-04-14T16:11:57.475635Z",
     "start_time": "2021-04-14T16:11:48.279623Z"
    },
    "collapsed": true
   },
   "outputs": [
    {
     "name": "stdout",
     "output_type": "stream",
     "text": [
      "Looking in indexes: https://pypi.tuna.tsinghua.edu.cn/simple\n",
      "Collecting librosa\n",
      "  Downloading https://pypi.tuna.tsinghua.edu.cn/packages/26/4d/c22d8ca74ca2c13cd4ac430fa353954886104321877b65fa871939e78591/librosa-0.8.0.tar.gz (183 kB)\n",
      "\u001b[K     |████████████████████████████████| 183 kB 5.6 MB/s eta 0:00:01\n",
      "\u001b[?25hCollecting audioread>=2.0.0\n",
      "  Downloading https://pypi.tuna.tsinghua.edu.cn/packages/b3/d1/e324634c5867a668774d6fe233a83228da4ba16521e19059c15df899737d/audioread-2.1.9.tar.gz (377 kB)\n",
      "\u001b[K     |████████████████████████████████| 377 kB 12.2 MB/s eta 0:00:01\n",
      "\u001b[?25hRequirement already satisfied: numpy>=1.15.0 in /Users/sampras/opt/anaconda3/lib/python3.7/site-packages (from librosa) (1.18.2)\n",
      "Requirement already satisfied: scipy>=1.0.0 in /Users/sampras/opt/anaconda3/lib/python3.7/site-packages (from librosa) (1.4.1)\n",
      "Requirement already satisfied: scikit-learn!=0.19.0,>=0.14.0 in /Users/sampras/opt/anaconda3/lib/python3.7/site-packages (from librosa) (0.23.2)\n",
      "Requirement already satisfied: joblib>=0.14 in /Users/sampras/opt/anaconda3/lib/python3.7/site-packages (from librosa) (0.14.1)\n",
      "Requirement already satisfied: decorator>=3.0.0 in /Users/sampras/opt/anaconda3/lib/python3.7/site-packages (from librosa) (4.4.2)\n",
      "Collecting resampy>=0.2.2\n",
      "  Downloading https://pypi.tuna.tsinghua.edu.cn/packages/79/75/e22272b9c2185fc8f3af6ce37229708b45e8b855fd4bc38b4d6b040fff65/resampy-0.2.2.tar.gz (323 kB)\n",
      "\u001b[K     |████████████████████████████████| 323 kB 11.8 MB/s eta 0:00:01\n",
      "\u001b[?25hRequirement already satisfied: numba>=0.43.0 in /Users/sampras/opt/anaconda3/lib/python3.7/site-packages (from librosa) (0.48.0)\n",
      "Collecting soundfile>=0.9.0\n",
      "  Downloading https://pypi.tuna.tsinghua.edu.cn/packages/13/63/073fc76f2405af3ad1a2e667ac237a527fcdd81d4cbc7e2b721727687453/SoundFile-0.10.3.post1-py2.py3.cp26.cp27.cp32.cp33.cp34.cp35.cp36.pp27.pp32.pp33-none-macosx_10_5_x86_64.macosx_10_6_intel.macosx_10_9_intel.macosx_10_9_x86_64.whl (613 kB)\n",
      "\u001b[K     |████████████████████████████████| 613 kB 4.6 MB/s eta 0:00:01\n",
      "\u001b[?25hCollecting pooch>=1.0\n",
      "  Downloading https://pypi.tuna.tsinghua.edu.cn/packages/40/b9/9876662636ba451d4406543047c0b45ca5b4e830f931308c8274dad1db43/pooch-1.3.0-py3-none-any.whl (51 kB)\n",
      "\u001b[K     |████████████████████████████████| 51 kB 1.8 MB/s  eta 0:00:01\n",
      "\u001b[?25hRequirement already satisfied: threadpoolctl>=2.0.0 in /Users/sampras/opt/anaconda3/lib/python3.7/site-packages (from scikit-learn!=0.19.0,>=0.14.0->librosa) (2.1.0)\n",
      "Requirement already satisfied: six>=1.3 in /Users/sampras/opt/anaconda3/lib/python3.7/site-packages (from resampy>=0.2.2->librosa) (1.14.0)\n",
      "Requirement already satisfied: llvmlite<0.32.0,>=0.31.0dev0 in /Users/sampras/opt/anaconda3/lib/python3.7/site-packages (from numba>=0.43.0->librosa) (0.31.0)\n",
      "Requirement already satisfied: setuptools in /Users/sampras/opt/anaconda3/lib/python3.7/site-packages (from numba>=0.43.0->librosa) (46.1.3.post20200330)\n",
      "Requirement already satisfied: cffi>=1.0 in /Users/sampras/opt/anaconda3/lib/python3.7/site-packages (from soundfile>=0.9.0->librosa) (1.14.0)\n",
      "Requirement already satisfied: requests in /Users/sampras/opt/anaconda3/lib/python3.7/site-packages (from pooch>=1.0->librosa) (2.23.0)\n",
      "Requirement already satisfied: appdirs in /Users/sampras/.local/lib/python3.7/site-packages (from pooch>=1.0->librosa) (1.4.3)\n",
      "Requirement already satisfied: packaging in /Users/sampras/opt/anaconda3/lib/python3.7/site-packages (from pooch>=1.0->librosa) (20.3)\n",
      "Requirement already satisfied: pycparser in /Users/sampras/opt/anaconda3/lib/python3.7/site-packages (from cffi>=1.0->soundfile>=0.9.0->librosa) (2.20)\n",
      "Requirement already satisfied: urllib3!=1.25.0,!=1.25.1,<1.26,>=1.21.1 in /Users/sampras/opt/anaconda3/lib/python3.7/site-packages (from requests->pooch>=1.0->librosa) (1.25.8)\n",
      "Requirement already satisfied: certifi>=2017.4.17 in /Users/sampras/opt/anaconda3/lib/python3.7/site-packages (from requests->pooch>=1.0->librosa) (2020.4.5.1)\n",
      "Requirement already satisfied: idna<3,>=2.5 in /Users/sampras/opt/anaconda3/lib/python3.7/site-packages (from requests->pooch>=1.0->librosa) (2.9)\n",
      "Requirement already satisfied: chardet<4,>=3.0.2 in /Users/sampras/opt/anaconda3/lib/python3.7/site-packages (from requests->pooch>=1.0->librosa) (3.0.4)\n",
      "Requirement already satisfied: pyparsing>=2.0.2 in /Users/sampras/opt/anaconda3/lib/python3.7/site-packages (from packaging->pooch>=1.0->librosa) (2.4.6)\n",
      "Building wheels for collected packages: librosa, audioread, resampy\n",
      "  Building wheel for librosa (setup.py) ... \u001b[?25ldone\n",
      "\u001b[?25h  Created wheel for librosa: filename=librosa-0.8.0-py3-none-any.whl size=201374 sha256=f57d570bf49fa0e2e2c23bc32c6aa915e7935f2ef6c0b0ed1fb643d75c2eaf9a\n",
      "  Stored in directory: /Users/sampras/Library/Caches/pip/wheels/c6/08/26/9d7dec1c2dc863d8f1fdc1ac39883e2601dc6fa63fcd68183f\n",
      "  Building wheel for audioread (setup.py) ... \u001b[?25ldone\n",
      "\u001b[?25h  Created wheel for audioread: filename=audioread-2.1.9-py3-none-any.whl size=23142 sha256=1cc9ce52b5227f39fda38261e64321847cf1cbd17bb713b6ce633ae151e7005c\n",
      "  Stored in directory: /Users/sampras/Library/Caches/pip/wheels/71/76/34/82f346dbd557abb79d415dd4c55281db62cca581ceb1099e0f\n",
      "  Building wheel for resampy (setup.py) ... \u001b[?25ldone\n",
      "\u001b[?25h  Created wheel for resampy: filename=resampy-0.2.2-py3-none-any.whl size=320720 sha256=878932cb5686a213e1695c667d6ca109be111066ce78ecad0dc400da8ce3bbb9\n",
      "  Stored in directory: /Users/sampras/Library/Caches/pip/wheels/ad/c3/72/f5733d5e4abc9a637c9f6834a1a29429b4cd57b30a4585f91a\n",
      "Successfully built librosa audioread resampy\n",
      "Installing collected packages: audioread, resampy, soundfile, pooch, librosa\n",
      "Successfully installed audioread-2.1.9 librosa-0.8.0 pooch-1.3.0 resampy-0.2.2 soundfile-0.10.3.post1\n"
     ]
    }
   ],
   "source": [
    "!pip install librosa --user"
   ]
  },
  {
   "cell_type": "code",
   "execution_count": 3,
   "metadata": {
    "ExecuteTime": {
     "end_time": "2021-04-15T02:00:46.507672Z",
     "start_time": "2021-04-15T02:00:45.898114Z"
    }
   },
   "outputs": [],
   "source": [
    "# 其他库\n",
    "\n",
    "import os\n",
    "import librosa\n",
    "import librosa.display\n",
    "import glob"
   ]
  },
  {
   "cell_type": "markdown",
   "metadata": {},
   "source": [
    "## 特征提取以及数据集的建立"
   ]
  },
  {
   "cell_type": "code",
   "execution_count": 5,
   "metadata": {
    "ExecuteTime": {
     "end_time": "2021-04-15T02:01:46.282942Z",
     "start_time": "2021-04-15T02:01:46.277863Z"
    }
   },
   "outputs": [],
   "source": [
    "feature = []\n",
    "label = []\n",
    "# 建立类别标签，不同类别对应不同的数字。\n",
    "label_dict = {\n",
    "    'aloe': 0,\n",
    "    'burger': 1,\n",
    "    'cabbage': 2,\n",
    "    'candied_fruits': 3,\n",
    "    'carrots': 4,\n",
    "    'chips': 5,\n",
    "    'chocolate': 6,\n",
    "    'drinks': 7,\n",
    "    'fries': 8,\n",
    "    'grapes': 9,\n",
    "    'gummies': 10,\n",
    "    'ice-cream': 11,\n",
    "    'jelly': 12,\n",
    "    'noodles': 13,\n",
    "    'pickles': 14,\n",
    "    'pizza': 15,\n",
    "    'ribs': 16,\n",
    "    'salmon': 17,\n",
    "    'soup': 18,\n",
    "    'wings': 19\n",
    "}\n",
    "label_dict_inv = {v: k for k, v in label_dict.items()}"
   ]
  },
  {
   "cell_type": "code",
   "execution_count": 21,
   "metadata": {
    "ExecuteTime": {
     "end_time": "2021-04-15T02:12:49.205552Z",
     "start_time": "2021-04-15T02:12:49.199627Z"
    }
   },
   "outputs": [],
   "source": [
    "from tqdm import tqdm\n",
    "\n",
    "\n",
    "def extract_features(parent_dir, sub_dirs, file_ext=\"*.wav\"):\n",
    "    c = 0\n",
    "    label, feature = [], []\n",
    "    for sub_dir in sub_dirs:\n",
    "        for fn in tqdm(\n",
    "                glob.glob(os.path.join(parent_dir, sub_dir,\n",
    "                                       file_ext))):  # 遍历数据集的所有文件\n",
    "\n",
    "            # segment_log_specgrams, segment_labels = [], []\n",
    "            #sound_clip,sr = librosa.load(fn)\n",
    "            #print(fn)\n",
    "            label_name = fn.split('/')[-2]\n",
    "            label.extend([label_dict[label_name]])\n",
    "            X, sample_rate = librosa.load(fn, res_type='kaiser_fast')\n",
    "            mels = np.mean(librosa.feature.melspectrogram(y=X,\n",
    "                                                          sr=sample_rate).T,\n",
    "                           axis=0)  # 计算梅尔频谱(mel spectrogram),并把它作为特征\n",
    "            feature.extend([mels])\n",
    "\n",
    "    return [feature, label]"
   ]
  },
  {
   "cell_type": "code",
   "execution_count": 22,
   "metadata": {
    "ExecuteTime": {
     "end_time": "2021-04-15T02:18:03.466878Z",
     "start_time": "2021-04-15T02:12:51.640261Z"
    }
   },
   "outputs": [
    {
     "name": "stderr",
     "output_type": "stream",
     "text": [
      "100%|██████████| 340/340 [00:08<00:00, 38.34it/s]\n",
      "100%|██████████| 372/372 [00:10<00:00, 37.18it/s]\n",
      "100%|██████████| 329/329 [00:17<00:00, 18.66it/s]\n",
      "100%|██████████| 499/499 [00:26<00:00, 18.93it/s]\n",
      "100%|██████████| 413/413 [00:19<00:00, 21.27it/s]\n",
      "100%|██████████| 446/446 [00:20<00:00, 21.76it/s]\n",
      "100%|██████████| 178/178 [00:08<00:00, 21.54it/s]\n",
      "100%|██████████| 191/191 [00:07<00:00, 25.32it/s]\n",
      "100%|██████████| 405/405 [00:16<00:00, 23.98it/s]\n",
      "100%|██████████| 345/345 [00:14<00:00, 23.22it/s]\n",
      "100%|██████████| 446/446 [00:20<00:00, 22.03it/s]\n",
      "100%|██████████| 458/458 [00:21<00:00, 21.08it/s]\n",
      "100%|██████████| 289/289 [00:12<00:00, 23.15it/s]\n",
      "100%|██████████| 251/251 [00:10<00:00, 24.75it/s]\n",
      "100%|██████████| 538/538 [00:25<00:00, 21.21it/s]\n",
      "100%|██████████| 400/400 [00:21<00:00, 18.78it/s]\n",
      "100%|██████████| 311/311 [00:14<00:00, 21.29it/s]\n",
      "100%|██████████| 306/306 [00:15<00:00, 19.39it/s]\n",
      "100%|██████████| 185/185 [00:05<00:00, 31.43it/s]\n",
      "100%|██████████| 298/298 [00:13<00:00, 21.50it/s]\n"
     ]
    }
   ],
   "source": [
    "# 全部数据参与训练\n",
    "parent_dir = '/Users/sampras/Desktop/待学习/NLP/语音识别/数据集/train'\n",
    "save_dir = \"/Users/sampras/Desktop/待学习/NLP/语音识别/数据集/\"\n",
    "folds = sub_dirs = np.array([\n",
    "    'aloe', 'burger', 'cabbage', 'candied_fruits', 'carrots', 'chips',\n",
    "    'chocolate', 'drinks', 'fries', 'grapes', 'gummies', 'ice-cream', 'jelly',\n",
    "    'noodles', 'pickles', 'pizza', 'ribs', 'salmon', 'soup', 'wings'\n",
    "])\n",
    "\n",
    "# 获取特征feature以及类别的label\n",
    "temp = extract_features(parent_dir, sub_dirs)"
   ]
  },
  {
   "cell_type": "code",
   "execution_count": 23,
   "metadata": {
    "ExecuteTime": {
     "end_time": "2021-04-15T02:18:03.473187Z",
     "start_time": "2021-04-15T02:18:03.469351Z"
    }
   },
   "outputs": [],
   "source": [
    "temp = np.array(temp)\n",
    "data = temp.transpose()"
   ]
  },
  {
   "cell_type": "code",
   "execution_count": 24,
   "metadata": {
    "ExecuteTime": {
     "end_time": "2021-04-15T02:18:03.491446Z",
     "start_time": "2021-04-15T02:18:03.476039Z"
    }
   },
   "outputs": [
    {
     "name": "stdout",
     "output_type": "stream",
     "text": [
      "X的特征尺寸是： (7000, 128)\n",
      "Y的特征尺寸是： (7000,)\n"
     ]
    }
   ],
   "source": [
    "# 获取特征\n",
    "X = np.vstack(data[:, 0])\n",
    "\n",
    "# 获取标签\n",
    "Y = np.array(data[:, 1])\n",
    "print('X的特征尺寸是：', X.shape)\n",
    "print('Y的特征尺寸是：', Y.shape)"
   ]
  },
  {
   "cell_type": "code",
   "execution_count": 26,
   "metadata": {
    "ExecuteTime": {
     "end_time": "2021-04-15T02:20:40.026047Z",
     "start_time": "2021-04-15T02:20:40.023233Z"
    }
   },
   "outputs": [],
   "source": [
    "# 在Keras库中：to_categorical就是将类别向量转换为二进制（只有0和1）的矩阵类型表示\n",
    "Y = to_categorical(Y)"
   ]
  },
  {
   "cell_type": "code",
   "execution_count": 27,
   "metadata": {
    "ExecuteTime": {
     "end_time": "2021-04-15T02:20:41.337729Z",
     "start_time": "2021-04-15T02:20:41.334625Z"
    }
   },
   "outputs": [
    {
     "name": "stdout",
     "output_type": "stream",
     "text": [
      "(7000, 128)\n",
      "(7000, 20)\n"
     ]
    }
   ],
   "source": [
    "'''最终数据'''\n",
    "print(X.shape)\n",
    "print(Y.shape)"
   ]
  },
  {
   "cell_type": "code",
   "execution_count": 28,
   "metadata": {
    "ExecuteTime": {
     "end_time": "2021-04-15T02:23:43.768003Z",
     "start_time": "2021-04-15T02:23:43.641040Z"
    }
   },
   "outputs": [
    {
     "name": "stdout",
     "output_type": "stream",
     "text": [
      "训练集的大小 5250\n",
      "测试集的大小 1750\n"
     ]
    }
   ],
   "source": [
    "X_train, X_test, Y_train, Y_test = train_test_split(X,\n",
    "                                                    Y,\n",
    "                                                    random_state=1,\n",
    "                                                    stratify=Y)\n",
    "print('训练集的大小', len(X_train))\n",
    "print('测试集的大小', len(X_test))"
   ]
  },
  {
   "cell_type": "code",
   "execution_count": 29,
   "metadata": {
    "ExecuteTime": {
     "end_time": "2021-04-15T02:23:46.292514Z",
     "start_time": "2021-04-15T02:23:46.289826Z"
    }
   },
   "outputs": [],
   "source": [
    "X_train = X_train.reshape(-1, 16, 8, 1)\n",
    "X_test = X_test.reshape(-1, 16, 8, 1)"
   ]
  },
  {
   "cell_type": "markdown",
   "metadata": {},
   "source": [
    "## 建立模型"
   ]
  },
  {
   "cell_type": "markdown",
   "metadata": {},
   "source": [
    "### 搭建CNN网络\n",
    "\n",
    "参考：https://www.kaggle.com/leonadoice/task4\n",
    "> 推荐的资料中，我们推荐大家去看看李宏毅老师的讲的[CNN网络](https://www.youtube.com/watch?v=FrKWiRv254g&feature=youtu.be)这里也附上老师的[PPT](http://speech.ee.ntu.edu.tw/~tlkagk/courses/ML_2017/Lecture/CNN.pdf)。\n",
    "\n",
    "\n",
    "卷积神经网络CNN的结构一般包含这几个层：\n",
    "\n",
    "1)输入层：用于数据的输入\n",
    "\n",
    "2)卷积层：使用卷积核进行特征提取和特征映射------>可以多次重复使用\n",
    "\n",
    "3)激励层：由于卷积也是一种线性运算，因此需要增加非线性映射(也就是激活函数)\n",
    "\n",
    "4)池化层：进行下采样，对特征图稀疏处理，减少数据运算量----->可以多次重复使用\n",
    "\n",
    "5）Flatten操作：将二维的向量，拉直为一维的向量，从而可以放入下一层的神经网络中\n",
    "\n",
    "6)全连接层：通常在CNN的尾部进行重新拟合，减少特征信息的损失----->DNN网络"
   ]
  },
  {
   "cell_type": "code",
   "execution_count": 30,
   "metadata": {
    "ExecuteTime": {
     "end_time": "2021-04-15T02:23:49.882126Z",
     "start_time": "2021-04-15T02:23:49.804032Z"
    }
   },
   "outputs": [],
   "source": [
    "model = Sequential()\n",
    "\n",
    "# 输入的大小\n",
    "input_dim = (16, 8, 1)\n",
    "\n",
    "model.add(\n",
    "    Conv2D(64, (3, 3),\n",
    "           padding=\"same\",\n",
    "           activation=\"tanh\",\n",
    "           input_shape=input_dim))  # 卷积层\n",
    "model.add(MaxPool2D(pool_size=(2, 2)))  # 最大池化\n",
    "model.add(Conv2D(128, (3, 3), padding=\"same\", activation=\"tanh\"))  #卷积层\n",
    "model.add(MaxPool2D(pool_size=(2, 2)))  # 最大池化层\n",
    "model.add(Dropout(0.1))\n",
    "model.add(Flatten())  # 展开\n",
    "model.add(Dense(1024, activation=\"tanh\"))\n",
    "model.add(Dense(20, activation=\"softmax\"))  # 输出层：20个units输出20个类的概率\n",
    "\n",
    "# 编译模型，设置损失函数，优化方法以及评价标准\n",
    "model.compile(optimizer='adam',\n",
    "              loss='categorical_crossentropy',\n",
    "              metrics=['accuracy'])"
   ]
  },
  {
   "cell_type": "code",
   "execution_count": 31,
   "metadata": {
    "ExecuteTime": {
     "end_time": "2021-04-15T02:23:50.955028Z",
     "start_time": "2021-04-15T02:23:50.950992Z"
    }
   },
   "outputs": [
    {
     "name": "stdout",
     "output_type": "stream",
     "text": [
      "Model: \"sequential_1\"\n",
      "_________________________________________________________________\n",
      "Layer (type)                 Output Shape              Param #   \n",
      "=================================================================\n",
      "conv2d_2 (Conv2D)            (None, 16, 8, 64)         640       \n",
      "_________________________________________________________________\n",
      "max_pooling2d_2 (MaxPooling2 (None, 8, 4, 64)          0         \n",
      "_________________________________________________________________\n",
      "conv2d_3 (Conv2D)            (None, 8, 4, 128)         73856     \n",
      "_________________________________________________________________\n",
      "max_pooling2d_3 (MaxPooling2 (None, 4, 2, 128)         0         \n",
      "_________________________________________________________________\n",
      "dropout_1 (Dropout)          (None, 4, 2, 128)         0         \n",
      "_________________________________________________________________\n",
      "flatten_1 (Flatten)          (None, 1024)              0         \n",
      "_________________________________________________________________\n",
      "dense_2 (Dense)              (None, 1024)              1049600   \n",
      "_________________________________________________________________\n",
      "dense_3 (Dense)              (None, 20)                20500     \n",
      "=================================================================\n",
      "Total params: 1,144,596\n",
      "Trainable params: 1,144,596\n",
      "Non-trainable params: 0\n",
      "_________________________________________________________________\n"
     ]
    }
   ],
   "source": [
    "model.summary()"
   ]
  },
  {
   "cell_type": "code",
   "execution_count": 32,
   "metadata": {
    "ExecuteTime": {
     "end_time": "2021-04-15T02:27:05.674876Z",
     "start_time": "2021-04-15T02:23:56.206726Z"
    }
   },
   "outputs": [
    {
     "name": "stdout",
     "output_type": "stream",
     "text": [
      "Epoch 1/50\n",
      "350/350 [==============================] - 4s 11ms/step - loss: 2.4940 - accuracy: 0.2547 - val_loss: 2.2654 - val_accuracy: 0.3274\n",
      "Epoch 2/50\n",
      "350/350 [==============================] - 4s 11ms/step - loss: 2.0781 - accuracy: 0.3730 - val_loss: 2.0541 - val_accuracy: 0.3943\n",
      "Epoch 3/50\n",
      "350/350 [==============================] - 4s 11ms/step - loss: 1.8269 - accuracy: 0.4507 - val_loss: 1.8357 - val_accuracy: 0.4651\n",
      "Epoch 4/50\n",
      "350/350 [==============================] - 4s 11ms/step - loss: 1.6086 - accuracy: 0.5173 - val_loss: 1.7449 - val_accuracy: 0.4834\n",
      "Epoch 5/50\n",
      "350/350 [==============================] - 4s 11ms/step - loss: 1.4445 - accuracy: 0.5741 - val_loss: 1.7519 - val_accuracy: 0.5034\n",
      "Epoch 6/50\n",
      "350/350 [==============================] - 4s 10ms/step - loss: 1.2518 - accuracy: 0.6217 - val_loss: 1.7197 - val_accuracy: 0.5309\n",
      "Epoch 7/50\n",
      "350/350 [==============================] - 4s 11ms/step - loss: 1.1179 - accuracy: 0.6659 - val_loss: 1.6393 - val_accuracy: 0.5503\n",
      "Epoch 8/50\n",
      "350/350 [==============================] - 4s 10ms/step - loss: 1.0287 - accuracy: 0.6846 - val_loss: 1.6085 - val_accuracy: 0.5766\n",
      "Epoch 9/50\n",
      "350/350 [==============================] - 5s 13ms/step - loss: 0.8981 - accuracy: 0.7196 - val_loss: 1.5976 - val_accuracy: 0.5789\n",
      "Epoch 10/50\n",
      "350/350 [==============================] - 4s 10ms/step - loss: 0.8349 - accuracy: 0.7425 - val_loss: 1.5705 - val_accuracy: 0.6040\n",
      "Epoch 11/50\n",
      "350/350 [==============================] - 4s 11ms/step - loss: 0.7095 - accuracy: 0.7773 - val_loss: 1.6461 - val_accuracy: 0.6109\n",
      "Epoch 12/50\n",
      "350/350 [==============================] - 4s 10ms/step - loss: 0.6778 - accuracy: 0.7922 - val_loss: 1.6333 - val_accuracy: 0.6206\n",
      "Epoch 13/50\n",
      "350/350 [==============================] - 4s 11ms/step - loss: 0.6006 - accuracy: 0.8170 - val_loss: 1.6672 - val_accuracy: 0.6149\n",
      "Epoch 14/50\n",
      "350/350 [==============================] - 4s 11ms/step - loss: 0.5800 - accuracy: 0.8122 - val_loss: 1.5893 - val_accuracy: 0.6503\n",
      "Epoch 15/50\n",
      "350/350 [==============================] - 4s 10ms/step - loss: 0.4903 - accuracy: 0.8549 - val_loss: 1.6171 - val_accuracy: 0.6360\n",
      "Epoch 16/50\n",
      "350/350 [==============================] - 4s 11ms/step - loss: 0.4645 - accuracy: 0.8550 - val_loss: 1.7510 - val_accuracy: 0.6297\n",
      "Epoch 17/50\n",
      "350/350 [==============================] - 4s 11ms/step - loss: 0.4189 - accuracy: 0.8676 - val_loss: 1.8069 - val_accuracy: 0.6320\n",
      "Epoch 18/50\n",
      "350/350 [==============================] - 4s 10ms/step - loss: 0.3966 - accuracy: 0.8728 - val_loss: 1.6256 - val_accuracy: 0.6646\n",
      "Epoch 19/50\n",
      "350/350 [==============================] - 4s 10ms/step - loss: 0.3157 - accuracy: 0.8979 - val_loss: 1.7409 - val_accuracy: 0.6686\n",
      "Epoch 20/50\n",
      "350/350 [==============================] - 4s 11ms/step - loss: 0.3534 - accuracy: 0.8863 - val_loss: 1.7614 - val_accuracy: 0.6680\n",
      "Epoch 21/50\n",
      "350/350 [==============================] - 4s 11ms/step - loss: 0.3162 - accuracy: 0.9004 - val_loss: 1.7311 - val_accuracy: 0.6771\n",
      "Epoch 22/50\n",
      "350/350 [==============================] - 4s 10ms/step - loss: 0.2692 - accuracy: 0.9141 - val_loss: 1.7533 - val_accuracy: 0.6646\n",
      "Epoch 23/50\n",
      "350/350 [==============================] - 4s 11ms/step - loss: 0.2718 - accuracy: 0.9109 - val_loss: 1.9197 - val_accuracy: 0.6503\n",
      "Epoch 24/50\n",
      "350/350 [==============================] - 4s 11ms/step - loss: 0.2793 - accuracy: 0.9086 - val_loss: 1.7389 - val_accuracy: 0.6766\n",
      "Epoch 25/50\n",
      "350/350 [==============================] - 4s 11ms/step - loss: 0.2328 - accuracy: 0.9194 - val_loss: 1.8053 - val_accuracy: 0.6789\n",
      "Epoch 26/50\n",
      "350/350 [==============================] - 4s 11ms/step - loss: 0.2309 - accuracy: 0.9274 - val_loss: 1.9149 - val_accuracy: 0.6806\n",
      "Epoch 27/50\n",
      "350/350 [==============================] - 4s 10ms/step - loss: 0.2064 - accuracy: 0.9383 - val_loss: 1.8546 - val_accuracy: 0.6766\n",
      "Epoch 28/50\n",
      "350/350 [==============================] - 4s 10ms/step - loss: 0.1916 - accuracy: 0.9398 - val_loss: 1.8481 - val_accuracy: 0.6874\n",
      "Epoch 29/50\n",
      "350/350 [==============================] - 4s 11ms/step - loss: 0.1581 - accuracy: 0.9491 - val_loss: 2.0461 - val_accuracy: 0.6543\n",
      "Epoch 30/50\n",
      "350/350 [==============================] - 4s 11ms/step - loss: 0.1691 - accuracy: 0.9436 - val_loss: 1.9432 - val_accuracy: 0.6869\n",
      "Epoch 31/50\n",
      "350/350 [==============================] - 4s 11ms/step - loss: 0.1791 - accuracy: 0.9427 - val_loss: 2.1697 - val_accuracy: 0.6651\n",
      "Epoch 32/50\n",
      "350/350 [==============================] - 4s 10ms/step - loss: 0.1461 - accuracy: 0.9512 - val_loss: 1.9857 - val_accuracy: 0.6811\n",
      "Epoch 33/50\n",
      "350/350 [==============================] - 4s 10ms/step - loss: 0.1391 - accuracy: 0.9549 - val_loss: 1.9640 - val_accuracy: 0.6943\n",
      "Epoch 34/50\n",
      "350/350 [==============================] - 4s 11ms/step - loss: 0.1464 - accuracy: 0.9552 - val_loss: 1.9178 - val_accuracy: 0.6960\n",
      "Epoch 35/50\n",
      "350/350 [==============================] - 4s 11ms/step - loss: 0.1629 - accuracy: 0.9465 - val_loss: 2.2667 - val_accuracy: 0.6669\n",
      "Epoch 36/50\n",
      "350/350 [==============================] - 4s 12ms/step - loss: 0.1938 - accuracy: 0.9429 - val_loss: 2.0068 - val_accuracy: 0.6834\n",
      "Epoch 37/50\n",
      "350/350 [==============================] - 4s 12ms/step - loss: 0.1172 - accuracy: 0.9604 - val_loss: 2.0770 - val_accuracy: 0.6954\n",
      "Epoch 38/50\n",
      "350/350 [==============================] - 4s 11ms/step - loss: 0.1180 - accuracy: 0.9630 - val_loss: 1.9694 - val_accuracy: 0.6989\n",
      "Epoch 39/50\n",
      "350/350 [==============================] - 4s 11ms/step - loss: 0.1012 - accuracy: 0.9669 - val_loss: 1.9981 - val_accuracy: 0.7006\n",
      "Epoch 40/50\n",
      "350/350 [==============================] - 4s 11ms/step - loss: 0.1231 - accuracy: 0.9596 - val_loss: 1.9644 - val_accuracy: 0.7051\n",
      "Epoch 41/50\n",
      "350/350 [==============================] - 4s 11ms/step - loss: 0.1265 - accuracy: 0.9598 - val_loss: 2.0837 - val_accuracy: 0.6989\n",
      "Epoch 42/50\n",
      "350/350 [==============================] - 4s 10ms/step - loss: 0.0880 - accuracy: 0.9728 - val_loss: 2.1502 - val_accuracy: 0.6926\n",
      "Epoch 43/50\n",
      "350/350 [==============================] - 4s 11ms/step - loss: 0.0752 - accuracy: 0.9758 - val_loss: 2.1221 - val_accuracy: 0.7074\n",
      "Epoch 44/50\n",
      "350/350 [==============================] - 4s 11ms/step - loss: 0.1122 - accuracy: 0.9638 - val_loss: 2.1743 - val_accuracy: 0.7040\n",
      "Epoch 45/50\n",
      "350/350 [==============================] - 4s 11ms/step - loss: 0.0851 - accuracy: 0.9705 - val_loss: 2.3489 - val_accuracy: 0.6931\n",
      "Epoch 46/50\n",
      "350/350 [==============================] - 3s 10ms/step - loss: 0.0891 - accuracy: 0.9735 - val_loss: 2.2125 - val_accuracy: 0.6937\n",
      "Epoch 47/50\n",
      "350/350 [==============================] - 3s 10ms/step - loss: 0.0899 - accuracy: 0.9722 - val_loss: 2.3797 - val_accuracy: 0.6920\n",
      "Epoch 48/50\n",
      "350/350 [==============================] - 3s 9ms/step - loss: 0.1003 - accuracy: 0.9688 - val_loss: 2.2886 - val_accuracy: 0.6937\n",
      "Epoch 49/50\n",
      "350/350 [==============================] - 4s 11ms/step - loss: 0.0839 - accuracy: 0.9726 - val_loss: 2.1877 - val_accuracy: 0.7097\n",
      "Epoch 50/50\n",
      "350/350 [==============================] - 4s 12ms/step - loss: 0.1069 - accuracy: 0.9629 - val_loss: 2.4658 - val_accuracy: 0.6857\n"
     ]
    },
    {
     "data": {
      "text/plain": [
       "<tensorflow.python.keras.callbacks.History at 0x7fbb0d764c10>"
      ]
     },
     "execution_count": 32,
     "metadata": {},
     "output_type": "execute_result"
    }
   ],
   "source": [
    "# 训练模型\n",
    "model.fit(X_train,\n",
    "          Y_train,\n",
    "          epochs=50,\n",
    "          batch_size=15,\n",
    "          validation_data=(X_test, Y_test))"
   ]
  },
  {
   "cell_type": "markdown",
   "metadata": {},
   "source": [
    "### 预测测试集"
   ]
  },
  {
   "cell_type": "code",
   "execution_count": 33,
   "metadata": {
    "ExecuteTime": {
     "end_time": "2021-04-15T02:30:53.152161Z",
     "start_time": "2021-04-15T02:30:53.147544Z"
    }
   },
   "outputs": [],
   "source": [
    "def extract_features(test_dir, file_ext=\"*.wav\"):\n",
    "    feature = []\n",
    "    for fn in tqdm(glob.glob(os.path.join(test_dir,\n",
    "                                          file_ext))[:]):  # 遍历数据集的所有文件\n",
    "        X, sample_rate = librosa.load(fn, res_type='kaiser_fast')\n",
    "        mels = np.mean(librosa.feature.melspectrogram(y=X, sr=sample_rate).T,\n",
    "                       axis=0)  # 计算梅尔频谱(mel spectrogram),并把它作为特征\n",
    "        feature.extend([mels])\n",
    "    return feature"
   ]
  },
  {
   "cell_type": "code",
   "execution_count": 34,
   "metadata": {
    "ExecuteTime": {
     "end_time": "2021-04-15T02:32:26.521421Z",
     "start_time": "2021-04-15T02:30:55.381757Z"
    }
   },
   "outputs": [
    {
     "name": "stderr",
     "output_type": "stream",
     "text": [
      "100%|██████████| 2000/2000 [01:31<00:00, 21.95it/s]\n"
     ]
    }
   ],
   "source": [
    "X_test = extract_features('/Users/sampras/Desktop/待学习/NLP/语音识别/数据集/test/')"
   ]
  },
  {
   "cell_type": "code",
   "execution_count": 22,
   "metadata": {
    "ExecuteTime": {
     "end_time": "2021-04-14T16:19:28.748162Z",
     "start_time": "2021-04-14T16:19:28.403433Z"
    }
   },
   "outputs": [],
   "source": [
    "X_test = np.vstack(X_test)\n",
    "predictions = model.predict(X_test.reshape(-1, 16, 8, 1))"
   ]
  },
  {
   "cell_type": "code",
   "execution_count": 24,
   "metadata": {
    "ExecuteTime": {
     "end_time": "2021-04-14T16:19:54.773287Z",
     "start_time": "2021-04-14T16:19:54.728311Z"
    }
   },
   "outputs": [],
   "source": [
    "preds = np.argmax(predictions, axis=1)\n",
    "preds = [label_dict_inv[x] for x in preds]\n",
    "\n",
    "path = glob.glob('/Users/sampras/Desktop/待学习/NLP/语音识别/数据集/test/*.wav')\n",
    "result = pd.DataFrame({'name': path, 'label': preds})\n",
    "\n",
    "result['name'] = result['name'].apply(lambda x: x.split('/')[-1])\n",
    "result.to_csv('submit.csv', index=None)"
   ]
  },
  {
   "cell_type": "code",
   "execution_count": 25,
   "metadata": {
    "ExecuteTime": {
     "end_time": "2021-04-14T16:20:05.592960Z",
     "start_time": "2021-04-14T16:20:05.347708Z"
    }
   },
   "outputs": [
    {
     "name": "stdout",
     "output_type": "stream",
     "text": [
      "    2000\r\n"
     ]
    }
   ],
   "source": [
    "!ls /Users/sampras/Desktop/待学习/NLP/语音识别/数据集/test/*.wav | wc -l"
   ]
  },
  {
   "cell_type": "code",
   "execution_count": 26,
   "metadata": {
    "ExecuteTime": {
     "end_time": "2021-04-14T16:20:10.733042Z",
     "start_time": "2021-04-14T16:20:10.604567Z"
    }
   },
   "outputs": [
    {
     "name": "stdout",
     "output_type": "stream",
     "text": [
      "    2001 submit.csv\r\n"
     ]
    }
   ],
   "source": [
    "!wc -l submit.csv"
   ]
  },
  {
   "cell_type": "code",
   "execution_count": 25,
   "metadata": {
    "ExecuteTime": {
     "end_time": "2021-04-15T02:20:17.623545Z",
     "start_time": "2021-04-15T02:20:17.595300Z"
    }
   },
   "outputs": [
    {
     "ename": "NameError",
     "evalue": "name 'result' is not defined",
     "output_type": "error",
     "traceback": [
      "\u001b[0;31m---------------------------------------------------------------------------\u001b[0m",
      "\u001b[0;31mNameError\u001b[0m                                 Traceback (most recent call last)",
      "\u001b[0;32m<ipython-input-25-acd114040ead>\u001b[0m in \u001b[0;36m<module>\u001b[0;34m\u001b[0m\n\u001b[0;32m----> 1\u001b[0;31m \u001b[0mresult\u001b[0m\u001b[0;34m.\u001b[0m\u001b[0mhead\u001b[0m\u001b[0;34m(\u001b[0m\u001b[0;34m)\u001b[0m\u001b[0;34m\u001b[0m\u001b[0;34m\u001b[0m\u001b[0m\n\u001b[0m",
      "\u001b[0;31mNameError\u001b[0m: name 'result' is not defined"
     ]
    }
   ],
   "source": [
    "result.head() "
   ]
  },
  {
   "cell_type": "code",
   "execution_count": null,
   "metadata": {},
   "outputs": [],
   "source": []
  }
 ],
 "metadata": {
  "kernelspec": {
   "display_name": "Python 3",
   "language": "python",
   "name": "python3"
  },
  "language_info": {
   "codemirror_mode": {
    "name": "ipython",
    "version": 3
   },
   "file_extension": ".py",
   "mimetype": "text/x-python",
   "name": "python",
   "nbconvert_exporter": "python",
   "pygments_lexer": "ipython3",
   "version": "3.7.6"
  },
  "tianchi_metadata": {
   "competitions": [],
   "datasets": [
    {
     "id": "96728",
     "title": "获取数据集标题失败"
    }
   ],
   "description": "",
   "notebookId": "185525",
   "source": "dsw"
  },
  "toc": {
   "base_numbering": 1,
   "nav_menu": {},
   "number_sections": true,
   "sideBar": true,
   "skip_h1_title": false,
   "title_cell": "Table of Contents",
   "title_sidebar": "Contents",
   "toc_cell": false,
   "toc_position": {},
   "toc_section_display": true,
   "toc_window_display": false
  }
 },
 "nbformat": 4,
 "nbformat_minor": 4
}
