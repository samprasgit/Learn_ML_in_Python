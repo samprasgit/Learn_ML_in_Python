{
 "cells": [
  {
   "cell_type": "markdown",
   "metadata": {},
   "source": [
    "## 环境要求\n",
    "\n",
    "- TensorFlow的版本：2.0 + \n",
    "- keras\n",
    "- sklearn\n",
    "- librosa"
   ]
  },
  {
   "cell_type": "code",
   "execution_count": 1,
   "metadata": {
    "ExecuteTime": {
     "end_time": "2021-04-15T02:00:38.020670Z",
     "start_time": "2021-04-15T02:00:36.701239Z"
    }
   },
   "outputs": [],
   "source": [
    "# 基本库\n",
    "\n",
    "import pandas as pd\n",
    "import numpy as np\n",
    "\n",
    "from sklearn.model_selection import train_test_split\n",
    "from sklearn.metrics import classification_report\n",
    "from sklearn.model_selection import GridSearchCV\n",
    "\n",
    "from sklearn.preprocessing import MinMaxScaler"
   ]
  },
  {
   "cell_type": "markdown",
   "metadata": {},
   "source": [
    "## 加载深度学习框架"
   ]
  },
  {
   "cell_type": "code",
   "execution_count": 2,
   "metadata": {
    "ExecuteTime": {
     "end_time": "2021-04-15T02:00:41.580836Z",
     "start_time": "2021-04-15T02:00:38.878907Z"
    }
   },
   "outputs": [],
   "source": [
    "# 搭建分类模型所需要的库\n",
    "\n",
    "from tensorflow.keras.models import Sequential\n",
    "from tensorflow.keras.layers import Conv2D, Flatten, Dense, MaxPool2D, Dropout\n",
    "from tensorflow.keras.utils import to_categorical\n",
    "\n",
    "from sklearn.ensemble import RandomForestClassifier\n",
    "from sklearn.svm import SVC"
   ]
  },
  {
   "cell_type": "markdown",
   "metadata": {},
   "source": [
    "## 加载音频处理库"
   ]
  },
  {
   "cell_type": "code",
   "execution_count": 1,
   "metadata": {
    "ExecuteTime": {
     "end_time": "2021-04-14T16:11:57.475635Z",
     "start_time": "2021-04-14T16:11:48.279623Z"
    },
    "collapsed": true
   },
   "outputs": [
    {
     "name": "stdout",
     "output_type": "stream",
     "text": [
      "Looking in indexes: https://pypi.tuna.tsinghua.edu.cn/simple\n",
      "Collecting librosa\n",
      "  Downloading https://pypi.tuna.tsinghua.edu.cn/packages/26/4d/c22d8ca74ca2c13cd4ac430fa353954886104321877b65fa871939e78591/librosa-0.8.0.tar.gz (183 kB)\n",
      "\u001b[K     |████████████████████████████████| 183 kB 5.6 MB/s eta 0:00:01\n",
      "\u001b[?25hCollecting audioread>=2.0.0\n",
      "  Downloading https://pypi.tuna.tsinghua.edu.cn/packages/b3/d1/e324634c5867a668774d6fe233a83228da4ba16521e19059c15df899737d/audioread-2.1.9.tar.gz (377 kB)\n",
      "\u001b[K     |████████████████████████████████| 377 kB 12.2 MB/s eta 0:00:01\n",
      "\u001b[?25hRequirement already satisfied: numpy>=1.15.0 in /Users/sampras/opt/anaconda3/lib/python3.7/site-packages (from librosa) (1.18.2)\n",
      "Requirement already satisfied: scipy>=1.0.0 in /Users/sampras/opt/anaconda3/lib/python3.7/site-packages (from librosa) (1.4.1)\n",
      "Requirement already satisfied: scikit-learn!=0.19.0,>=0.14.0 in /Users/sampras/opt/anaconda3/lib/python3.7/site-packages (from librosa) (0.23.2)\n",
      "Requirement already satisfied: joblib>=0.14 in /Users/sampras/opt/anaconda3/lib/python3.7/site-packages (from librosa) (0.14.1)\n",
      "Requirement already satisfied: decorator>=3.0.0 in /Users/sampras/opt/anaconda3/lib/python3.7/site-packages (from librosa) (4.4.2)\n",
      "Collecting resampy>=0.2.2\n",
      "  Downloading https://pypi.tuna.tsinghua.edu.cn/packages/79/75/e22272b9c2185fc8f3af6ce37229708b45e8b855fd4bc38b4d6b040fff65/resampy-0.2.2.tar.gz (323 kB)\n",
      "\u001b[K     |████████████████████████████████| 323 kB 11.8 MB/s eta 0:00:01\n",
      "\u001b[?25hRequirement already satisfied: numba>=0.43.0 in /Users/sampras/opt/anaconda3/lib/python3.7/site-packages (from librosa) (0.48.0)\n",
      "Collecting soundfile>=0.9.0\n",
      "  Downloading https://pypi.tuna.tsinghua.edu.cn/packages/13/63/073fc76f2405af3ad1a2e667ac237a527fcdd81d4cbc7e2b721727687453/SoundFile-0.10.3.post1-py2.py3.cp26.cp27.cp32.cp33.cp34.cp35.cp36.pp27.pp32.pp33-none-macosx_10_5_x86_64.macosx_10_6_intel.macosx_10_9_intel.macosx_10_9_x86_64.whl (613 kB)\n",
      "\u001b[K     |████████████████████████████████| 613 kB 4.6 MB/s eta 0:00:01\n",
      "\u001b[?25hCollecting pooch>=1.0\n",
      "  Downloading https://pypi.tuna.tsinghua.edu.cn/packages/40/b9/9876662636ba451d4406543047c0b45ca5b4e830f931308c8274dad1db43/pooch-1.3.0-py3-none-any.whl (51 kB)\n",
      "\u001b[K     |████████████████████████████████| 51 kB 1.8 MB/s  eta 0:00:01\n",
      "\u001b[?25hRequirement already satisfied: threadpoolctl>=2.0.0 in /Users/sampras/opt/anaconda3/lib/python3.7/site-packages (from scikit-learn!=0.19.0,>=0.14.0->librosa) (2.1.0)\n",
      "Requirement already satisfied: six>=1.3 in /Users/sampras/opt/anaconda3/lib/python3.7/site-packages (from resampy>=0.2.2->librosa) (1.14.0)\n",
      "Requirement already satisfied: llvmlite<0.32.0,>=0.31.0dev0 in /Users/sampras/opt/anaconda3/lib/python3.7/site-packages (from numba>=0.43.0->librosa) (0.31.0)\n",
      "Requirement already satisfied: setuptools in /Users/sampras/opt/anaconda3/lib/python3.7/site-packages (from numba>=0.43.0->librosa) (46.1.3.post20200330)\n",
      "Requirement already satisfied: cffi>=1.0 in /Users/sampras/opt/anaconda3/lib/python3.7/site-packages (from soundfile>=0.9.0->librosa) (1.14.0)\n",
      "Requirement already satisfied: requests in /Users/sampras/opt/anaconda3/lib/python3.7/site-packages (from pooch>=1.0->librosa) (2.23.0)\n",
      "Requirement already satisfied: appdirs in /Users/sampras/.local/lib/python3.7/site-packages (from pooch>=1.0->librosa) (1.4.3)\n",
      "Requirement already satisfied: packaging in /Users/sampras/opt/anaconda3/lib/python3.7/site-packages (from pooch>=1.0->librosa) (20.3)\n",
      "Requirement already satisfied: pycparser in /Users/sampras/opt/anaconda3/lib/python3.7/site-packages (from cffi>=1.0->soundfile>=0.9.0->librosa) (2.20)\n",
      "Requirement already satisfied: urllib3!=1.25.0,!=1.25.1,<1.26,>=1.21.1 in /Users/sampras/opt/anaconda3/lib/python3.7/site-packages (from requests->pooch>=1.0->librosa) (1.25.8)\n",
      "Requirement already satisfied: certifi>=2017.4.17 in /Users/sampras/opt/anaconda3/lib/python3.7/site-packages (from requests->pooch>=1.0->librosa) (2020.4.5.1)\n",
      "Requirement already satisfied: idna<3,>=2.5 in /Users/sampras/opt/anaconda3/lib/python3.7/site-packages (from requests->pooch>=1.0->librosa) (2.9)\n",
      "Requirement already satisfied: chardet<4,>=3.0.2 in /Users/sampras/opt/anaconda3/lib/python3.7/site-packages (from requests->pooch>=1.0->librosa) (3.0.4)\n",
      "Requirement already satisfied: pyparsing>=2.0.2 in /Users/sampras/opt/anaconda3/lib/python3.7/site-packages (from packaging->pooch>=1.0->librosa) (2.4.6)\n",
      "Building wheels for collected packages: librosa, audioread, resampy\n",
      "  Building wheel for librosa (setup.py) ... \u001b[?25ldone\n",
      "\u001b[?25h  Created wheel for librosa: filename=librosa-0.8.0-py3-none-any.whl size=201374 sha256=f57d570bf49fa0e2e2c23bc32c6aa915e7935f2ef6c0b0ed1fb643d75c2eaf9a\n",
      "  Stored in directory: /Users/sampras/Library/Caches/pip/wheels/c6/08/26/9d7dec1c2dc863d8f1fdc1ac39883e2601dc6fa63fcd68183f\n",
      "  Building wheel for audioread (setup.py) ... \u001b[?25ldone\n",
      "\u001b[?25h  Created wheel for audioread: filename=audioread-2.1.9-py3-none-any.whl size=23142 sha256=1cc9ce52b5227f39fda38261e64321847cf1cbd17bb713b6ce633ae151e7005c\n",
      "  Stored in directory: /Users/sampras/Library/Caches/pip/wheels/71/76/34/82f346dbd557abb79d415dd4c55281db62cca581ceb1099e0f\n",
      "  Building wheel for resampy (setup.py) ... \u001b[?25ldone\n",
      "\u001b[?25h  Created wheel for resampy: filename=resampy-0.2.2-py3-none-any.whl size=320720 sha256=878932cb5686a213e1695c667d6ca109be111066ce78ecad0dc400da8ce3bbb9\n",
      "  Stored in directory: /Users/sampras/Library/Caches/pip/wheels/ad/c3/72/f5733d5e4abc9a637c9f6834a1a29429b4cd57b30a4585f91a\n",
      "Successfully built librosa audioread resampy\n",
      "Installing collected packages: audioread, resampy, soundfile, pooch, librosa\n",
      "Successfully installed audioread-2.1.9 librosa-0.8.0 pooch-1.3.0 resampy-0.2.2 soundfile-0.10.3.post1\n"
     ]
    }
   ],
   "source": [
    "!pip install librosa --user"
   ]
  },
  {
   "cell_type": "code",
   "execution_count": 3,
   "metadata": {
    "ExecuteTime": {
     "end_time": "2021-04-15T02:00:46.507672Z",
     "start_time": "2021-04-15T02:00:45.898114Z"
    }
   },
   "outputs": [],
   "source": [
    "# 其他库\n",
    "\n",
    "import os\n",
    "import librosa\n",
    "import librosa.display\n",
    "import glob"
   ]
  },
  {
   "cell_type": "markdown",
   "metadata": {},
   "source": [
    "## 特征提取以及数据集的建立"
   ]
  },
  {
   "cell_type": "code",
   "execution_count": 5,
   "metadata": {
    "ExecuteTime": {
     "end_time": "2021-04-15T02:01:46.282942Z",
     "start_time": "2021-04-15T02:01:46.277863Z"
    }
   },
   "outputs": [],
   "source": [
    "feature = []\n",
    "label = []\n",
    "# 建立类别标签，不同类别对应不同的数字。\n",
    "label_dict = {\n",
    "    'aloe': 0,\n",
    "    'burger': 1,\n",
    "    'cabbage': 2,\n",
    "    'candied_fruits': 3,\n",
    "    'carrots': 4,\n",
    "    'chips': 5,\n",
    "    'chocolate': 6,\n",
    "    'drinks': 7,\n",
    "    'fries': 8,\n",
    "    'grapes': 9,\n",
    "    'gummies': 10,\n",
    "    'ice-cream': 11,\n",
    "    'jelly': 12,\n",
    "    'noodles': 13,\n",
    "    'pickles': 14,\n",
    "    'pizza': 15,\n",
    "    'ribs': 16,\n",
    "    'salmon': 17,\n",
    "    'soup': 18,\n",
    "    'wings': 19\n",
    "}\n",
    "label_dict_inv = {v: k for k, v in label_dict.items()}"
   ]
  },
  {
   "cell_type": "code",
   "execution_count": 21,
   "metadata": {
    "ExecuteTime": {
     "end_time": "2021-04-15T02:12:49.205552Z",
     "start_time": "2021-04-15T02:12:49.199627Z"
    }
   },
   "outputs": [],
   "source": [
    "from tqdm import tqdm\n",
    "\n",
    "\n",
    "def extract_features(parent_dir, sub_dirs, file_ext=\"*.wav\"):\n",
    "    c = 0\n",
    "    label, feature = [], []\n",
    "    for sub_dir in sub_dirs:\n",
    "        for fn in tqdm(\n",
    "                glob.glob(os.path.join(parent_dir, sub_dir,\n",
    "                                       file_ext))):  # 遍历数据集的所有文件\n",
    "\n",
    "            # segment_log_specgrams, segment_labels = [], []\n",
    "            #sound_clip,sr = librosa.load(fn)\n",
    "            #print(fn)\n",
    "            label_name = fn.split('/')[-2]\n",
    "            label.extend([label_dict[label_name]])\n",
    "            X, sample_rate = librosa.load(fn, res_type='kaiser_fast')\n",
    "            mels = np.mean(librosa.feature.melspectrogram(y=X,\n",
    "                                                          sr=sample_rate).T,\n",
    "                           axis=0)  # 计算梅尔频谱(mel spectrogram),并把它作为特征\n",
    "            feature.extend([mels])\n",
    "\n",
    "    return [feature, label]"
   ]
  },
  {
   "cell_type": "code",
   "execution_count": null,
   "metadata": {
    "ExecuteTime": {
     "start_time": "2021-04-15T02:12:51.638Z"
    }
   },
   "outputs": [
    {
     "name": "stderr",
     "output_type": "stream",
     "text": [
      "100%|██████████| 340/340 [00:08<00:00, 38.34it/s]\n",
      "100%|██████████| 372/372 [00:10<00:00, 37.18it/s]\n",
      "100%|██████████| 329/329 [00:17<00:00, 18.66it/s]\n",
      "100%|██████████| 499/499 [00:26<00:00, 18.93it/s]\n",
      "100%|██████████| 413/413 [00:19<00:00, 21.27it/s]\n",
      " 61%|██████    | 273/446 [00:12<00:08, 20.52it/s]"
     ]
    }
   ],
   "source": [
    "# 全部数据参与训练\n",
    "parent_dir = '/Users/sampras/Desktop/待学习/NLP/语音识别/数据集/train'\n",
    "save_dir = \"/Users/sampras/Desktop/待学习/NLP/语音识别/数据集/\"\n",
    "folds = sub_dirs = np.array([\n",
    "    'aloe', 'burger', 'cabbage', 'candied_fruits', 'carrots', 'chips',\n",
    "    'chocolate', 'drinks', 'fries', 'grapes', 'gummies', 'ice-cream', 'jelly',\n",
    "    'noodles', 'pickles', 'pizza', 'ribs', 'salmon', 'soup', 'wings'\n",
    "])\n",
    "\n",
    "# 获取特征feature以及类别的label\n",
    "temp = extract_features(parent_dir, sub_dirs)"
   ]
  },
  {
   "cell_type": "code",
   "execution_count": null,
   "metadata": {
    "ExecuteTime": {
     "start_time": "2021-04-15T02:12:56.206Z"
    }
   },
   "outputs": [],
   "source": [
    "temp = np.array(temp)\n",
    "data = temp.transpose()"
   ]
  },
  {
   "cell_type": "code",
   "execution_count": null,
   "metadata": {
    "ExecuteTime": {
     "start_time": "2021-04-15T02:12:57.736Z"
    }
   },
   "outputs": [],
   "source": [
    "# 获取特征\n",
    "X = np.vstack(data[:, 0])\n",
    "\n",
    "# 获取标签\n",
    "Y = np.array(data[:, 1])\n",
    "print('X的特征尺寸是：', X.shape)\n",
    "print('Y的特征尺寸是：', Y.shape)"
   ]
  },
  {
   "cell_type": "code",
   "execution_count": 11,
   "metadata": {
    "ExecuteTime": {
     "end_time": "2021-04-15T02:03:59.303229Z",
     "start_time": "2021-04-15T02:03:59.300509Z"
    }
   },
   "outputs": [],
   "source": [
    "# 在Keras库中：to_categorical就是将类别向量转换为二进制（只有0和1）的矩阵类型表示\n",
    "Y = to_categorical(Y)"
   ]
  },
  {
   "cell_type": "code",
   "execution_count": 12,
   "metadata": {
    "ExecuteTime": {
     "end_time": "2021-04-15T02:04:00.823143Z",
     "start_time": "2021-04-15T02:04:00.819987Z"
    }
   },
   "outputs": [
    {
     "name": "stdout",
     "output_type": "stream",
     "text": [
      "(2000, 128)\n",
      "(2000, 20)\n"
     ]
    }
   ],
   "source": [
    "'''最终数据'''\n",
    "print(X.shape)\n",
    "print(Y.shape)"
   ]
  },
  {
   "cell_type": "code",
   "execution_count": 13,
   "metadata": {
    "ExecuteTime": {
     "end_time": "2021-04-15T02:04:03.900058Z",
     "start_time": "2021-04-15T02:04:03.861588Z"
    }
   },
   "outputs": [
    {
     "name": "stdout",
     "output_type": "stream",
     "text": [
      "训练集的大小 1500\n",
      "测试集的大小 500\n"
     ]
    }
   ],
   "source": [
    "X_train, X_test, Y_train, Y_test = train_test_split(X,\n",
    "                                                    Y,\n",
    "                                                    random_state=1,\n",
    "                                                    stratify=Y)\n",
    "print('训练集的大小', len(X_train))\n",
    "print('测试集的大小', len(X_test))"
   ]
  },
  {
   "cell_type": "code",
   "execution_count": 14,
   "metadata": {
    "ExecuteTime": {
     "end_time": "2021-04-15T02:04:08.199715Z",
     "start_time": "2021-04-15T02:04:08.197065Z"
    }
   },
   "outputs": [],
   "source": [
    "X_train = X_train.reshape(-1, 16, 8, 1)\n",
    "X_test = X_test.reshape(-1, 16, 8, 1)"
   ]
  },
  {
   "cell_type": "markdown",
   "metadata": {},
   "source": [
    "## 建立模型"
   ]
  },
  {
   "cell_type": "markdown",
   "metadata": {},
   "source": [
    "### 搭建CNN网络\n",
    "\n",
    "参考：https://www.kaggle.com/leonadoice/task4"
   ]
  },
  {
   "cell_type": "code",
   "execution_count": 15,
   "metadata": {
    "ExecuteTime": {
     "end_time": "2021-04-15T02:04:12.171053Z",
     "start_time": "2021-04-15T02:04:12.042808Z"
    }
   },
   "outputs": [],
   "source": [
    "model = Sequential()\n",
    "\n",
    "# 输入的大小\n",
    "input_dim = (16, 8, 1)\n",
    "\n",
    "model.add(\n",
    "    Conv2D(64, (3, 3),\n",
    "           padding=\"same\",\n",
    "           activation=\"tanh\",\n",
    "           input_shape=input_dim))  # 卷积层\n",
    "model.add(MaxPool2D(pool_size=(2, 2)))  # 最大池化\n",
    "model.add(Conv2D(128, (3, 3), padding=\"same\", activation=\"tanh\"))  #卷积层\n",
    "model.add(MaxPool2D(pool_size=(2, 2)))  # 最大池化层\n",
    "model.add(Dropout(0.1))\n",
    "model.add(Flatten())  # 展开\n",
    "model.add(Dense(1024, activation=\"tanh\"))\n",
    "model.add(Dense(20, activation=\"softmax\"))  # 输出层：20个units输出20个类的概率\n",
    "\n",
    "# 编译模型，设置损失函数，优化方法以及评价标准\n",
    "model.compile(optimizer='adam',\n",
    "              loss='categorical_crossentropy',\n",
    "              metrics=['accuracy'])"
   ]
  },
  {
   "cell_type": "code",
   "execution_count": 16,
   "metadata": {
    "ExecuteTime": {
     "end_time": "2021-04-15T02:04:15.092174Z",
     "start_time": "2021-04-15T02:04:15.087914Z"
    }
   },
   "outputs": [
    {
     "name": "stdout",
     "output_type": "stream",
     "text": [
      "Model: \"sequential\"\n",
      "_________________________________________________________________\n",
      "Layer (type)                 Output Shape              Param #   \n",
      "=================================================================\n",
      "conv2d (Conv2D)              (None, 16, 8, 64)         640       \n",
      "_________________________________________________________________\n",
      "max_pooling2d (MaxPooling2D) (None, 8, 4, 64)          0         \n",
      "_________________________________________________________________\n",
      "conv2d_1 (Conv2D)            (None, 8, 4, 128)         73856     \n",
      "_________________________________________________________________\n",
      "max_pooling2d_1 (MaxPooling2 (None, 4, 2, 128)         0         \n",
      "_________________________________________________________________\n",
      "dropout (Dropout)            (None, 4, 2, 128)         0         \n",
      "_________________________________________________________________\n",
      "flatten (Flatten)            (None, 1024)              0         \n",
      "_________________________________________________________________\n",
      "dense (Dense)                (None, 1024)              1049600   \n",
      "_________________________________________________________________\n",
      "dense_1 (Dense)              (None, 20)                20500     \n",
      "=================================================================\n",
      "Total params: 1,144,596\n",
      "Trainable params: 1,144,596\n",
      "Non-trainable params: 0\n",
      "_________________________________________________________________\n"
     ]
    }
   ],
   "source": [
    "model.summary()"
   ]
  },
  {
   "cell_type": "code",
   "execution_count": 18,
   "metadata": {
    "ExecuteTime": {
     "end_time": "2021-04-15T02:05:55.399728Z",
     "start_time": "2021-04-15T02:05:00.174672Z"
    }
   },
   "outputs": [
    {
     "name": "stdout",
     "output_type": "stream",
     "text": [
      "Epoch 1/50\n",
      "100/100 [==============================] - 1s 11ms/step - loss: 0.3862 - accuracy: 0.8807 - val_loss: 3.2746 - val_accuracy: 0.4900\n",
      "Epoch 2/50\n",
      "100/100 [==============================] - 1s 11ms/step - loss: 0.3704 - accuracy: 0.8873 - val_loss: 3.5357 - val_accuracy: 0.4660\n",
      "Epoch 3/50\n",
      "100/100 [==============================] - 1s 10ms/step - loss: 0.4014 - accuracy: 0.8880 - val_loss: 3.4064 - val_accuracy: 0.4920\n",
      "Epoch 4/50\n",
      "100/100 [==============================] - 1s 10ms/step - loss: 0.3127 - accuracy: 0.9080 - val_loss: 3.5684 - val_accuracy: 0.4760\n",
      "Epoch 5/50\n",
      "100/100 [==============================] - 1s 11ms/step - loss: 0.2585 - accuracy: 0.9240 - val_loss: 3.8338 - val_accuracy: 0.4480\n",
      "Epoch 6/50\n",
      "100/100 [==============================] - 1s 11ms/step - loss: 0.3874 - accuracy: 0.8840 - val_loss: 3.9268 - val_accuracy: 0.4560\n",
      "Epoch 7/50\n",
      "100/100 [==============================] - 1s 11ms/step - loss: 0.3469 - accuracy: 0.9007 - val_loss: 3.8774 - val_accuracy: 0.4740\n",
      "Epoch 8/50\n",
      "100/100 [==============================] - 1s 11ms/step - loss: 0.2503 - accuracy: 0.9260 - val_loss: 3.8234 - val_accuracy: 0.4680\n",
      "Epoch 9/50\n",
      "100/100 [==============================] - 1s 11ms/step - loss: 0.2970 - accuracy: 0.9193 - val_loss: 3.9844 - val_accuracy: 0.4520\n",
      "Epoch 10/50\n",
      "100/100 [==============================] - 1s 12ms/step - loss: 0.2648 - accuracy: 0.9220 - val_loss: 4.2227 - val_accuracy: 0.4620\n",
      "Epoch 11/50\n",
      "100/100 [==============================] - 1s 12ms/step - loss: 0.1822 - accuracy: 0.9540 - val_loss: 3.8420 - val_accuracy: 0.4920\n",
      "Epoch 12/50\n",
      "100/100 [==============================] - 1s 13ms/step - loss: 0.1713 - accuracy: 0.9607 - val_loss: 4.0491 - val_accuracy: 0.4880\n",
      "Epoch 13/50\n",
      "100/100 [==============================] - 1s 11ms/step - loss: 0.1368 - accuracy: 0.9633 - val_loss: 4.0745 - val_accuracy: 0.4920\n",
      "Epoch 14/50\n",
      "100/100 [==============================] - 1s 10ms/step - loss: 0.1514 - accuracy: 0.9593 - val_loss: 4.1375 - val_accuracy: 0.5040\n",
      "Epoch 15/50\n",
      "100/100 [==============================] - 1s 11ms/step - loss: 0.1378 - accuracy: 0.9647 - val_loss: 4.1026 - val_accuracy: 0.5080\n",
      "Epoch 16/50\n",
      "100/100 [==============================] - 1s 11ms/step - loss: 0.1467 - accuracy: 0.9620 - val_loss: 4.3020 - val_accuracy: 0.4960\n",
      "Epoch 17/50\n",
      "100/100 [==============================] - 1s 11ms/step - loss: 0.2192 - accuracy: 0.9353 - val_loss: 5.1681 - val_accuracy: 0.4480\n",
      "Epoch 18/50\n",
      "100/100 [==============================] - 1s 10ms/step - loss: 0.3320 - accuracy: 0.9167 - val_loss: 5.2404 - val_accuracy: 0.4620\n",
      "Epoch 19/50\n",
      "100/100 [==============================] - 1s 11ms/step - loss: 0.3261 - accuracy: 0.9087 - val_loss: 4.7665 - val_accuracy: 0.4320\n",
      "Epoch 20/50\n",
      "100/100 [==============================] - 1s 11ms/step - loss: 0.2266 - accuracy: 0.9380 - val_loss: 4.8401 - val_accuracy: 0.4440\n",
      "Epoch 21/50\n",
      "100/100 [==============================] - 1s 11ms/step - loss: 0.1491 - accuracy: 0.9567 - val_loss: 4.7775 - val_accuracy: 0.4740\n",
      "Epoch 22/50\n",
      "100/100 [==============================] - 1s 10ms/step - loss: 0.1618 - accuracy: 0.9593 - val_loss: 4.5301 - val_accuracy: 0.4680\n",
      "Epoch 23/50\n",
      "100/100 [==============================] - 1s 11ms/step - loss: 0.1408 - accuracy: 0.9580 - val_loss: 4.3825 - val_accuracy: 0.5160\n",
      "Epoch 24/50\n",
      "100/100 [==============================] - 1s 11ms/step - loss: 0.0648 - accuracy: 0.9867 - val_loss: 4.3559 - val_accuracy: 0.5020\n",
      "Epoch 25/50\n",
      "100/100 [==============================] - 1s 11ms/step - loss: 0.1161 - accuracy: 0.9733 - val_loss: 4.4044 - val_accuracy: 0.5140\n",
      "Epoch 26/50\n",
      "100/100 [==============================] - 1s 11ms/step - loss: 0.0919 - accuracy: 0.9780 - val_loss: 4.7251 - val_accuracy: 0.5200\n",
      "Epoch 27/50\n",
      "100/100 [==============================] - 1s 11ms/step - loss: 0.0975 - accuracy: 0.9753 - val_loss: 4.4589 - val_accuracy: 0.4980\n",
      "Epoch 28/50\n",
      "100/100 [==============================] - 1s 11ms/step - loss: 0.1222 - accuracy: 0.9673 - val_loss: 5.0791 - val_accuracy: 0.4740\n",
      "Epoch 29/50\n",
      "100/100 [==============================] - 1s 11ms/step - loss: 0.1502 - accuracy: 0.9587 - val_loss: 4.9497 - val_accuracy: 0.4980\n",
      "Epoch 30/50\n",
      "100/100 [==============================] - 1s 10ms/step - loss: 0.1570 - accuracy: 0.9547 - val_loss: 5.5109 - val_accuracy: 0.4640\n",
      "Epoch 31/50\n",
      "100/100 [==============================] - 1s 10ms/step - loss: 0.2414 - accuracy: 0.9453 - val_loss: 5.1409 - val_accuracy: 0.4820\n",
      "Epoch 32/50\n",
      "100/100 [==============================] - 1s 10ms/step - loss: 0.2160 - accuracy: 0.9387 - val_loss: 5.3625 - val_accuracy: 0.4720\n",
      "Epoch 33/50\n",
      "100/100 [==============================] - 1s 10ms/step - loss: 0.1191 - accuracy: 0.9620 - val_loss: 4.8843 - val_accuracy: 0.5100\n",
      "Epoch 34/50\n",
      "100/100 [==============================] - 1s 10ms/step - loss: 0.1306 - accuracy: 0.9687 - val_loss: 4.7811 - val_accuracy: 0.5080\n",
      "Epoch 35/50\n",
      "100/100 [==============================] - 1s 10ms/step - loss: 0.0710 - accuracy: 0.9780 - val_loss: 4.9749 - val_accuracy: 0.5120\n",
      "Epoch 36/50\n",
      "100/100 [==============================] - 1s 11ms/step - loss: 0.0435 - accuracy: 0.9867 - val_loss: 4.9623 - val_accuracy: 0.5100\n",
      "Epoch 37/50\n",
      "100/100 [==============================] - 1s 11ms/step - loss: 0.0499 - accuracy: 0.9867 - val_loss: 4.9807 - val_accuracy: 0.5080\n",
      "Epoch 38/50\n",
      "100/100 [==============================] - 1s 10ms/step - loss: 0.0595 - accuracy: 0.9827 - val_loss: 5.0727 - val_accuracy: 0.5060\n",
      "Epoch 39/50\n",
      "100/100 [==============================] - 1s 11ms/step - loss: 0.0575 - accuracy: 0.9820 - val_loss: 5.2060 - val_accuracy: 0.5220\n",
      "Epoch 40/50\n",
      "100/100 [==============================] - 1s 11ms/step - loss: 0.0577 - accuracy: 0.9840 - val_loss: 5.2366 - val_accuracy: 0.5060\n",
      "Epoch 41/50\n",
      "100/100 [==============================] - 1s 11ms/step - loss: 0.1362 - accuracy: 0.9713 - val_loss: 5.6071 - val_accuracy: 0.4840\n",
      "Epoch 42/50\n",
      "100/100 [==============================] - 1s 11ms/step - loss: 0.1412 - accuracy: 0.9593 - val_loss: 5.6459 - val_accuracy: 0.4720\n",
      "Epoch 43/50\n",
      "100/100 [==============================] - 1s 12ms/step - loss: 0.2147 - accuracy: 0.9500 - val_loss: 5.9187 - val_accuracy: 0.4980\n",
      "Epoch 44/50\n",
      "100/100 [==============================] - 1s 11ms/step - loss: 0.2222 - accuracy: 0.9513 - val_loss: 5.7147 - val_accuracy: 0.4840\n",
      "Epoch 45/50\n",
      "100/100 [==============================] - 1s 11ms/step - loss: 0.1016 - accuracy: 0.9693 - val_loss: 5.6164 - val_accuracy: 0.5000\n",
      "Epoch 46/50\n",
      "100/100 [==============================] - 1s 11ms/step - loss: 0.0545 - accuracy: 0.9833 - val_loss: 5.3386 - val_accuracy: 0.4960\n",
      "Epoch 47/50\n",
      "100/100 [==============================] - 1s 12ms/step - loss: 0.0372 - accuracy: 0.9900 - val_loss: 5.2783 - val_accuracy: 0.5160\n",
      "Epoch 48/50\n",
      "100/100 [==============================] - 1s 12ms/step - loss: 0.0220 - accuracy: 0.9947 - val_loss: 5.0532 - val_accuracy: 0.5180\n",
      "Epoch 49/50\n",
      "100/100 [==============================] - 1s 11ms/step - loss: 0.0517 - accuracy: 0.9900 - val_loss: 5.5694 - val_accuracy: 0.4840\n",
      "Epoch 50/50\n",
      "100/100 [==============================] - 1s 10ms/step - loss: 0.0970 - accuracy: 0.9767 - val_loss: 5.6776 - val_accuracy: 0.4960\n"
     ]
    },
    {
     "data": {
      "text/plain": [
       "<tensorflow.python.keras.callbacks.History at 0x7fbb11842490>"
      ]
     },
     "execution_count": 18,
     "metadata": {},
     "output_type": "execute_result"
    }
   ],
   "source": [
    "# 训练模型\n",
    "model.fit(X_train,\n",
    "          Y_train,\n",
    "          epochs=50,\n",
    "          batch_size=15,\n",
    "          validation_data=(X_test, Y_test))"
   ]
  },
  {
   "cell_type": "markdown",
   "metadata": {},
   "source": [
    "### 预测测试集"
   ]
  },
  {
   "cell_type": "code",
   "execution_count": 19,
   "metadata": {
    "ExecuteTime": {
     "end_time": "2021-04-15T02:08:50.726216Z",
     "start_time": "2021-04-15T02:08:50.722286Z"
    }
   },
   "outputs": [],
   "source": [
    "def extract_features(test_dir, file_ext=\"*.wav\"):\n",
    "    feature = []\n",
    "    for fn in tqdm(glob.glob(os.path.join(test_dir,\n",
    "                                          file_ext))[:]):  # 遍历数据集的所有文件\n",
    "        X, sample_rate = librosa.load(fn, res_type='kaiser_fast')\n",
    "        mels = np.mean(librosa.feature.melspectrogram(y=X, sr=sample_rate).T,\n",
    "                       axis=0)  # 计算梅尔频谱(mel spectrogram),并把它作为特征\n",
    "        feature.extend([mels])\n",
    "    return feature"
   ]
  },
  {
   "cell_type": "code",
   "execution_count": 20,
   "metadata": {
    "ExecuteTime": {
     "end_time": "2021-04-15T02:10:23.997024Z",
     "start_time": "2021-04-15T02:08:53.766032Z"
    }
   },
   "outputs": [
    {
     "name": "stderr",
     "output_type": "stream",
     "text": [
      "100%|██████████| 2000/2000 [01:30<00:00, 22.17it/s]\n"
     ]
    }
   ],
   "source": [
    "X_test = extract_features('/Users/sampras/Desktop/待学习/NLP/语音识别/数据集/test/')"
   ]
  },
  {
   "cell_type": "code",
   "execution_count": 22,
   "metadata": {
    "ExecuteTime": {
     "end_time": "2021-04-14T16:19:28.748162Z",
     "start_time": "2021-04-14T16:19:28.403433Z"
    }
   },
   "outputs": [],
   "source": [
    "X_test = np.vstack(X_test)\n",
    "predictions = model.predict(X_test.reshape(-1, 16, 8, 1))"
   ]
  },
  {
   "cell_type": "code",
   "execution_count": 24,
   "metadata": {
    "ExecuteTime": {
     "end_time": "2021-04-14T16:19:54.773287Z",
     "start_time": "2021-04-14T16:19:54.728311Z"
    }
   },
   "outputs": [],
   "source": [
    "preds = np.argmax(predictions, axis=1)\n",
    "preds = [label_dict_inv[x] for x in preds]\n",
    "\n",
    "path = glob.glob('/Users/sampras/Desktop/待学习/NLP/语音识别/数据集/test/*.wav')\n",
    "result = pd.DataFrame({'name': path, 'label': preds})\n",
    "\n",
    "result['name'] = result['name'].apply(lambda x: x.split('/')[-1])\n",
    "result.to_csv('submit.csv', index=None)"
   ]
  },
  {
   "cell_type": "code",
   "execution_count": 25,
   "metadata": {
    "ExecuteTime": {
     "end_time": "2021-04-14T16:20:05.592960Z",
     "start_time": "2021-04-14T16:20:05.347708Z"
    }
   },
   "outputs": [
    {
     "name": "stdout",
     "output_type": "stream",
     "text": [
      "    2000\r\n"
     ]
    }
   ],
   "source": [
    "!ls /Users/sampras/Desktop/待学习/NLP/语音识别/数据集/test/*.wav | wc -l"
   ]
  },
  {
   "cell_type": "code",
   "execution_count": 26,
   "metadata": {
    "ExecuteTime": {
     "end_time": "2021-04-14T16:20:10.733042Z",
     "start_time": "2021-04-14T16:20:10.604567Z"
    }
   },
   "outputs": [
    {
     "name": "stdout",
     "output_type": "stream",
     "text": [
      "    2001 submit.csv\r\n"
     ]
    }
   ],
   "source": [
    "!wc -l submit.csv"
   ]
  },
  {
   "cell_type": "code",
   "execution_count": 27,
   "metadata": {
    "ExecuteTime": {
     "end_time": "2021-04-14T16:20:36.810603Z",
     "start_time": "2021-04-14T16:20:36.683895Z"
    }
   },
   "outputs": [
    {
     "name": "stdout",
     "output_type": "stream",
     "text": [
      "/Users/sampras/Desktop/待学习/NLP/Task1 食物声音识别之Baseline学习/Task1 CNN_Baseline_1\r\n"
     ]
    }
   ],
   "source": [
    "!pwd"
   ]
  },
  {
   "cell_type": "code",
   "execution_count": null,
   "metadata": {},
   "outputs": [],
   "source": []
  }
 ],
 "metadata": {
  "kernelspec": {
   "display_name": "Python 3",
   "language": "python",
   "name": "python3"
  },
  "language_info": {
   "codemirror_mode": {
    "name": "ipython",
    "version": 3
   },
   "file_extension": ".py",
   "mimetype": "text/x-python",
   "name": "python",
   "nbconvert_exporter": "python",
   "pygments_lexer": "ipython3",
   "version": "3.7.6"
  },
  "tianchi_metadata": {
   "competitions": [],
   "datasets": [
    {
     "id": "96728",
     "title": "获取数据集标题失败"
    }
   ],
   "description": "",
   "notebookId": "185525",
   "source": "dsw"
  },
  "toc": {
   "base_numbering": 1,
   "nav_menu": {},
   "number_sections": true,
   "sideBar": true,
   "skip_h1_title": false,
   "title_cell": "Table of Contents",
   "title_sidebar": "Contents",
   "toc_cell": false,
   "toc_position": {},
   "toc_section_display": true,
   "toc_window_display": false
  }
 },
 "nbformat": 4,
 "nbformat_minor": 4
}
