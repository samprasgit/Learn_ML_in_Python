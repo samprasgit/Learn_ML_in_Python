{
 "cells": [
  {
   "cell_type": "markdown",
   "metadata": {},
   "source": [
    "## 环境要求\n",
    "\n",
    "- TensorFlow的版本：2.0 + \n",
    "- keras\n",
    "- sklearn\n",
    "- librosa"
   ]
  },
  {
   "cell_type": "code",
   "execution_count": 2,
   "metadata": {
    "ExecuteTime": {
     "end_time": "2021-04-14T16:11:59.578408Z",
     "start_time": "2021-04-14T16:11:58.159033Z"
    }
   },
   "outputs": [],
   "source": [
    "# 基本库\n",
    "\n",
    "import pandas as pd\n",
    "import numpy as np\n",
    "\n",
    "from sklearn.model_selection import train_test_split\n",
    "from sklearn.metrics import classification_report\n",
    "from sklearn.model_selection import GridSearchCV\n",
    "\n",
    "from sklearn.preprocessing import MinMaxScaler"
   ]
  },
  {
   "cell_type": "markdown",
   "metadata": {},
   "source": [
    "## 加载深度学习框架"
   ]
  },
  {
   "cell_type": "code",
   "execution_count": 3,
   "metadata": {
    "ExecuteTime": {
     "end_time": "2021-04-14T16:12:03.282843Z",
     "start_time": "2021-04-14T16:12:00.405806Z"
    }
   },
   "outputs": [],
   "source": [
    "# 搭建分类模型所需要的库\n",
    "\n",
    "from tensorflow.keras.models import Sequential\n",
    "from tensorflow.keras.layers import Conv2D, Flatten, Dense, MaxPool2D, Dropout\n",
    "from tensorflow.keras.utils import to_categorical \n",
    "\n",
    "from sklearn.ensemble import RandomForestClassifier\n",
    "from sklearn.svm import SVC"
   ]
  },
  {
   "cell_type": "markdown",
   "metadata": {},
   "source": [
    "## 加载音频处理库"
   ]
  },
  {
   "cell_type": "code",
   "execution_count": 1,
   "metadata": {
    "ExecuteTime": {
     "end_time": "2021-04-14T16:11:57.475635Z",
     "start_time": "2021-04-14T16:11:48.279623Z"
    }
   },
   "outputs": [
    {
     "name": "stdout",
     "output_type": "stream",
     "text": [
      "Looking in indexes: https://pypi.tuna.tsinghua.edu.cn/simple\n",
      "Collecting librosa\n",
      "  Downloading https://pypi.tuna.tsinghua.edu.cn/packages/26/4d/c22d8ca74ca2c13cd4ac430fa353954886104321877b65fa871939e78591/librosa-0.8.0.tar.gz (183 kB)\n",
      "\u001b[K     |████████████████████████████████| 183 kB 5.6 MB/s eta 0:00:01\n",
      "\u001b[?25hCollecting audioread>=2.0.0\n",
      "  Downloading https://pypi.tuna.tsinghua.edu.cn/packages/b3/d1/e324634c5867a668774d6fe233a83228da4ba16521e19059c15df899737d/audioread-2.1.9.tar.gz (377 kB)\n",
      "\u001b[K     |████████████████████████████████| 377 kB 12.2 MB/s eta 0:00:01\n",
      "\u001b[?25hRequirement already satisfied: numpy>=1.15.0 in /Users/sampras/opt/anaconda3/lib/python3.7/site-packages (from librosa) (1.18.2)\n",
      "Requirement already satisfied: scipy>=1.0.0 in /Users/sampras/opt/anaconda3/lib/python3.7/site-packages (from librosa) (1.4.1)\n",
      "Requirement already satisfied: scikit-learn!=0.19.0,>=0.14.0 in /Users/sampras/opt/anaconda3/lib/python3.7/site-packages (from librosa) (0.23.2)\n",
      "Requirement already satisfied: joblib>=0.14 in /Users/sampras/opt/anaconda3/lib/python3.7/site-packages (from librosa) (0.14.1)\n",
      "Requirement already satisfied: decorator>=3.0.0 in /Users/sampras/opt/anaconda3/lib/python3.7/site-packages (from librosa) (4.4.2)\n",
      "Collecting resampy>=0.2.2\n",
      "  Downloading https://pypi.tuna.tsinghua.edu.cn/packages/79/75/e22272b9c2185fc8f3af6ce37229708b45e8b855fd4bc38b4d6b040fff65/resampy-0.2.2.tar.gz (323 kB)\n",
      "\u001b[K     |████████████████████████████████| 323 kB 11.8 MB/s eta 0:00:01\n",
      "\u001b[?25hRequirement already satisfied: numba>=0.43.0 in /Users/sampras/opt/anaconda3/lib/python3.7/site-packages (from librosa) (0.48.0)\n",
      "Collecting soundfile>=0.9.0\n",
      "  Downloading https://pypi.tuna.tsinghua.edu.cn/packages/13/63/073fc76f2405af3ad1a2e667ac237a527fcdd81d4cbc7e2b721727687453/SoundFile-0.10.3.post1-py2.py3.cp26.cp27.cp32.cp33.cp34.cp35.cp36.pp27.pp32.pp33-none-macosx_10_5_x86_64.macosx_10_6_intel.macosx_10_9_intel.macosx_10_9_x86_64.whl (613 kB)\n",
      "\u001b[K     |████████████████████████████████| 613 kB 4.6 MB/s eta 0:00:01\n",
      "\u001b[?25hCollecting pooch>=1.0\n",
      "  Downloading https://pypi.tuna.tsinghua.edu.cn/packages/40/b9/9876662636ba451d4406543047c0b45ca5b4e830f931308c8274dad1db43/pooch-1.3.0-py3-none-any.whl (51 kB)\n",
      "\u001b[K     |████████████████████████████████| 51 kB 1.8 MB/s  eta 0:00:01\n",
      "\u001b[?25hRequirement already satisfied: threadpoolctl>=2.0.0 in /Users/sampras/opt/anaconda3/lib/python3.7/site-packages (from scikit-learn!=0.19.0,>=0.14.0->librosa) (2.1.0)\n",
      "Requirement already satisfied: six>=1.3 in /Users/sampras/opt/anaconda3/lib/python3.7/site-packages (from resampy>=0.2.2->librosa) (1.14.0)\n",
      "Requirement already satisfied: llvmlite<0.32.0,>=0.31.0dev0 in /Users/sampras/opt/anaconda3/lib/python3.7/site-packages (from numba>=0.43.0->librosa) (0.31.0)\n",
      "Requirement already satisfied: setuptools in /Users/sampras/opt/anaconda3/lib/python3.7/site-packages (from numba>=0.43.0->librosa) (46.1.3.post20200330)\n",
      "Requirement already satisfied: cffi>=1.0 in /Users/sampras/opt/anaconda3/lib/python3.7/site-packages (from soundfile>=0.9.0->librosa) (1.14.0)\n",
      "Requirement already satisfied: requests in /Users/sampras/opt/anaconda3/lib/python3.7/site-packages (from pooch>=1.0->librosa) (2.23.0)\n",
      "Requirement already satisfied: appdirs in /Users/sampras/.local/lib/python3.7/site-packages (from pooch>=1.0->librosa) (1.4.3)\n",
      "Requirement already satisfied: packaging in /Users/sampras/opt/anaconda3/lib/python3.7/site-packages (from pooch>=1.0->librosa) (20.3)\n",
      "Requirement already satisfied: pycparser in /Users/sampras/opt/anaconda3/lib/python3.7/site-packages (from cffi>=1.0->soundfile>=0.9.0->librosa) (2.20)\n",
      "Requirement already satisfied: urllib3!=1.25.0,!=1.25.1,<1.26,>=1.21.1 in /Users/sampras/opt/anaconda3/lib/python3.7/site-packages (from requests->pooch>=1.0->librosa) (1.25.8)\n",
      "Requirement already satisfied: certifi>=2017.4.17 in /Users/sampras/opt/anaconda3/lib/python3.7/site-packages (from requests->pooch>=1.0->librosa) (2020.4.5.1)\n",
      "Requirement already satisfied: idna<3,>=2.5 in /Users/sampras/opt/anaconda3/lib/python3.7/site-packages (from requests->pooch>=1.0->librosa) (2.9)\n",
      "Requirement already satisfied: chardet<4,>=3.0.2 in /Users/sampras/opt/anaconda3/lib/python3.7/site-packages (from requests->pooch>=1.0->librosa) (3.0.4)\n",
      "Requirement already satisfied: pyparsing>=2.0.2 in /Users/sampras/opt/anaconda3/lib/python3.7/site-packages (from packaging->pooch>=1.0->librosa) (2.4.6)\n",
      "Building wheels for collected packages: librosa, audioread, resampy\n",
      "  Building wheel for librosa (setup.py) ... \u001b[?25ldone\n",
      "\u001b[?25h  Created wheel for librosa: filename=librosa-0.8.0-py3-none-any.whl size=201374 sha256=f57d570bf49fa0e2e2c23bc32c6aa915e7935f2ef6c0b0ed1fb643d75c2eaf9a\n",
      "  Stored in directory: /Users/sampras/Library/Caches/pip/wheels/c6/08/26/9d7dec1c2dc863d8f1fdc1ac39883e2601dc6fa63fcd68183f\n",
      "  Building wheel for audioread (setup.py) ... \u001b[?25ldone\n",
      "\u001b[?25h  Created wheel for audioread: filename=audioread-2.1.9-py3-none-any.whl size=23142 sha256=1cc9ce52b5227f39fda38261e64321847cf1cbd17bb713b6ce633ae151e7005c\n",
      "  Stored in directory: /Users/sampras/Library/Caches/pip/wheels/71/76/34/82f346dbd557abb79d415dd4c55281db62cca581ceb1099e0f\n",
      "  Building wheel for resampy (setup.py) ... \u001b[?25ldone\n",
      "\u001b[?25h  Created wheel for resampy: filename=resampy-0.2.2-py3-none-any.whl size=320720 sha256=878932cb5686a213e1695c667d6ca109be111066ce78ecad0dc400da8ce3bbb9\n",
      "  Stored in directory: /Users/sampras/Library/Caches/pip/wheels/ad/c3/72/f5733d5e4abc9a637c9f6834a1a29429b4cd57b30a4585f91a\n",
      "Successfully built librosa audioread resampy\n",
      "Installing collected packages: audioread, resampy, soundfile, pooch, librosa\n",
      "Successfully installed audioread-2.1.9 librosa-0.8.0 pooch-1.3.0 resampy-0.2.2 soundfile-0.10.3.post1\n"
     ]
    }
   ],
   "source": [
    "!pip install librosa --user"
   ]
  },
  {
   "cell_type": "code",
   "execution_count": 4,
   "metadata": {
    "ExecuteTime": {
     "end_time": "2021-04-14T16:12:07.910856Z",
     "start_time": "2021-04-14T16:12:07.267382Z"
    }
   },
   "outputs": [],
   "source": [
    "# 其他库\n",
    "\n",
    "import os\n",
    "import librosa\n",
    "import librosa.display\n",
    "import glob"
   ]
  },
  {
   "cell_type": "markdown",
   "metadata": {},
   "source": [
    "## 特征提取以及数据集的建立"
   ]
  },
  {
   "cell_type": "code",
   "execution_count": 5,
   "metadata": {
    "ExecuteTime": {
     "end_time": "2021-04-14T16:12:19.891919Z",
     "start_time": "2021-04-14T16:12:19.887557Z"
    }
   },
   "outputs": [],
   "source": [
    "feature = []\n",
    "label = []\n",
    "# 建立类别标签，不同类别对应不同的数字。\n",
    "label_dict = {\n",
    "    'aloe': 0,\n",
    "    'burger': 1,\n",
    "    'cabbage': 2,\n",
    "    'candied_fruits': 3,\n",
    "    'carrots': 4,\n",
    "    'chips': 5,\n",
    "    'chocolate': 6,\n",
    "    'drinks': 7,\n",
    "    'fries': 8,\n",
    "    'grapes': 9,\n",
    "    'gummies': 10,\n",
    "    'ice-cream': 11,\n",
    "    'jelly': 12,\n",
    "    'noodles': 13,\n",
    "    'pickles': 14,\n",
    "    'pizza': 15,\n",
    "    'ribs': 16,\n",
    "    'salmon': 17,\n",
    "    'soup': 18,\n",
    "    'wings': 19\n",
    "}\n",
    "label_dict_inv = {v: k for k, v in label_dict.items()}"
   ]
  },
  {
   "cell_type": "code",
   "execution_count": 6,
   "metadata": {
    "ExecuteTime": {
     "end_time": "2021-04-14T16:12:29.869983Z",
     "start_time": "2021-04-14T16:12:29.863934Z"
    }
   },
   "outputs": [],
   "source": [
    "from tqdm import tqdm\n",
    "\n",
    "\n",
    "def extract_features(parent_dir, sub_dirs, max_file=10, file_ext=\"*.wav\"):\n",
    "    c = 0\n",
    "    label, feature = [], []\n",
    "    for sub_dir in sub_dirs:\n",
    "        for fn in tqdm(\n",
    "                glob.glob(os.path.join(parent_dir, sub_dir,\n",
    "                                       file_ext))[:max_file]):  # 遍历数据集的所有文件\n",
    "\n",
    "            # segment_log_specgrams, segment_labels = [], []\n",
    "            #sound_clip,sr = librosa.load(fn)\n",
    "            #print(fn)\n",
    "            label_name = fn.split('/')[-2]\n",
    "            label.extend([label_dict[label_name]])\n",
    "            X, sample_rate = librosa.load(fn, res_type='kaiser_fast')\n",
    "            mels = np.mean(librosa.feature.melspectrogram(y=X,\n",
    "                                                          sr=sample_rate).T,\n",
    "                           axis=0)  # 计算梅尔频谱(mel spectrogram),并把它作为特征\n",
    "            feature.extend([mels])\n",
    "\n",
    "    return [feature, label]"
   ]
  },
  {
   "cell_type": "code",
   "execution_count": 10,
   "metadata": {
    "ExecuteTime": {
     "end_time": "2021-04-14T16:15:56.782342Z",
     "start_time": "2021-04-14T16:14:20.373847Z"
    }
   },
   "outputs": [
    {
     "name": "stderr",
     "output_type": "stream",
     "text": [
      "100%|██████████| 100/100 [00:03<00:00, 31.98it/s]\n",
      "100%|██████████| 100/100 [00:02<00:00, 36.13it/s]\n",
      "100%|██████████| 100/100 [00:05<00:00, 19.06it/s]\n",
      "100%|██████████| 100/100 [00:05<00:00, 18.10it/s]\n",
      "100%|██████████| 100/100 [00:04<00:00, 21.24it/s]\n",
      "100%|██████████| 100/100 [00:04<00:00, 20.99it/s]\n",
      "100%|██████████| 100/100 [00:04<00:00, 20.86it/s]\n",
      "100%|██████████| 100/100 [00:04<00:00, 24.60it/s]\n",
      "100%|██████████| 100/100 [00:04<00:00, 22.19it/s]\n",
      "100%|██████████| 100/100 [00:04<00:00, 20.55it/s]\n",
      "100%|██████████| 100/100 [00:05<00:00, 18.93it/s]\n",
      "100%|██████████| 100/100 [00:05<00:00, 16.84it/s]\n",
      "100%|██████████| 100/100 [00:04<00:00, 20.61it/s]\n",
      "100%|██████████| 100/100 [00:04<00:00, 21.05it/s]\n",
      "100%|██████████| 100/100 [00:05<00:00, 19.39it/s]\n",
      "100%|██████████| 100/100 [00:06<00:00, 16.53it/s]\n",
      "100%|██████████| 100/100 [00:05<00:00, 18.14it/s]\n",
      "100%|██████████| 100/100 [00:05<00:00, 17.66it/s]\n",
      "100%|██████████| 100/100 [00:03<00:00, 28.01it/s]\n",
      "100%|██████████| 100/100 [00:05<00:00, 19.32it/s]\n"
     ]
    }
   ],
   "source": [
    "# 自己更改目录\n",
    "# 全部数据参与训练\n",
    "parent_dir = '/Users/sampras/Desktop/待学习/NLP/语音识别/数据集/train'\n",
    "save_dir = \"./\"\n",
    "folds = sub_dirs = np.array([\n",
    "    'aloe', 'burger', 'cabbage', 'candied_fruits', 'carrots', 'chips',\n",
    "    'chocolate', 'drinks', 'fries', 'grapes', 'gummies', 'ice-cream', 'jelly',\n",
    "    'noodles', 'pickles', 'pizza', 'ribs', 'salmon', 'soup', 'wings'\n",
    "])\n",
    "\n",
    "# 获取特征feature以及类别的label\n",
    "temp = extract_features(parent_dir, sub_dirs, max_file=100)"
   ]
  },
  {
   "cell_type": "code",
   "execution_count": 11,
   "metadata": {
    "ExecuteTime": {
     "end_time": "2021-04-14T16:16:03.968753Z",
     "start_time": "2021-04-14T16:16:03.965839Z"
    }
   },
   "outputs": [],
   "source": [
    "temp = np.array(temp)\n",
    "data = temp.transpose()"
   ]
  },
  {
   "cell_type": "code",
   "execution_count": 12,
   "metadata": {
    "ExecuteTime": {
     "end_time": "2021-04-14T16:16:07.674012Z",
     "start_time": "2021-04-14T16:16:07.667370Z"
    }
   },
   "outputs": [
    {
     "name": "stdout",
     "output_type": "stream",
     "text": [
      "X的特征尺寸是： (2000, 128)\n",
      "Y的特征尺寸是： (2000,)\n"
     ]
    }
   ],
   "source": [
    "# 获取特征\n",
    "X = np.vstack(data[:, 0])\n",
    "\n",
    "# 获取标签\n",
    "Y = np.array(data[:, 1])\n",
    "print('X的特征尺寸是：', X.shape)\n",
    "print('Y的特征尺寸是：', Y.shape)"
   ]
  },
  {
   "cell_type": "code",
   "execution_count": 13,
   "metadata": {
    "ExecuteTime": {
     "end_time": "2021-04-14T16:16:14.990414Z",
     "start_time": "2021-04-14T16:16:14.987890Z"
    }
   },
   "outputs": [],
   "source": [
    "# 在Keras库中：to_categorical就是将类别向量转换为二进制（只有0和1）的矩阵类型表示\n",
    "Y = to_categorical(Y)"
   ]
  },
  {
   "cell_type": "code",
   "execution_count": 14,
   "metadata": {
    "ExecuteTime": {
     "end_time": "2021-04-14T16:16:18.231717Z",
     "start_time": "2021-04-14T16:16:18.228232Z"
    }
   },
   "outputs": [
    {
     "name": "stdout",
     "output_type": "stream",
     "text": [
      "(2000, 128)\n",
      "(2000, 20)\n"
     ]
    }
   ],
   "source": [
    "'''最终数据'''\n",
    "print(X.shape)\n",
    "print(Y.shape)"
   ]
  },
  {
   "cell_type": "code",
   "execution_count": 15,
   "metadata": {
    "ExecuteTime": {
     "end_time": "2021-04-14T16:16:24.702661Z",
     "start_time": "2021-04-14T16:16:24.662471Z"
    }
   },
   "outputs": [
    {
     "name": "stdout",
     "output_type": "stream",
     "text": [
      "训练集的大小 1500\n",
      "测试集的大小 500\n"
     ]
    }
   ],
   "source": [
    "X_train, X_test, Y_train, Y_test = train_test_split(X,\n",
    "                                                    Y,\n",
    "                                                    random_state=1,\n",
    "                                                    stratify=Y)\n",
    "print('训练集的大小', len(X_train))\n",
    "print('测试集的大小', len(X_test))"
   ]
  },
  {
   "cell_type": "code",
   "execution_count": 16,
   "metadata": {
    "ExecuteTime": {
     "end_time": "2021-04-14T16:16:28.433677Z",
     "start_time": "2021-04-14T16:16:28.430763Z"
    }
   },
   "outputs": [],
   "source": [
    "X_train = X_train.reshape(-1, 16, 8, 1)\n",
    "X_test = X_test.reshape(-1, 16, 8, 1)"
   ]
  },
  {
   "cell_type": "markdown",
   "metadata": {},
   "source": [
    "## 建立模型"
   ]
  },
  {
   "cell_type": "markdown",
   "metadata": {},
   "source": [
    "### 搭建CNN网络"
   ]
  },
  {
   "cell_type": "code",
   "execution_count": 17,
   "metadata": {
    "ExecuteTime": {
     "end_time": "2021-04-14T16:16:33.311212Z",
     "start_time": "2021-04-14T16:16:33.201887Z"
    }
   },
   "outputs": [],
   "source": [
    "model = Sequential()\n",
    "\n",
    "# 输入的大小\n",
    "input_dim = (16, 8, 1)\n",
    "\n",
    "model.add(\n",
    "    Conv2D(64, (3, 3),\n",
    "           padding=\"same\",\n",
    "           activation=\"tanh\",\n",
    "           input_shape=input_dim))  # 卷积层\n",
    "model.add(MaxPool2D(pool_size=(2, 2)))  # 最大池化\n",
    "model.add(Conv2D(128, (3, 3), padding=\"same\", activation=\"tanh\"))  #卷积层\n",
    "model.add(MaxPool2D(pool_size=(2, 2)))  # 最大池化层\n",
    "model.add(Dropout(0.1))\n",
    "model.add(Flatten())  # 展开\n",
    "model.add(Dense(1024, activation=\"tanh\"))\n",
    "model.add(Dense(20, activation=\"softmax\"))  # 输出层：20个units输出20个类的概率\n",
    "\n",
    "# 编译模型，设置损失函数，优化方法以及评价标准\n",
    "model.compile(optimizer='adam',\n",
    "              loss='categorical_crossentropy',\n",
    "              metrics=['accuracy'])"
   ]
  },
  {
   "cell_type": "code",
   "execution_count": 18,
   "metadata": {
    "ExecuteTime": {
     "end_time": "2021-04-14T16:16:36.045365Z",
     "start_time": "2021-04-14T16:16:36.041552Z"
    }
   },
   "outputs": [
    {
     "name": "stdout",
     "output_type": "stream",
     "text": [
      "Model: \"sequential\"\n",
      "_________________________________________________________________\n",
      "Layer (type)                 Output Shape              Param #   \n",
      "=================================================================\n",
      "conv2d (Conv2D)              (None, 16, 8, 64)         640       \n",
      "_________________________________________________________________\n",
      "max_pooling2d (MaxPooling2D) (None, 8, 4, 64)          0         \n",
      "_________________________________________________________________\n",
      "conv2d_1 (Conv2D)            (None, 8, 4, 128)         73856     \n",
      "_________________________________________________________________\n",
      "max_pooling2d_1 (MaxPooling2 (None, 4, 2, 128)         0         \n",
      "_________________________________________________________________\n",
      "dropout (Dropout)            (None, 4, 2, 128)         0         \n",
      "_________________________________________________________________\n",
      "flatten (Flatten)            (None, 1024)              0         \n",
      "_________________________________________________________________\n",
      "dense (Dense)                (None, 1024)              1049600   \n",
      "_________________________________________________________________\n",
      "dense_1 (Dense)              (None, 20)                20500     \n",
      "=================================================================\n",
      "Total params: 1,144,596\n",
      "Trainable params: 1,144,596\n",
      "Non-trainable params: 0\n",
      "_________________________________________________________________\n"
     ]
    }
   ],
   "source": [
    "model.summary()"
   ]
  },
  {
   "cell_type": "code",
   "execution_count": 19,
   "metadata": {
    "ExecuteTime": {
     "end_time": "2021-04-14T16:17:03.606324Z",
     "start_time": "2021-04-14T16:16:42.126326Z"
    }
   },
   "outputs": [
    {
     "name": "stdout",
     "output_type": "stream",
     "text": [
      "Epoch 1/20\n",
      "100/100 [==============================] - 1s 12ms/step - loss: 2.8033 - accuracy: 0.1413 - val_loss: 2.6153 - val_accuracy: 0.1940\n",
      "Epoch 2/20\n",
      "100/100 [==============================] - 1s 10ms/step - loss: 2.4323 - accuracy: 0.2553 - val_loss: 2.5242 - val_accuracy: 0.2340\n",
      "Epoch 3/20\n",
      "100/100 [==============================] - 1s 10ms/step - loss: 2.2373 - accuracy: 0.3173 - val_loss: 2.3874 - val_accuracy: 0.3080\n",
      "Epoch 4/20\n",
      "100/100 [==============================] - 1s 10ms/step - loss: 1.9994 - accuracy: 0.3827 - val_loss: 2.4100 - val_accuracy: 0.3100\n",
      "Epoch 5/20\n",
      "100/100 [==============================] - 1s 11ms/step - loss: 1.7971 - accuracy: 0.4567 - val_loss: 2.3388 - val_accuracy: 0.3380\n",
      "Epoch 6/20\n",
      "100/100 [==============================] - 1s 10ms/step - loss: 1.6388 - accuracy: 0.4780 - val_loss: 2.2606 - val_accuracy: 0.3600\n",
      "Epoch 7/20\n",
      "100/100 [==============================] - 1s 10ms/step - loss: 1.4548 - accuracy: 0.5513 - val_loss: 2.2428 - val_accuracy: 0.4000\n",
      "Epoch 8/20\n",
      "100/100 [==============================] - 1s 10ms/step - loss: 1.3090 - accuracy: 0.6013 - val_loss: 2.4978 - val_accuracy: 0.3780\n",
      "Epoch 9/20\n",
      "100/100 [==============================] - 1s 10ms/step - loss: 1.2092 - accuracy: 0.6220 - val_loss: 2.4989 - val_accuracy: 0.4080\n",
      "Epoch 10/20\n",
      "100/100 [==============================] - 1s 11ms/step - loss: 1.1218 - accuracy: 0.6613 - val_loss: 2.5597 - val_accuracy: 0.3920\n",
      "Epoch 11/20\n",
      "100/100 [==============================] - 1s 11ms/step - loss: 0.9417 - accuracy: 0.7167 - val_loss: 2.4909 - val_accuracy: 0.4200\n",
      "Epoch 12/20\n",
      "100/100 [==============================] - 1s 10ms/step - loss: 0.7926 - accuracy: 0.7520 - val_loss: 2.6453 - val_accuracy: 0.4460\n",
      "Epoch 13/20\n",
      "100/100 [==============================] - 1s 10ms/step - loss: 0.7987 - accuracy: 0.7547 - val_loss: 2.6661 - val_accuracy: 0.4520\n",
      "Epoch 14/20\n",
      "100/100 [==============================] - 1s 10ms/step - loss: 0.7184 - accuracy: 0.7847 - val_loss: 2.7646 - val_accuracy: 0.4480\n",
      "Epoch 15/20\n",
      "100/100 [==============================] - 1s 11ms/step - loss: 0.6740 - accuracy: 0.7940 - val_loss: 2.8474 - val_accuracy: 0.4460\n",
      "Epoch 16/20\n",
      "100/100 [==============================] - 1s 11ms/step - loss: 0.5367 - accuracy: 0.8280 - val_loss: 3.0425 - val_accuracy: 0.4260\n",
      "Epoch 17/20\n",
      "100/100 [==============================] - 1s 11ms/step - loss: 0.5360 - accuracy: 0.8287 - val_loss: 3.0875 - val_accuracy: 0.4360\n",
      "Epoch 18/20\n",
      "100/100 [==============================] - 1s 10ms/step - loss: 0.4977 - accuracy: 0.8513 - val_loss: 3.2242 - val_accuracy: 0.4620\n",
      "Epoch 19/20\n",
      "100/100 [==============================] - 1s 10ms/step - loss: 0.4308 - accuracy: 0.8840 - val_loss: 3.1691 - val_accuracy: 0.4620\n",
      "Epoch 20/20\n",
      "100/100 [==============================] - 1s 10ms/step - loss: 0.3886 - accuracy: 0.8900 - val_loss: 3.4537 - val_accuracy: 0.4520\n"
     ]
    },
    {
     "data": {
      "text/plain": [
       "<tensorflow.python.keras.callbacks.History at 0x7ff767e0eb10>"
      ]
     },
     "execution_count": 19,
     "metadata": {},
     "output_type": "execute_result"
    }
   ],
   "source": [
    "# 训练模型\n",
    "model.fit(X_train,\n",
    "          Y_train,\n",
    "          epochs=20,\n",
    "          batch_size=15,\n",
    "          validation_data=(X_test, Y_test))"
   ]
  },
  {
   "cell_type": "markdown",
   "metadata": {},
   "source": [
    "### 预测测试集"
   ]
  },
  {
   "cell_type": "code",
   "execution_count": 20,
   "metadata": {
    "ExecuteTime": {
     "end_time": "2021-04-14T16:17:07.986471Z",
     "start_time": "2021-04-14T16:17:07.981975Z"
    }
   },
   "outputs": [],
   "source": [
    "def extract_features(test_dir, file_ext=\"*.wav\"):\n",
    "    feature = []\n",
    "    for fn in tqdm(glob.glob(os.path.join(test_dir,\n",
    "                                          file_ext))[:]):  # 遍历数据集的所有文件\n",
    "        X, sample_rate = librosa.load(fn, res_type='kaiser_fast')\n",
    "        mels = np.mean(librosa.feature.melspectrogram(y=X, sr=sample_rate).T,\n",
    "                       axis=0)  # 计算梅尔频谱(mel spectrogram),并把它作为特征\n",
    "        feature.extend([mels])\n",
    "    return feature"
   ]
  },
  {
   "cell_type": "code",
   "execution_count": 21,
   "metadata": {
    "ExecuteTime": {
     "end_time": "2021-04-14T16:19:25.818379Z",
     "start_time": "2021-04-14T16:17:47.339188Z"
    }
   },
   "outputs": [
    {
     "name": "stderr",
     "output_type": "stream",
     "text": [
      "100%|██████████| 2000/2000 [01:38<00:00, 20.31it/s]\n"
     ]
    }
   ],
   "source": [
    "X_test = extract_features('/Users/sampras/Desktop/待学习/NLP/语音识别/数据集/test/')"
   ]
  },
  {
   "cell_type": "code",
   "execution_count": 22,
   "metadata": {
    "ExecuteTime": {
     "end_time": "2021-04-14T16:19:28.748162Z",
     "start_time": "2021-04-14T16:19:28.403433Z"
    }
   },
   "outputs": [],
   "source": [
    "X_test = np.vstack(X_test)\n",
    "predictions = model.predict(X_test.reshape(-1, 16, 8, 1))"
   ]
  },
  {
   "cell_type": "code",
   "execution_count": 24,
   "metadata": {
    "ExecuteTime": {
     "end_time": "2021-04-14T16:19:54.773287Z",
     "start_time": "2021-04-14T16:19:54.728311Z"
    }
   },
   "outputs": [],
   "source": [
    "preds = np.argmax(predictions, axis=1)\n",
    "preds = [label_dict_inv[x] for x in preds]\n",
    "\n",
    "path = glob.glob('/Users/sampras/Desktop/待学习/NLP/语音识别/数据集/test/*.wav')\n",
    "result = pd.DataFrame({'name': path, 'label': preds})\n",
    "\n",
    "result['name'] = result['name'].apply(lambda x: x.split('/')[-1])\n",
    "result.to_csv('submit.csv', index=None)"
   ]
  },
  {
   "cell_type": "code",
   "execution_count": 25,
   "metadata": {
    "ExecuteTime": {
     "end_time": "2021-04-14T16:20:05.592960Z",
     "start_time": "2021-04-14T16:20:05.347708Z"
    }
   },
   "outputs": [
    {
     "name": "stdout",
     "output_type": "stream",
     "text": [
      "    2000\r\n"
     ]
    }
   ],
   "source": [
    "!ls /Users/sampras/Desktop/待学习/NLP/语音识别/数据集/test/*.wav | wc -l"
   ]
  },
  {
   "cell_type": "code",
   "execution_count": 26,
   "metadata": {
    "ExecuteTime": {
     "end_time": "2021-04-14T16:20:10.733042Z",
     "start_time": "2021-04-14T16:20:10.604567Z"
    }
   },
   "outputs": [
    {
     "name": "stdout",
     "output_type": "stream",
     "text": [
      "    2001 submit.csv\r\n"
     ]
    }
   ],
   "source": [
    "!wc -l submit.csv"
   ]
  },
  {
   "cell_type": "code",
   "execution_count": 27,
   "metadata": {
    "ExecuteTime": {
     "end_time": "2021-04-14T16:20:36.810603Z",
     "start_time": "2021-04-14T16:20:36.683895Z"
    }
   },
   "outputs": [
    {
     "name": "stdout",
     "output_type": "stream",
     "text": [
      "/Users/sampras/Desktop/待学习/NLP/Task1 食物声音识别之Baseline学习/Task1 CNN_Baseline_1\r\n"
     ]
    }
   ],
   "source": [
    "!pwd"
   ]
  },
  {
   "cell_type": "code",
   "execution_count": null,
   "metadata": {},
   "outputs": [],
   "source": []
  }
 ],
 "metadata": {
  "kernelspec": {
   "display_name": "Python 3",
   "language": "python",
   "name": "python3"
  },
  "language_info": {
   "codemirror_mode": {
    "name": "ipython",
    "version": 3
   },
   "file_extension": ".py",
   "mimetype": "text/x-python",
   "name": "python",
   "nbconvert_exporter": "python",
   "pygments_lexer": "ipython3",
   "version": "3.7.6"
  },
  "tianchi_metadata": {
   "competitions": [],
   "datasets": [
    {
     "id": "96728",
     "title": "获取数据集标题失败"
    }
   ],
   "description": "",
   "notebookId": "185525",
   "source": "dsw"
  },
  "toc": {
   "base_numbering": 1,
   "nav_menu": {},
   "number_sections": true,
   "sideBar": true,
   "skip_h1_title": false,
   "title_cell": "Table of Contents",
   "title_sidebar": "Contents",
   "toc_cell": false,
   "toc_position": {},
   "toc_section_display": true,
   "toc_window_display": false
  }
 },
 "nbformat": 4,
 "nbformat_minor": 4
}
